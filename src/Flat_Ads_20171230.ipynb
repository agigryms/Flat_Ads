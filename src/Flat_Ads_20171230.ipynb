{
 "cells": [
  {
   "cell_type": "code",
   "execution_count": 1,
   "metadata": {
    "collapsed": true
   },
   "outputs": [],
   "source": [
    "import utils as Utils\n",
    "import datetime\n",
    "from bs4 import BeautifulSoup"
   ]
  },
  {
   "cell_type": "code",
   "execution_count": 2,
   "metadata": {
    "collapsed": true
   },
   "outputs": [],
   "source": [
    "# detailed olx\n",
    "def olx_detailed(url):\n",
    "    soup = Utils.request(url)\n",
    "\n",
    "    details = {}\n",
    "\n",
    "    em = soup.find(\"em\")\n",
    "    details['ID'] = Utils.rex(\"[0-9]+\", em.find(\"small\").text)\n",
    "    details['DATES_PUBLISHED_ON'] = Utils.rex(\"o .*20[0-9]+\", em.text)[2:]\n",
    "\n",
    "    seen = soup.find(\"div\", {\"id\":\"offerbottombar\"}).find_all(\"div\")#[2]\n",
    "    details['TIMES_SEEN'] = seen[len(seen) - 1].text.strip().split(':')[1]\n",
    "\n",
    "    details['DATES_UPDATED_ON'] = None\n",
    "    details['DATES_AVAILABLE_FROM'] = None\n",
    "\n",
    "    details['OFERTA_OD'] = None\n",
    "    details['RODZAJ_ZABUDOWY'] = None\n",
    "    details['LICZBA_POKOI'] = None\n",
    "    details['UMEBLOWANE'] = None\n",
    "    details['POWIERZCHNIA'] = None\n",
    "    details['CZYNSZ_DODATKOWO'] = None\n",
    "    details['POZIOM'] = None\n",
    "\n",
    "    detailed_table = soup.find(\"table\", \"details\").find_all(\"th\")\n",
    "    for th in detailed_table:\n",
    "        td = th.find_next_sibling(\"td\")\n",
    "        details['_'.join(th.text.strip().upper()\\\n",
    "                         .replace('(', '').replace(')', '').split(' '))] = td.text.strip()\n",
    "\n",
    "    content = soup.find(\"div\", {\"id\":\"textContent\"})\n",
    "    details['DESCRIPTION'] = content.text.strip()\n",
    "    details['META_DESCRIPTION'] = soup.find(\"meta\", {\"name\":\"description\"})[\"content\"]\n",
    "\n",
    "    contact = soup.find(\"ul\", {\"id\":\"contact_methods\"}).find_all(\"li\")\n",
    "    methods = []\n",
    "    for method in contact:\n",
    "        methods.append(method.find(\"i\")['data-icon'])\n",
    "        if method.find(\"i\")[\"data-icon\"] == \"phone\":\n",
    "            methods.append(method.find(\"strong\").text)\n",
    "    details['CONTACT'] = ','.join(methods)\n",
    "\n",
    "    return details    \n"
   ]
  },
  {
   "cell_type": "code",
   "execution_count": 3,
   "metadata": {
    "collapsed": true
   },
   "outputs": [],
   "source": [
    "# detailed oto\n",
    "def oto_detailed(url):\n",
    "    soup = Utils.request(url)\n",
    "    params = soup.find(\"ul\", \"params-list\")\n",
    "    details = {}\n",
    "\n",
    "    today = datetime.datetime.now().strftime(\"%d.%m.%Y\")\n",
    "\n",
    "    div = soup.find(\"div\", \"text-details\")\n",
    "    dates = div.find(\"div\", \"right\").find_all(\"p\")\n",
    "    added = dates[0].text\n",
    "    updated = dates[1].text\n",
    "    details['DATES_UPDATED_ON'] = Utils.rex(\":[ 0-9.]+\", updated)[2:]\n",
    "    details['DATES_PUBLISHED_ON'] = (\"{}. Today is {}\").format(Utils.rex(\":[ a-z0-9.]+\", added)[2:], \\\n",
    "                                                                today)\n",
    "    left = div.find(\"div\", \"left\")\n",
    "    id = left.find(\"p\").text.strip()\n",
    "    details['ID'] = Utils.rex(\"Otodom:[ 0-9]+\", id).split(': ')[1]\n",
    "    seen = left.find_all(\"p\")\n",
    "    for p in seen:\n",
    "        if Utils.rex(\"^Liczba wy\", p.text.strip()):\n",
    "            details['TIMES_SEEN'] = Utils.rex(\"[0-9]+\", p.text.strip())\n",
    "    \n",
    "    details['POWIERZCHNIA'] = None\n",
    "    if params.find(\"li\", \"param_m\"):\n",
    "        details['POWIERZCHNIA'] = params.find(\"li\", \"param_m\").find(\"span\").text\n",
    "\n",
    "    details['LICZBA_POKOI'] = params.find(\"li\", \"param_m\").find_next_sibling(\"li\").find(\"strong\").text\n",
    "    \n",
    "    details['POZIOM'] = None \n",
    "    if params.find(\"li\", \"param_floor_no\"):\n",
    "        details['POZIOM'] = params.find(\"li\", \"param_floor_no\").find(\"span\").text\n",
    "\n",
    "    details['CZYNSZ_DODATKOWO'] = None\n",
    "    details['RODZAJ_ZABUDOWY'] = None\n",
    "    details['UMEBLOWANE'] = None\n",
    "    details['DATES_AVAILABLE_FROM'] = None\n",
    "\n",
    "    if params.find(\"ul\", \"sub-list\"):\n",
    "        sub = params.find(\"ul\", \"sub-list\")\n",
    "        lis = sub.find_all(\"li\")\n",
    "        for li in lis:\n",
    "            if li.find(\"strong\").text == \"Czynsz - dodatkowo:\":\n",
    "                #details['CZYNSZ-EXTRA'] = if_equals_else_none(li.find(\"strong\").text, \"Czynsz - dodatkowo:\", rex(\":[a-z ]+\", li.text)[2:])\n",
    "                details['CZYNSZ_(DODATKOWO)'] = Utils.rex(\":[0-9a-z�~E�~B ]+\", li.text)[2:]\n",
    "\n",
    "            if li.find(\"strong\").text == \"Rodzaj zabudowy:\":\n",
    "                #details['RODZAJ ZABUDOWY'] = if_equals_else_none(li.find(\"strong\").text, \"Rodzaj zabudowy:\", rex(\":[a-z ]+\", li.text)[2:])\n",
    "                details['RODZAJ_ZABUDOWY'] = Utils.rex(\":[a-z ]+\", li.text)[2:]\n",
    "\n",
    "            if li.find(\"strong\").text == \"Stan wyko�~E�~Dczenia:\":\n",
    "                #details['UMEBLOWANE'] = if_equals_else_none(li.find(\"strong\").text, \"Stan wyko�~E�~Dczenia:\", rex(\":[a-z ]+\", li.text)[2:])\n",
    "                details['UMEBLOWANE'] = Utils.rex(\":[a-z ]+\", li.text)[2:]\n",
    "\n",
    "            if li.find(\"strong\").text == \"Dost�~D�~Ypne od:\":\n",
    "                #details['DOSTEPNE OD'] = if_equals_else_none(li.find(\"strong\").text, \"Dost�~D�~Ypne od:\", rex(\"[0-9]+[ a-zA-Z0-9]+\", li.text))\n",
    "                details['DATES_AVAILABLE_FROM'] = Utils.rex(\"[0-9]+[ a-zA-Z0-9]+\", li.text)\n",
    "\n",
    "    contact = soup.find(\"div\", \"box-contact-info\")\n",
    "    if contact.find(\"h6\"):\n",
    "        details['OFERTA_OD'] = contact.find(\"h6\").text\n",
    "    else:\n",
    "        details['OFERTA_OD'] = None\n",
    "    details['CONTACT'] = soup.find(\"span\", \"phone-number\").text.strip()\n",
    "    details['DESCRIPTION'] = soup.find(\"div\", \"text-contents\").find(\"div\", {\"itemprop\":\"description\"}).text.strip()\n",
    "    details['META_DESCRIPTION'] = soup.find(\"meta\", {\"name\":\"description\"})[\"content\"]\n",
    "\n",
    "    return details"
   ]
  },
  {
   "cell_type": "code",
   "execution_count": 66,
   "metadata": {
    "collapsed": true
   },
   "outputs": [],
   "source": [
    "url = \"https://www.otodom.pl/oferta/lux-k-sadu-3-pokoje-gabinet-kuchnia-ID3wasE.html?utm_source=refferals&utm_medium=traffic_exchange&utm_campaign=OLX_nieruchomosci_ad#gallery[1]\"\n",
    "import re"
   ]
  },
  {
   "cell_type": "code",
   "execution_count": 67,
   "metadata": {},
   "outputs": [
    {
     "name": "stdout",
     "output_type": "stream",
     "text": [
      "1\n"
     ]
    }
   ],
   "source": [
    "if re.search(\"Stan wyko\", \"Stan wykonczenia:\"):\n",
    "    print(1)"
   ]
  },
  {
   "cell_type": "code",
   "execution_count": 4,
   "metadata": {
    "collapsed": true
   },
   "outputs": [],
   "source": [
    "soup = Utils.request(url)\n",
    "params = soup.find(\"ul\", \"params-list\")"
   ]
  },
  {
   "cell_type": "code",
   "execution_count": 5,
   "metadata": {},
   "outputs": [
    {
     "data": {
      "text/plain": [
       "{'CONTACT': '501\\nWyświetl numer',\n",
       " 'CZYNSZ_DODATKOWO': None,\n",
       " 'DATES_AVAILABLE_FROM': None,\n",
       " 'DATES_PUBLISHED_ON': '22.12.2017. Today is 30.12.2017',\n",
       " 'DATES_UPDATED_ON': '28.12.2017',\n",
       " 'DESCRIPTION': 'ATRAKCYJNE, CICHE I UMEBLOWANE mieszkanie w budynku z lat 50- tych, z cegły; Administracyjnie -Wola a tak na prawdę 1 przystanek do Placu Bankowego.\\xa0 WSZYSTKO NOWE - w mieszkaniu nikt jeszcze nie mieszkał !!Lokal składa się z : saloniku z którego przechodzi się do gabinetu, 2 sypialni, samodzielnej kuchni oraz łazienki z wc (z kabiną prysznicową).\\xa0Lokal całkowicie umeblowany i wyposażony - w każdym pomieszczeniu kanapa, w jednej sypialni podwójne łóżko; są szafy, duży telewizor, stół z krzesłami i stolik typu ława; kuchnia z pełnym wyposażeniem (włącznie ze zmywarką) - wszystko NOWE. Lokal wolny od 2 stycznia 2018 roku.\\xa0Zapraszamy na prezentację ! WARTO !\\xa0 \\xa0 \\xa0\\xa0\\xa0 \\xa0Pośrednik odpowiedzialny zawodowo za wykonanie umowy pośrednictwa: Maria Stępień (licencja nr: 6934)-W ofercie posiadamy również inne nieruchomości - zapraszamy do kontaktu i na naszą stronę internetową: Biuro gwarantuje bezpieczeństwo transakcji kupna.Oferujemy także bezpłatną pomoc przy uzyskaniu kredytu: określeniu zdolności kredytowych i i uzyskaniu jak najlepszych warunków kredytowania, we wszystkich dostępnych bankach.',\n",
       " 'ID': '51757392',\n",
       " 'LICZBA_POKOI': '3',\n",
       " 'META_DESCRIPTION': 'Zobacz to 3 pokojowe mieszkanie na wynajem w miejscowości Warszawa, Muranów, Nowolipie, za cenę 3 400 zł/miesiąc. To mieszkanie na wynajem  na 2 piętrze ma 61 m² powierzchni użytkowej i 61 m² powierzchni całkowitej. Biuro nieruchomości  jako najważniejsze zalety mieszkania wymienia: meble. Otodom 51757392',\n",
       " 'OFERTA_OD': None,\n",
       " 'POWIERZCHNIA': '61 m²',\n",
       " 'POZIOM': '2 (z 4)',\n",
       " 'RODZAJ_ZABUDOWY': 'kamienica',\n",
       " 'TIMES_SEEN': '121',\n",
       " 'UMEBLOWANE': None}"
      ]
     },
     "execution_count": 5,
     "metadata": {},
     "output_type": "execute_result"
    }
   ],
   "source": [
    "oto = oto_detailed(url)\n",
    "oto"
   ]
  },
  {
   "cell_type": "code",
   "execution_count": 56,
   "metadata": {},
   "outputs": [
    {
     "ename": "TabError",
     "evalue": "inconsistent use of tabs and spaces in indentation (general_olx_oto.py, line 54)",
     "output_type": "error",
     "traceback": [
      "Traceback \u001b[0;36m(most recent call last)\u001b[0m:\n",
      "  File \u001b[1;32m\"/home/agigryms/miniconda3/lib/python3.6/site-packages/IPython/core/interactiveshell.py\"\u001b[0m, line \u001b[1;32m2862\u001b[0m, in \u001b[1;35mrun_code\u001b[0m\n    exec(code_obj, self.user_global_ns, self.user_ns)\n",
      "\u001b[0;36m  File \u001b[0;32m\"<ipython-input-56-8688ad523362>\"\u001b[0;36m, line \u001b[0;32m1\u001b[0;36m, in \u001b[0;35m<module>\u001b[0;36m\u001b[0m\n\u001b[0;31m    import general_olx_oto as General\u001b[0m\n",
      "\u001b[0;36m  File \u001b[0;32m\"/home/agigryms/Notebooks/Flat_Ads/Flat_Ads/src/general_olx_oto.py\"\u001b[0;36m, line \u001b[0;32m54\u001b[0m\n\u001b[0;31m    div = soup_detailed.find(\"div\", \"text-details\")\u001b[0m\n\u001b[0m                                                   ^\u001b[0m\n\u001b[0;31mTabError\u001b[0m\u001b[0;31m:\u001b[0m inconsistent use of tabs and spaces in indentation\n"
     ]
    }
   ],
   "source": [
    "import general_olx_oto as General"
   ]
  },
  {
   "cell_type": "code",
   "execution_count": 68,
   "metadata": {
    "collapsed": true
   },
   "outputs": [],
   "source": [
    "import detailed_olx as Olx\n",
    "import detailed_oto as Oto\n",
    "import utils as Utils\n",
    "import constants as Constants\n",
    "import sqlite3, re, time\n",
    "#import general_olx_oto as General"
   ]
  },
  {
   "cell_type": "code",
   "execution_count": 99,
   "metadata": {},
   "outputs": [
    {
     "name": "stdout",
     "output_type": "stream",
     "text": [
      "<class 'time.struct_time'>\n"
     ]
    }
   ],
   "source": [
    "t0 = time.time()\n",
    "print(type(time.localtime(t0)))\n",
    "#print(Utils.from_epoch(t0))"
   ]
  },
  {
   "cell_type": "code",
   "execution_count": 98,
   "metadata": {},
   "outputs": [
    {
     "data": {
      "text/plain": [
       "str"
      ]
     },
     "execution_count": 98,
     "metadata": {},
     "output_type": "execute_result"
    }
   ],
   "source": [
    "type(Utils.from_epoch(t0))"
   ]
  },
  {
   "cell_type": "code",
   "execution_count": 87,
   "metadata": {},
   "outputs": [
    {
     "data": {
      "text/plain": [
       "time.struct_time(tm_year=2017, tm_mon=12, tm_mday=30, tm_hour=18, tm_min=46, tm_sec=59, tm_wday=5, tm_yday=364, tm_isdst=0)"
      ]
     },
     "execution_count": 87,
     "metadata": {},
     "output_type": "execute_result"
    }
   ],
   "source": [
    "time.localtime(time.time())"
   ]
  },
  {
   "cell_type": "code",
   "execution_count": 90,
   "metadata": {},
   "outputs": [
    {
     "data": {
      "text/plain": [
       "1514656146.9750373"
      ]
     },
     "execution_count": 90,
     "metadata": {},
     "output_type": "execute_result"
    }
   ],
   "source": [
    "type(time.time()) # float\n",
    "time.time()"
   ]
  },
  {
   "cell_type": "code",
   "execution_count": 100,
   "metadata": {},
   "outputs": [
    {
     "data": {
      "text/plain": [
       "1514657554.3765495"
      ]
     },
     "execution_count": 100,
     "metadata": {},
     "output_type": "execute_result"
    }
   ],
   "source": [
    "t0 = time.time()\n",
    "t0"
   ]
  },
  {
   "cell_type": "code",
   "execution_count": 101,
   "metadata": {},
   "outputs": [
    {
     "data": {
      "text/plain": [
       "1514657573.620506"
      ]
     },
     "execution_count": 101,
     "metadata": {},
     "output_type": "execute_result"
    }
   ],
   "source": [
    "t1 = time.time()\n",
    "t1"
   ]
  },
  {
   "cell_type": "code",
   "execution_count": 110,
   "metadata": {},
   "outputs": [
    {
     "name": "stdout",
     "output_type": "stream",
     "text": [
      "2017-12-30 19:18:48\n",
      "2017-12-30 19:19:26\n",
      "Done!\n"
     ]
    }
   ],
   "source": [
    "int(t1 - t0)\n",
    "print(Utils.from_epoch(time.time()))\n",
    "time.sleep(2 * int(t1 - t0))\n",
    "print(Utils.from_epoch(time.time()))\n",
    "print('Done!')"
   ]
  },
  {
   "cell_type": "code",
   "execution_count": 104,
   "metadata": {},
   "outputs": [
    {
     "name": "stdout",
     "output_type": "stream",
     "text": [
      "func started at 2017-12-30 19:12:53 and ran for 19 sec.\n"
     ]
    }
   ],
   "source": [
    "print('func started at {} and ran for {} sec.'.format(Utils.from_epoch(t1), int(t1 - t0)))"
   ]
  },
  {
   "cell_type": "code",
   "execution_count": 115,
   "metadata": {},
   "outputs": [
    {
     "name": "stdout",
     "output_type": "stream",
     "text": [
      "func() start: 2017-12-30 19:12:34\n",
      "Duration: 19 sec\n"
     ]
    }
   ],
   "source": [
    "print('func() start: {}\\nDuration: {} sec'.format(Utils.from_epoch(t0), int(t1 - t0)))"
   ]
  },
  {
   "cell_type": "code",
   "execution_count": 83,
   "metadata": {},
   "outputs": [
    {
     "name": "stdout",
     "output_type": "stream",
     "text": [
      "<class 'tuple'>\n",
      "def from_epoch(t0):\n",
      "    return time.strftime('%Y-%m-%d %H:%M:%S', time.localtime(t0))\n",
      "\n"
     ]
    }
   ],
   "source": [
    "lines = inspect.getsourcelines(Utils.from_epoch)\n",
    "#print(\"\".join(lines[0]))\n",
    "print(type(lines))\n",
    "print((\"\".join(lines[0])))"
   ]
  },
  {
   "cell_type": "code",
   "execution_count": 69,
   "metadata": {},
   "outputs": [
    {
     "name": "stdout",
     "output_type": "stream",
     "text": [
      "<function olx_detailed at 0x779ebe16cd90>\n"
     ]
    }
   ],
   "source": [
    "print(Olx.olx_detailed)"
   ]
  },
  {
   "cell_type": "code",
   "execution_count": 70,
   "metadata": {},
   "outputs": [
    {
     "name": "stdout",
     "output_type": "stream",
     "text": [
      "def oto_detailed(url):\n",
      "    soup = Utils.request(url)\n",
      "    params = soup.find(\"ul\", \"params-list\")\n",
      "\n",
      "    details = {}\n",
      "    \n",
      "    today = datetime.datetime.now().strftime(\"%d.%m.%Y\")\n",
      "    \n",
      "    div = soup.find(\"div\", \"text-details\")\n",
      "    dates = div.find(\"div\", \"right\").find_all(\"p\")\n",
      "    added = dates[0].text\n",
      "    updated = dates[1].text\n",
      "    details['DATES_UPDATED_ON'] = Utils.rex(\":[ 0-9.]+\", updated)[2:]\n",
      "    details['DATES_PUBLISHED_ON'] = (\"{}. Today is {}\").format(Utils.rex(\":[ a-z0-9.]+\", added)[2:], today)\n",
      "\n",
      "\n",
      "    left = div.find(\"div\", \"left\")\n",
      "    # details['ID'] is filled in by main script\n",
      "    # id = left.find(\"p\").text.strip()\n",
      "    # details['ID'] = Utils.rex(\"Otodom:[ 0-9]+\", id).split(': ')[1]\n",
      "    seen = left.find_all(\"p\")\n",
      "    \n",
      "    for p in seen:\n",
      "        if Utils.rex(\"Liczba wy.wietle. strony\", p.text.strip()):\n",
      "            details['TIMES_SEEN'] = Utils.rex(\"[0-9]+\", p.text.strip())\n",
      "\n",
      "\n",
      "    if params.find(\"li\", \"param_m\"):     \n",
      "        details['POWIERZCHNIA'] = params.find(\"li\", \"param_m\").find(\"span\").text    \n",
      "    else:\n",
      "        details['POWIERZCHNIA'] = None\n",
      "    \n",
      "    if params.find(\"li\", \"param_m\").find_next_sibling(\"li\"):    \n",
      "    \tdetails['LICZBA_POKOI'] = params.find(\"li\", \"param_m\").find_next_sibling(\"li\").find(\"strong\").text\n",
      "    else:\n",
      "        details['LICZBA_POKOI'] = None\n",
      "\n",
      "    if params.find(\"li\", \"param_floor_no\"):\n",
      "        details['POZIOM'] = params.find(\"li\", \"param_floor_no\").find(\"span\").text\n",
      "    else:\n",
      "        details['POZIOM'] = None\n",
      "\n",
      "\n",
      "    # properties below may or may not exist    \n",
      "    details['CZYNSZ_DODATKOWO'] = None\n",
      "    details['RODZAJ_ZABUDOWY'] = None\n",
      "    details['UMEBLOWANE'] = None\n",
      "    details['DATES_AVAILABLE_FROM'] = None\n",
      "    details['OFERTA_OD'] = None\n",
      "\n",
      "    if params.find(\"ul\", \"sub-list\"):\n",
      "        sub = params.find(\"ul\", \"sub-list\")\n",
      "        lis = sub.find_all(\"li\")\n",
      "        for li in lis: \n",
      "\n",
      "            if li.find(\"strong\").text == \"Czynsz - dodatkowo:\":\n",
      "                details['CZYNSZ_DODATKOWO'] = Utils.rex(\":[0-9 ]+ z.\", li.text.strip())[2:]\n",
      "\n",
      "            if li.find(\"strong\").text == \"Rodzaj zabudowy:\":\n",
      "                details['RODZAJ_ZABUDOWY'] = Utils.rex(\":[a-z ]+\", li.text)[2:]\n",
      "\n",
      "            if re.search(\"Stan wyko.czenia:\", li.find(\"strong\").text):\n",
      "                details['UMEBLOWANE'] = Utils.rex(\":[a-z ]+\", li.text)[2:]\n",
      "\n",
      "            if re.search(\"Dost.pne od:\", li.find(\"strong\").text):\n",
      "                details['DATES_AVAILABLE_FROM'] = Utils.rex(\"[0-9]+[ a-zA-Z0-9]+\", li.text)\n",
      "\n",
      "\n",
      "    contact = soup.find(\"div\", \"box-contact-info\")\n",
      "    if contact.find(\"h6\"):\n",
      "        details['OFERTA_OD'] = contact.find(\"h6\").text\n",
      "\n",
      "    details['CONTACT'] = soup.find(\"span\", \"phone-number\").text.strip()\n",
      "\n",
      "    details['DESCRIPTION'] = soup.find(\"div\", \"text-contents\").find(\"div\", {\"itemprop\":\"description\"}).text.strip()\n",
      "    details['META_DESCRIPTION'] = soup.find(\"meta\", {\"name\":\"description\"})[\"content\"]\n",
      "    \n",
      "    return details\n",
      "\n"
     ]
    }
   ],
   "source": [
    "import inspect\n",
    "lines = inspect.getsourcelines(Oto.oto_detailed)\n",
    "print(\"\".join(lines[0]))"
   ]
  },
  {
   "cell_type": "code",
   "execution_count": 27,
   "metadata": {
    "collapsed": true
   },
   "outputs": [],
   "source": [
    "conn = sqlite3.connect('/home/agigryms/Notebooks/Flat_Ads/Flat_Ads/ads.db')\n",
    "conn.row_factory = sqlite3.Row\n",
    "conn.isolation_level = None\n",
    "c = conn.cursor()\n"
   ]
  },
  {
   "cell_type": "code",
   "execution_count": 28,
   "metadata": {
    "collapsed": true
   },
   "outputs": [],
   "source": [
    "db_ids = c.execute(Constants.db_ids).fetchall()\n",
    "ids = []\n",
    "for id in db_ids:\n",
    "    ids.append(id['ID'])"
   ]
  },
  {
   "cell_type": "code",
   "execution_count": 29,
   "metadata": {},
   "outputs": [
    {
     "name": "stdout",
     "output_type": "stream",
     "text": [
      "90\n"
     ]
    }
   ],
   "source": [
    "print(len(db_ids)) # 90"
   ]
  },
  {
   "cell_type": "code",
   "execution_count": 55,
   "metadata": {},
   "outputs": [
    {
     "name": "stdout",
     "output_type": "stream",
     "text": [
      "1\n",
      "5\n",
      "3\n",
      "8\n",
      "First multiple of 2 in this list is 8.\n"
     ]
    }
   ],
   "source": [
    "ts = [1, 5, 3, 8, 4, 6]\n",
    "for t in ts:\n",
    "    print(t)\n",
    "    if t % 2 == 0:\n",
    "        print('First multiple of 2 in this list is {}.'.format(t))\n",
    "        break # exits outer loop"
   ]
  },
  {
   "cell_type": "code",
   "execution_count": 212,
   "metadata": {
    "collapsed": true
   },
   "outputs": [],
   "source": [
    "url_all = \"https://www.olx.pl/nieruchomosci/mieszkania/wynajem/warszawa/?search%5Bfilter_float_m%3Afrom%5D=50\""
   ]
  },
  {
   "cell_type": "code",
   "execution_count": 74,
   "metadata": {
    "collapsed": true
   },
   "outputs": [],
   "source": [
    "results = olx_url_main(url_all)"
   ]
  },
  {
   "cell_type": "code",
   "execution_count": 75,
   "metadata": {},
   "outputs": [
    {
     "data": {
      "text/plain": [
       "1"
      ]
     },
     "execution_count": 75,
     "metadata": {},
     "output_type": "execute_result"
    }
   ],
   "source": [
    "len(results)"
   ]
  },
  {
   "cell_type": "code",
   "execution_count": 76,
   "metadata": {},
   "outputs": [
    {
     "name": "stdout",
     "output_type": "stream",
     "text": [
      "386930989\n"
     ]
    }
   ],
   "source": [
    "for result in results:\n",
    "    print(result['ID'])"
   ]
  },
  {
   "cell_type": "code",
   "execution_count": 16,
   "metadata": {
    "collapsed": true
   },
   "outputs": [],
   "source": [
    "url_olx = \"https://www.olx.pl/oferta/mieszkanie-do-wynajecia-warszawa-bemowo-CID3-IDqaNAt.html#2df33b28db\""
   ]
  },
  {
   "cell_type": "code",
   "execution_count": 24,
   "metadata": {},
   "outputs": [
    {
     "data": {
      "text/plain": [
       "{'CONTACT': 'message,phone,60x xxx xxx',\n",
       " 'CZYNSZ_DODATKOWO': '2 500 zł',\n",
       " 'DATES_AVAILABLE_FROM': None,\n",
       " 'DATES_PUBLISHED_ON': '09:11, 30 grudnia 2017',\n",
       " 'DATES_UPDATED_ON': None,\n",
       " 'DESCRIPTION': 'Przestronne, jasne mieszkanie 59m2, 2 pokoje, wysoki standard, wyposażone. \\n\\n2 pokojowe mieszkanie z kuchnią, łazienką (z ogrzewaną elektrycznie podłogą) i korytarzem w nowym budownictwie na zamkniętym, strzeżonym osiedlu (całodobowa portiernia z granitu i monitoring). Dodatkowo w mieszkaniu spory balkon.\\n\\nMieszkanie 59m2. Wyposażone i umeblowane;\\r\\n- wykończone w wysokim standardzie (w planach miało być zamieszkane przez właściciela). \\n\\n2 piętro (do dyspozycji mieszkańców winda), od strony wschodnio-południowej, co gwarantuje dobre nasłonecznienie a jednocześnie mieszkanie nie nagrzewa się latem. \\n\\nWyposażenie mieszkania obejmuje m.in.:\\r\\nW pełni wyposażoną kuchnię (zmywarka Bosch, nowa lodówka, płyta indukcyjna, wyciąg, mikrofalówka, piekarnik), czajnik elektryczny, talerze, garnki, szcztuće itp.\\n\\nW pełni wyposażoną łazienkę – prysznic, bidet, umywalka, szafka na ręczniki, szafla pod zlewem, kaloryfer na ręczniki. \\r\\n- Szafa, \\r\\n- Pralka,\\r\\n- Łóżko, \\r\\n- stolik kawowy, stolik pod RTV\\r\\n- eleganckie, skórzane (nie ekoskóra!) meble w salonie (sofa z opcją spania). \\r\\n- Stół jadalniany i krzesła (4 sztuki)\\n\\nOsiedle na którym znajduje się mieszkanie jest wykończone w wysokim standardzie.\\n\\nElegancka portiernia, codziennie sprzątane klatki schodowe, wyłożone granitowymi płytkami, w holu skórzane meble.\\n\\nMieszkanie jest położone prostopadle do ul. Górczewskiej, dzięki czemu jest bardzo ciche, a jednocześnie dobrze skomunikowane. Do przystanku tramwajowego i autobusowego dosłownie 3 minuty piechotą, do pętli autobusowej i tramwajowej 5 minut piechotą. \\n\\nDoskonała komunikacja z centrum Warszawy i pobliskimi miejscowościami dzięki bliskości trasy S8. \\n\\nW pobliżu sklepy (np. 5 minut piechotą otwarte 24/na dobę 7 dni w tygodniu TESCO, Biedronka), apteki, szkoły, przedszkola, restauracje. \\n\\nJest możliwość wynajęcia miejsca parkingowego w podziemnym parkingu, za dodatkową opłatą bądź zostawiania samochodu bezpłatnie na parkingu sklepu TESCO (po drugiej stronie ulicy).',\n",
       " 'ID': '386758633',\n",
       " 'LICZBA_POKOI': '2 pokoje',\n",
       " 'META_DESCRIPTION': '2 500 zł: Przestronne, jasne mieszkanie 59m2, 2 pokoje, wysoki standard, wyposażone. \\n\\r\\n2 pokojowe mieszkanie z kuchnią, łazienką (z ogrzewaną elektrycznie podłogą) i korytarzem w nowym budownictwie na zamknięt...',\n",
       " 'OFERTA_OD': 'Osoby prywatnej',\n",
       " 'POWIERZCHNIA': '59 m²',\n",
       " 'POZIOM': '2',\n",
       " 'RODZAJ_ZABUDOWY': 'Blok',\n",
       " 'TIMES_SEEN': '792',\n",
       " 'UMEBLOWANE': 'Tak'}"
      ]
     },
     "execution_count": 24,
     "metadata": {},
     "output_type": "execute_result"
    }
   ],
   "source": [
    "olx = olx_detailed(url_olx)\n",
    "olx"
   ]
  },
  {
   "cell_type": "code",
   "execution_count": 116,
   "metadata": {},
   "outputs": [
    {
     "name": "stdout",
     "output_type": "stream",
     "text": [
      "/home/agigryms\n"
     ]
    }
   ],
   "source": [
    "import os\n",
    "# os.environ is a dictionary\n",
    "print(os.environ['HOME'])"
   ]
  },
  {
   "cell_type": "code",
   "execution_count": 118,
   "metadata": {
    "collapsed": true
   },
   "outputs": [],
   "source": [
    "os.environ['MAILGUN_KEY'] = \"ABC\""
   ]
  },
  {
   "cell_type": "code",
   "execution_count": 119,
   "metadata": {},
   "outputs": [
    {
     "data": {
      "text/plain": [
       "'ABC'"
      ]
     },
     "execution_count": 119,
     "metadata": {},
     "output_type": "execute_result"
    }
   ],
   "source": [
    "os.environ.get('MAILGUN_KEY')"
   ]
  },
  {
   "cell_type": "code",
   "execution_count": 19,
   "metadata": {
    "collapsed": true
   },
   "outputs": [],
   "source": [
    "import sqlite3"
   ]
  },
  {
   "cell_type": "code",
   "execution_count": 31,
   "metadata": {},
   "outputs": [],
   "source": [
    "conn = sqlite3.connect(\"/home/agigryms/Notebooks/Flat_Ads/Flat_Ads/ads.db\")\n",
    "conn.row_factory = sqlite3.Row\n",
    "conn.isolation_level = None\n",
    "c = conn.cursor()\n",
    "\n",
    "count = c.execute(\"SELECT COUNT(*) FROM ads\").fetchone()\n"
   ]
  },
  {
   "cell_type": "code",
   "execution_count": 32,
   "metadata": {},
   "outputs": [
    {
     "data": {
      "text/plain": [
       "162"
      ]
     },
     "execution_count": 32,
     "metadata": {},
     "output_type": "execute_result"
    }
   ],
   "source": [
    "count[0]"
   ]
  },
  {
   "cell_type": "code",
   "execution_count": 213,
   "metadata": {
    "collapsed": true
   },
   "outputs": [],
   "source": [
    "def olx_url_main(url):\n",
    "\n",
    "    # create cursor for sqlite\n",
    "    conn = sqlite3.connect(Constants.db_ads)\n",
    "    conn.row_factory = sqlite3.Row\n",
    "    conn.isolation_level = None\n",
    "    c = conn.cursor()\n",
    "\n",
    "    c.execute(Constants.db_create_ads)\n",
    "\n",
    "    insert_sql = Constants.db_insert_into_ads\n",
    "\n",
    "    # get list of ad id's in db\n",
    "    # ads that already exist in db will be skipped\n",
    "    db_ids = c.execute(Constants.db_ids).fetchall()\n",
    "    ids = []\n",
    "    for id in db_ids:\n",
    "        ids.append(id['ID'])\n",
    "\n",
    "    # get keywords for filters\n",
    "    patterns = Constants.patterns\n",
    "    \n",
    "    # start scraping\n",
    "    soup = Utils.request(url)\n",
    "    ads = soup.find(\"table\", {'id':\"offers_table\"})\n",
    "\n",
    "    singles = ads.find_all(\"tr\",  \"wrap\")\n",
    "    results = []\n",
    "\n",
    "    # single is one ad from main url's list of ads \n",
    "    for single in singles:\n",
    "        title = single.find('h3').text.strip()\n",
    "        filtered_out = False\n",
    "\n",
    "        # gen is information scraped for single from main url\n",
    "        # details is information from single's detailed url\n",
    "        gen = {}\n",
    "        details = {}\n",
    "        \n",
    "        for pattern in patterns:\n",
    "            if re.search(pattern, title.lower()):\n",
    "                filtered_out = True\n",
    "                break\n",
    "                \n",
    "        if not filtered_out:\n",
    "\n",
    "            url_detailed = single.find('a')['href']\n",
    "\n",
    "            # extract detailed info for otodom.pl ad   \n",
    "            match_oto = re.search(\"^https?:\\/\\/www.otodom.pl\\/\", \\\n",
    "                                  url_detailed)\n",
    "            if match_oto:\n",
    "                soup_detailed = Utils.request(url_detailed)\n",
    "                div = soup_detailed.find(\"div\", \"text-details\")\n",
    "                left = div.find(\"div\", \"left\")\n",
    "                soup_id = left.find(\"p\").text.strip()\n",
    "                id = Utils.rex(\"Otodom:[ 0-9]+\", soup_id).split(': ')[1]\n",
    "\n",
    "                # check if ad's id is not in db\n",
    "                if id not in ids:\n",
    "                    div = soup_detailed.find(\"div\", \"text-details\")\n",
    "                    dates = div.find(\"div\", \"right\").find_all(\"p\")\n",
    "                    added = dates[0].text\n",
    "                    \n",
    "                    # check if ad is not older than 14 days; if so, it will be skipped\n",
    "                    if Utils.rex(\":[ a-z0-9.]+\", added)[2:] != \"ponad 14 dni temu\":\n",
    "                        gen = general_ad_info(url_detailed, title, single)\n",
    "                        details = Oto.oto_detailed(gen['URL'])\n",
    "                        details['ID'] = id\n",
    "\n",
    "                        \n",
    "            # extract detailed info for olx.pl ad                                          \n",
    "            match_olx = re.search(\"^https?:\\/\\/www.olx.pl\\/\", \\\n",
    "                                  url_detailed)\n",
    "            if match_olx:     \n",
    "                soup_detailed = Utils.request(url_detailed)\n",
    "                em = soup_detailed.find(\"em\")\n",
    "                id = Utils.rex(\"[0-9]+\", em.find(\"small\").text)\n",
    "                \n",
    "                # check if ad's id is not in db\n",
    "                if id not in ids:\n",
    "                    gen = general_ad_info(url_detailed, title, single)\n",
    "                    details = Olx.olx_detailed(gen['URL'])\n",
    "                    details['ID'] = id\n",
    "                    \n",
    "            #time.sleep(1)\n",
    "            ad = {**gen, **details}\n",
    "            if ad: \n",
    "                c.execute(Constants.db_insert_into_ads, (ad['TITLE'], \\\n",
    "                       ad['LOCATION'], \\\n",
    "                       ad['URL'], \\\n",
    "                       ad['PRICE'], \\\n",
    "                       ad['OFERTA_OD'], \\\n",
    "                       ad['CZYNSZ_DODATKOWO'], \\\n",
    "                       ad['POWIERZCHNIA'], \\\n",
    "                       ad['LICZBA_POKOI'], \\\n",
    "                       ad['TIMES_SEEN'], \\\n",
    "                       ad['DATES_PUBLISHED_ON'], \\\n",
    "                       ad['DATES_DB_SAVED_ON'], \\\n",
    "                       ad['RODZAJ_ZABUDOWY'], \\\n",
    "                       ad['DESCRIPTION'], \\\n",
    "                       ad['META_DESCRIPTION'], \\\n",
    "                       ad['DATES_AVAILABLE_FROM'], \\\n",
    "                       ad['DATES_UPDATED_ON'], \\\n",
    "                       ad['POZIOM'], \\\n",
    "                       ad['UMEBLOWANE'], \\\n",
    "                       ad['CONTACT'], \\\n",
    "                       ad['ID'], \\\n",
    "                      ))                \n",
    "                results.append(ad)\n",
    "        else:\n",
    "            pass\n",
    "\n",
    "    return results\n",
    "                         "
   ]
  },
  {
   "cell_type": "code",
   "execution_count": 213,
   "metadata": {
    "collapsed": true
   },
   "outputs": [],
   "source": [
    "# draft new\n",
    "def olx_url_main(url):\n",
    "\n",
    "    # create cursor for sqlite\n",
    "    conn = sqlite3.connect(Constants.db_ads)\n",
    "    conn.row_factory = sqlite3.Row\n",
    "    conn.isolation_level = None\n",
    "    c = conn.cursor()\n",
    "\n",
    "    c.execute(Constants.db_create_ads)\n",
    "\n",
    "    insert_sql = Constants.db_insert_into_ads\n",
    "\n",
    "    # get list of ad id's in db\n",
    "    # ads that already exist in db will be skipped\n",
    "    # \"SELECT ID FROM ads GROUP BY ID\"\n",
    "    db_ids = c.execute(Constants.db_ids).fetchall()\n",
    "    ids = []\n",
    "    for id in db_ids:\n",
    "        ids.append(id['ID'])\n",
    "\n",
    "    # get keywords for filters\n",
    "    patterns = Constants.patterns\n",
    "    \n",
    "    # start scraping\n",
    "    soup = Utils.request(url)\n",
    "    ads = soup.find(\"table\", {'id':\"offers_table\"})\n",
    "\n",
    "    singles = ads.find_all(\"tr\",  \"wrap\")\n",
    "    results = []\n",
    "\n",
    "    # single is one ad from main url's list of ads \n",
    "    for single in singles:\n",
    "        title = single.find('h3').text.strip()\n",
    "        filtered_out = False\n",
    "\n",
    "        # gen is information scraped for single from main url\n",
    "        # details is information from single's detailed url\n",
    "        gen = {}\n",
    "        details = {}\n",
    "        \n",
    "        for pattern in patterns:\n",
    "            if re.search(pattern, title.lower()):\n",
    "                filtered_out = True\n",
    "                break\n",
    "                \n",
    "        if not filtered_out:\n",
    "\n",
    "            url_detailed = single.find('a')['href']\n",
    "\n",
    "            # extract detailed info for otodom.pl ad   \n",
    "            match_oto = re.search(\"^https?:\\/\\/www.otodom.pl\\/\", \\\n",
    "                                  url_detailed)\n",
    "            if match_oto:\n",
    "                soup_detailed = Utils.request(url_detailed)\n",
    "                div = soup_detailed.find(\"div\", \"text-details\")\n",
    "                left = div.find(\"div\", \"left\")\n",
    "                soup_id = left.find(\"p\").text.strip()\n",
    "                id = Utils.rex(\"Otodom:[ 0-9]+\", soup_id).split(': ')[1]\n",
    "\n",
    "                # check if ad's id is not in db\n",
    "                if id not in ids:\n",
    "                    div = soup_detailed.find(\"div\", \"text-details\")\n",
    "                    dates = div.find(\"div\", \"right\").find_all(\"p\")\n",
    "                    added = dates[0].text\n",
    "                    \n",
    "                    # check if ad is not older than 14 days; if so, it will be skipped\n",
    "                    if Utils.rex(\":[ a-z0-9.]+\", added)[2:] != \"ponad 14 dni temu\":\n",
    "                        gen = general_ad_info(url_detailed, title, single)\n",
    "                        details = Oto.oto_detailed(gen['URL'])\n",
    "                        details['ID'] = id\n",
    "\n",
    "                        \n",
    "            # extract detailed info for olx.pl ad                                          \n",
    "            match_olx = re.search(\"^https?:\\/\\/www.olx.pl\\/\", \\\n",
    "                                  url_detailed)\n",
    "            if match_olx:     \n",
    "                soup_detailed = Utils.request(url_detailed)\n",
    "                em = soup_detailed.find(\"em\")\n",
    "                id = Utils.rex(\"[0-9]+\", em.find(\"small\").text)\n",
    "                \n",
    "                # check if ad's id is not in db\n",
    "                if id not in ids:\n",
    "                    gen = general_ad_info(url_detailed, title, single)\n",
    "                    details = Olx.olx_detailed(gen['URL'])\n",
    "                    details['ID'] = id\n",
    "                    \n",
    "            #time.sleep(1)\n",
    "            ad = {**gen, **details}\n",
    "            if ad: \n",
    "                c.execute(Constants.db_insert_into_ads, (ad['TITLE'], \\\n",
    "                       ad['LOCATION'], \\\n",
    "                       ad['URL'], \\\n",
    "                       ad['PRICE'], \\\n",
    "                       ad['OFERTA_OD'], \\\n",
    "                       ad['CZYNSZ_DODATKOWO'], \\\n",
    "                       ad['POWIERZCHNIA'], \\\n",
    "                       ad['LICZBA_POKOI'], \\\n",
    "                       ad['TIMES_SEEN'], \\\n",
    "                       ad['DATES_PUBLISHED_ON'], \\\n",
    "                       ad['DATES_DB_SAVED_ON'], \\\n",
    "                       ad['RODZAJ_ZABUDOWY'], \\\n",
    "                       ad['DESCRIPTION'], \\\n",
    "                       ad['META_DESCRIPTION'], \\\n",
    "                       ad['DATES_AVAILABLE_FROM'], \\\n",
    "                       ad['DATES_UPDATED_ON'], \\\n",
    "                       ad['POZIOM'], \\\n",
    "                       ad['UMEBLOWANE'], \\\n",
    "                       ad['CONTACT'], \\\n",
    "                       ad['ID'], \\\n",
    "                      ))                \n",
    "                results.append(ad)\n",
    "        else:\n",
    "            pass\n",
    "\n",
    "    return results\n",
    "                         "
   ]
  },
  {
   "cell_type": "code",
   "execution_count": 221,
   "metadata": {},
   "outputs": [
    {
     "data": {
      "text/plain": [
       "['51757392',\n",
       " '385686403',\n",
       " '51771856',\n",
       " '398716187',\n",
       " '51766384',\n",
       " '391451651',\n",
       " '398735611',\n",
       " '51757392',\n",
       " '385686403',\n",
       " '51771856',\n",
       " '398716187',\n",
       " '51766384',\n",
       " '391451651',\n",
       " '390524985',\n",
       " '391211165',\n",
       " '391208319',\n",
       " '390937685',\n",
       " '393560333',\n",
       " '359563090',\n",
       " '390592953',\n",
       " '374881415',\n",
       " '51770956',\n",
       " '359872846',\n",
       " '393872895',\n",
       " '395482303',\n",
       " '393917359',\n",
       " '395099613',\n",
       " '395489029',\n",
       " '395107453',\n",
       " '395100441',\n",
       " '395477783',\n",
       " '398796381',\n",
       " '384167283',\n",
       " '51775904',\n",
       " '398777599',\n",
       " '391105773',\n",
       " '391832549',\n",
       " '398770099',\n",
       " '392537979',\n",
       " '398763595',\n",
       " '398759377',\n",
       " '51618456',\n",
       " '398754859',\n",
       " '393210891',\n",
       " '376176293',\n",
       " '395752449',\n",
       " '381184309',\n",
       " '398735611',\n",
       " '51757392',\n",
       " '385686403',\n",
       " '51771856',\n",
       " '398716187',\n",
       " '51766384',\n",
       " '390524985',\n",
       " '391211165',\n",
       " '391208319',\n",
       " '390937685',\n",
       " '395089019',\n",
       " '381835675',\n",
       " '394984157',\n",
       " '399124061',\n",
       " '51793452',\n",
       " '395093863',\n",
       " '395313563',\n",
       " '395087537',\n",
       " '313042032',\n",
       " '391784541',\n",
       " '395096563',\n",
       " '395698549',\n",
       " '395109221',\n",
       " '395310607',\n",
       " '51792756',\n",
       " '51794420',\n",
       " '398153605',\n",
       " '395089019',\n",
       " '381835675',\n",
       " '394984157',\n",
       " '399124061',\n",
       " '51793452',\n",
       " '395093863',\n",
       " '395313563',\n",
       " '395087537',\n",
       " '313042032',\n",
       " '391784541',\n",
       " '395096563',\n",
       " '395698549',\n",
       " '395109221',\n",
       " '395310607',\n",
       " '51792756',\n",
       " '51792760',\n",
       " '399092825',\n",
       " '399091079',\n",
       " '393823649',\n",
       " '397453257',\n",
       " '51790860',\n",
       " '395071689',\n",
       " '394656105',\n",
       " '399046325',\n",
       " '399045799',\n",
       " '51767456',\n",
       " '399040853',\n",
       " '399651113',\n",
       " '399646781',\n",
       " '399031107',\n",
       " '396523749',\n",
       " '391701221',\n",
       " '399600565',\n",
       " '398467723',\n",
       " '393776423',\n",
       " '399578461',\n",
       " '399572731',\n",
       " '399569247',\n",
       " '399565881',\n",
       " '399564665',\n",
       " '380545457',\n",
       " '397841645',\n",
       " '399539495',\n",
       " '371116233',\n",
       " '397986609',\n",
       " '396180133',\n",
       " '399506455',\n",
       " '332811088',\n",
       " '399673001',\n",
       " '51818708',\n",
       " '386930989',\n",
       " '325621066',\n",
       " '397245487',\n",
       " '396684971',\n",
       " '51823560',\n",
       " '399891879',\n",
       " '399890125',\n",
       " '385721201',\n",
       " '384468367',\n",
       " '51823232',\n",
       " '362352482',\n",
       " '362669238',\n",
       " '396975883',\n",
       " '325056524',\n",
       " '398104907',\n",
       " '355291986',\n",
       " '399844981',\n",
       " '342571162',\n",
       " '51822644',\n",
       " '364394554',\n",
       " '398078583',\n",
       " '395812287',\n",
       " '320410222',\n",
       " '393453537',\n",
       " '399905431',\n",
       " '399917923',\n",
       " '338016734',\n",
       " '377377349',\n",
       " '370702259',\n",
       " '399921833',\n",
       " '397348485',\n",
       " '295051819',\n",
       " '399961531',\n",
       " '394988171',\n",
       " '393073585',\n",
       " '359077032',\n",
       " '399934171',\n",
       " '398163847',\n",
       " '398897719',\n",
       " '51826552',\n",
       " '395856095',\n",
       " '399913887',\n",
       " '51826692',\n",
       " '399989753',\n",
       " '365062582',\n",
       " '380078085',\n",
       " '397142327',\n",
       " '400012849',\n",
       " '393946463',\n",
       " '396656301',\n",
       " '396128317',\n",
       " '51820472',\n",
       " '352683564',\n",
       " '400056813',\n",
       " '400054723',\n",
       " '391870261',\n",
       " '392275271',\n",
       " '339409618',\n",
       " '386713435',\n",
       " '400066723',\n",
       " '397353999',\n",
       " '397359915',\n",
       " '375257429',\n",
       " '51828756',\n",
       " '392299825',\n",
       " '51828916',\n",
       " '387206685',\n",
       " '400080459',\n",
       " '400082733',\n",
       " '400082171',\n",
       " '400086213',\n",
       " '51828976',\n",
       " '400088679',\n",
       " '400087957',\n",
       " '389653885',\n",
       " '395004671',\n",
       " '392096843',\n",
       " '192058435',\n",
       " '397528717',\n",
       " '359905386',\n",
       " '391821637',\n",
       " '51830904',\n",
       " '399781721',\n",
       " '400113231',\n",
       " '400112337',\n",
       " '400111557',\n",
       " '51830528',\n",
       " '400108643',\n",
       " '397098705',\n",
       " '51830184',\n",
       " '400145789',\n",
       " '389136047',\n",
       " '391158633',\n",
       " '391256771',\n",
       " '381198687',\n",
       " '376145501',\n",
       " '400142639',\n",
       " '376796849',\n",
       " '400139859',\n",
       " '391639223',\n",
       " '384508875',\n",
       " '393741093',\n",
       " '396060215',\n",
       " '397188619',\n",
       " '400160055',\n",
       " '397457147',\n",
       " '51701928',\n",
       " '373800641',\n",
       " '51832656',\n",
       " '385581265',\n",
       " '387068893',\n",
       " '397463313',\n",
       " '366901042',\n",
       " '400164495',\n",
       " '384366035',\n",
       " '397250517',\n",
       " '51832900',\n",
       " '397244183',\n",
       " '397243483',\n",
       " '397252549',\n",
       " '377283119',\n",
       " '400175565',\n",
       " '400171067',\n",
       " '391630185',\n",
       " '365167392',\n",
       " '397519737']"
      ]
     },
     "execution_count": 221,
     "metadata": {},
     "output_type": "execute_result"
    }
   ],
   "source": [
    "db_ids = \"SELECT ID FROM ads\"\n",
    "# how to convert string with time to time and \n",
    "# look at 2 days back at the most?\n",
    "db_ids = c.execute(db_ids).fetchall()\n",
    "ids = []\n",
    "for id in db_ids:\n",
    "    ids.append(id['ID'])\n",
    "ids"
   ]
  },
  {
   "cell_type": "code",
   "execution_count": 299,
   "metadata": {},
   "outputs": [],
   "source": [
    "new_id = c.execute(\"SELECT * FROM ads WHERE ID='400218161'\").fetchone()"
   ]
  },
  {
   "cell_type": "code",
   "execution_count": 300,
   "metadata": {},
   "outputs": [
    {
     "ename": "TypeError",
     "evalue": "'NoneType' object is not subscriptable",
     "output_type": "error",
     "traceback": [
      "\u001b[0;31m---------------------------------------------------------------------------\u001b[0m",
      "\u001b[0;31mTypeError\u001b[0m                                 Traceback (most recent call last)",
      "\u001b[0;32m<ipython-input-300-6938f009a6c1>\u001b[0m in \u001b[0;36m<module>\u001b[0;34m()\u001b[0m\n\u001b[0;32m----> 1\u001b[0;31m \u001b[0mprint\u001b[0m\u001b[0;34m(\u001b[0m\u001b[0mnew_id\u001b[0m\u001b[0;34m[\u001b[0m\u001b[0;34m'ID'\u001b[0m\u001b[0;34m]\u001b[0m\u001b[0;34m)\u001b[0m\u001b[0;34m\u001b[0m\u001b[0m\n\u001b[0m\u001b[1;32m      2\u001b[0m \u001b[0mprint\u001b[0m\u001b[0;34m(\u001b[0m\u001b[0mnew_id\u001b[0m\u001b[0;34m[\u001b[0m\u001b[0;34m'TITLE'\u001b[0m\u001b[0;34m]\u001b[0m\u001b[0;34m)\u001b[0m\u001b[0;34m\u001b[0m\u001b[0m\n\u001b[1;32m      3\u001b[0m \u001b[0mprint\u001b[0m\u001b[0;34m(\u001b[0m\u001b[0;34m'{}: {}'\u001b[0m\u001b[0;34m.\u001b[0m\u001b[0mformat\u001b[0m\u001b[0;34m(\u001b[0m\u001b[0mnew_id\u001b[0m\u001b[0;34m[\u001b[0m\u001b[0;34m'ID'\u001b[0m\u001b[0;34m]\u001b[0m\u001b[0;34m,\u001b[0m \u001b[0mnew_id\u001b[0m\u001b[0;34m[\u001b[0m\u001b[0;34m'DATES_DB_SAVED_ON'\u001b[0m\u001b[0;34m]\u001b[0m\u001b[0;34m)\u001b[0m\u001b[0;34m)\u001b[0m\u001b[0;34m\u001b[0m\u001b[0m\n",
      "\u001b[0;31mTypeError\u001b[0m: 'NoneType' object is not subscriptable"
     ]
    }
   ],
   "source": [
    "print(new_id['ID'])\n",
    "print(new_id['TITLE'])\n",
    "print('{}: {}'.format(new_id['ID'], new_id['DATES_DB_SAVED_ON']))"
   ]
  },
  {
   "cell_type": "code",
   "execution_count": null,
   "metadata": {
    "collapsed": true
   },
   "outputs": [],
   "source": [
    "url50 = \"https://www.olx.pl/nieruchomosci/mieszkania/wynajem/warszawa/?search%5Bfilter_float_m%3Afrom%5D=50\"\n",
    "url60 = \"https://www.olx.pl/nieruchomosci/mieszkania/wynajem/warszawa/?search%5Bfilter_float_m%3Afrom%5D=60\""
   ]
  },
  {
   "cell_type": "code",
   "execution_count": 233,
   "metadata": {},
   "outputs": [
    {
     "data": {
      "text/plain": [
       "[{'id': 1, 'price': '1000', 'title': 'ad1'},\n",
       " {'id': 2, 'price': '2750', 'title': 'ad2'},\n",
       " {'id': 3, 'price': '3000', 'title': 'ad3'},\n",
       " {'id': 4, 'price': '4750', 'title': 'ad4'}]"
      ]
     },
     "execution_count": 233,
     "metadata": {},
     "output_type": "execute_result"
    }
   ],
   "source": [
    "ids = [7, 8, 3, 4]\n",
    "ad1 = {\"title\": \"ad1\", \"price\": \"1000\", 'id': 1}\n",
    "ad2 = {\"title\": \"ad2\", \"price\": \"2750\", 'id': 2}\n",
    "ad3 = {\"title\": \"ad3\", \"price\": \"3000\", 'id': 3}\n",
    "ad4 = {\"title\": \"ad4\", \"price\": \"4750\", 'id': 4}\n",
    "ads = [ad1, ad2, ad3, ad4]\n",
    "ads"
   ]
  },
  {
   "cell_type": "code",
   "execution_count": 234,
   "metadata": {},
   "outputs": [
    {
     "name": "stdout",
     "output_type": "stream",
     "text": [
      "1\n",
      "2\n",
      "3\n"
     ]
    }
   ],
   "source": [
    "for ad in ads:\n",
    "    print(ad['id'])\n",
    "    if ad['id'] in ids:\n",
    "        break"
   ]
  },
  {
   "cell_type": "code",
   "execution_count": 275,
   "metadata": {
    "collapsed": true
   },
   "outputs": [],
   "source": [
    "import time, datetime\n",
    "#t0 = time.time()"
   ]
  },
  {
   "cell_type": "code",
   "execution_count": 272,
   "metadata": {
    "collapsed": true
   },
   "outputs": [],
   "source": [
    "t9 = time.time()"
   ]
  },
  {
   "cell_type": "code",
   "execution_count": 274,
   "metadata": {},
   "outputs": [
    {
     "name": "stdout",
     "output_type": "stream",
     "text": [
      "2018-01-02 20:19\n",
      "2018-01-02 20:20\n"
     ]
    },
    {
     "data": {
      "text/plain": [
       "81.48357963562012"
      ]
     },
     "execution_count": 274,
     "metadata": {},
     "output_type": "execute_result"
    }
   ],
   "source": [
    "print(from_epoch(t0))\n",
    "print(from_epoch(t9))\n",
    "t9 - t0"
   ]
  },
  {
   "cell_type": "code",
   "execution_count": 241,
   "metadata": {},
   "outputs": [],
   "source": [
    "#type(new_id['DATES_DB_SAVED_ON'])\n",
    "def from_epoch(t0):\n",
    "    return time.strftime('%Y-%m-%d %H:%M', time.localtime(t0))"
   ]
  },
  {
   "cell_type": "code",
   "execution_count": 269,
   "metadata": {},
   "outputs": [
    {
     "data": {
      "text/plain": [
       "1514920777.373366"
      ]
     },
     "execution_count": 269,
     "metadata": {},
     "output_type": "execute_result"
    }
   ],
   "source": [
    "t0 # float"
   ]
  },
  {
   "cell_type": "code",
   "execution_count": 271,
   "metadata": {},
   "outputs": [
    {
     "data": {
      "text/plain": [
       "'2018-01-02 20:19'"
      ]
     },
     "execution_count": 271,
     "metadata": {},
     "output_type": "execute_result"
    }
   ],
   "source": [
    "from_epoch(t0)"
   ]
  },
  {
   "cell_type": "code",
   "execution_count": 276,
   "metadata": {},
   "outputs": [
    {
     "data": {
      "text/plain": [
       "datetime.datetime(2018, 1, 2, 20, 19, 37, 373366)"
      ]
     },
     "execution_count": 276,
     "metadata": {},
     "output_type": "execute_result"
    }
   ],
   "source": [
    "datetime.datetime.fromtimestamp(t0)"
   ]
  },
  {
   "cell_type": "code",
   "execution_count": 283,
   "metadata": {},
   "outputs": [
    {
     "data": {
      "text/plain": [
       "True"
      ]
     },
     "execution_count": 283,
     "metadata": {},
     "output_type": "execute_result"
    }
   ],
   "source": [
    "datetime.datetime.fromtimestamp(t0) > datetime.datetime.now() - datetime.timedelta(hours=48)"
   ]
  },
  {
   "cell_type": "code",
   "execution_count": 281,
   "metadata": {
    "collapsed": true
   },
   "outputs": [],
   "source": [
    "t0 = time.time()"
   ]
  },
  {
   "cell_type": "code",
   "execution_count": 286,
   "metadata": {},
   "outputs": [
    {
     "name": "stdout",
     "output_type": "stream",
     "text": [
      "h\n",
      "a\n",
      "c\n",
      "k\n",
      "e\n",
      "r\n",
      "r\n",
      "a\n",
      "n\n",
      "k\n"
     ]
    }
   ],
   "source": [
    "for le in 'hackerrank':\n",
    "    print(le)"
   ]
  },
  {
   "cell_type": "code",
   "execution_count": 289,
   "metadata": {},
   "outputs": [
    {
     "name": "stdout",
     "output_type": "stream",
     "text": [
      "NO\n"
     ]
    }
   ],
   "source": [
    "hackerrank = 'hackerrank'\n",
    "hi = 0\n",
    "final = ''\n",
    "for l in 'hackerworld':\n",
    "    if hackerrank[hi] == l:\n",
    "        final += hackerrank[hi]\n",
    "        hi += 1\n",
    "    else:\n",
    "        continue\n",
    "if final == hackerrank:\n",
    "    print('YES')\n",
    "else:\n",
    "    print('NO')"
   ]
  },
  {
   "cell_type": "code",
   "execution_count": null,
   "metadata": {
    "collapsed": true
   },
   "outputs": [],
   "source": []
  },
  {
   "cell_type": "code",
   "execution_count": 231,
   "metadata": {},
   "outputs": [
    {
     "name": "stdout",
     "output_type": "stream",
     "text": [
      "07:37, 2 stycznia 2018: 2018-01-02 08:00:21\n",
      "07:36, 2 stycznia 2018: 2018-01-02 08:00:24\n",
      "06:59, 2 stycznia 2018, ID ogłoszenia: 392096843: 2018-01-02 08:00:55\n",
      "00:38, 2 stycznia 2018, ID ogłoszenia: 192058435: 2018-01-02 08:00:58\n",
      "00:38, 2 stycznia 2018: 2018-01-02 08:01:02\n",
      "00:32, 2 stycznia 2018: 2018-01-02 08:01:06\n",
      "23:41, 1 stycznia 2018: 2018-01-02 08:01:09\n",
      "01.01.2018. Today is 02.01.2018: 2018-01-02 08:01:15\n",
      "22:36, 1 stycznia 2018: 2018-01-02 08:01:19\n",
      "22:14, 1 stycznia 2018: 2018-01-02 08:01:22\n",
      "22:02, 1 stycznia 2018: 2018-01-02 08:01:26\n",
      "21:59, 1 stycznia 2018: 2018-01-02 08:01:29\n",
      "01.01.2018. Today is 02.01.2018: 2018-01-02 08:01:33\n",
      "21:46, 1 stycznia 2018: 2018-01-02 08:01:36\n",
      "21:01, 1 stycznia 2018: 2018-01-02 08:01:42\n",
      "01.01.2018. Today is 02.01.2018: 2018-01-02 08:01:47\n",
      "09:04, 2 stycznia 2018: 2018-01-02 09:20:06\n",
      "09:02, 2 stycznia 2018: 2018-01-02 09:20:09\n",
      "08:59, 2 stycznia 2018: 2018-01-02 09:20:13\n",
      "08:58, 2 stycznia 2018: 2018-01-02 09:20:16\n",
      "08:58, 2 stycznia 2018: 2018-01-02 09:20:20\n",
      "08:47, 2 stycznia 2018: 2018-01-02 09:20:23\n",
      "08:42, 2 stycznia 2018: 2018-01-02 09:20:26\n",
      "08:38, 2 stycznia 2018: 2018-01-02 09:20:30\n",
      "08:16, 2 stycznia 2018: 2018-01-02 09:20:39\n",
      "09:15, 2 stycznia 2018: 2018-01-02 09:30:04\n",
      "09:28, 2 stycznia 2018: 2018-01-02 09:40:08\n",
      "11:37, 21 grudnia 2017: 2018-01-02 09:50:05\n",
      "10:13, 2 stycznia 2018: 2018-01-02 10:20:05\n",
      "10:11, 2 stycznia 2018: 2018-01-02 10:20:09\n",
      "10:10, 2 stycznia 2018: 2018-01-02 10:20:12\n",
      "09:54, 2 stycznia 2018: 2018-01-02 10:20:19\n",
      "19.12.2017. Today is 02.01.2018: 2018-01-02 10:20:23\n",
      "10:22, 2 stycznia 2018: 2018-01-02 10:30:05\n",
      "02.01.2018. Today is 02.01.2018: 2018-01-02 10:30:09\n",
      "10:29, 2 stycznia 2018: 2018-01-02 10:40:05\n",
      "10:27, 2 stycznia 2018: 2018-01-02 10:40:08\n",
      "10:26, 2 stycznia 2018: 2018-01-02 10:40:12\n",
      "10:43, 2 stycznia 2018: 2018-01-02 10:50:08\n",
      "10:41, 2 stycznia 2018: 2018-01-02 10:50:11\n",
      "10:41, 2 stycznia 2018: 2018-01-02 10:50:15\n",
      "10:39, 2 stycznia 2018: 2018-01-02 10:50:18\n",
      "02.01.2018. Today is 02.01.2018: 2018-01-02 10:50:23\n",
      "10:36, 2 stycznia 2018: 2018-01-02 10:50:27\n",
      "10:31, 2 stycznia 2018: 2018-01-02 10:50:32\n",
      "10:52, 2 stycznia 2018: 2018-01-02 11:00:06\n",
      "10:46, 2 stycznia 2018: 2018-01-02 11:00:13\n",
      "11:03, 2 stycznia 2018: 2018-01-02 11:10:05\n",
      "10:58, 2 stycznia 2018: 2018-01-02 11:10:12\n",
      "10:58, 2 stycznia 2018: 2018-01-02 11:10:15\n",
      "11:16, 2 stycznia 2018: 2018-01-02 11:20:05\n",
      "10:48, 2 stycznia 2018: 2018-01-02 11:20:22\n",
      "11:17, 2 stycznia 2018: 2018-01-02 11:30:06\n",
      "11:16, 2 stycznia 2018: 2018-01-02 11:30:10\n",
      "11:16, 2 stycznia 2018: 2018-01-02 11:30:14\n",
      "11:16, 2 stycznia 2018: 2018-01-02 11:30:17\n"
     ]
    }
   ],
   "source": [
    "new = c.execute(\\\n",
    "\"SELECT * FROM ads WHERE DATES_DB_SAVED_ON like '2018-01-02 %'\").fetchall()\n",
    "for n in new:\n",
    "    print(n['DATES_PUBLISHED_ON'] + ': ' + n['DATES_DB_SAVED_ON'])"
   ]
  },
  {
   "cell_type": "code",
   "execution_count": null,
   "metadata": {
    "collapsed": true
   },
   "outputs": [],
   "source": [
    "gen['DATES_DB_SAVED_ON'] = from_epoch(time.time())"
   ]
  },
  {
   "cell_type": "code",
   "execution_count": 211,
   "metadata": {},
   "outputs": [
    {
     "name": "stdout",
     "output_type": "stream",
     "text": [
      "Leszczyńska 4/ Śródmieście/ 3 pokoje/ 88 m2/ 6000: 10:43, 2 stycznia 2018: 2018-01-02 10:50:08\n",
      "116m2, 4 pokoje, widok na pl.Unii Lubelskiej: 10:41, 2 stycznia 2018: 2018-01-02 10:50:11\n",
      "4-pokoje, Konstruktorska 10b , TARAS: 10:41, 2 stycznia 2018: 2018-01-02 10:50:15\n",
      "OKAZJA, 3 pokoje+taras i ogródek, al. Rzeczypospolitej: 10:39, 2 stycznia 2018: 2018-01-02 10:50:18\n",
      "Luksusowy Apartament - długo/krótkookresowy najem: 02.01.2018. Today is 02.01.2018: 2018-01-02 10:50:23\n",
      "3 pokoje, 109m2, ul. Ptasia: 10:36, 2 stycznia 2018: 2018-01-02 10:50:27\n",
      "3-pokojowe mieszkanie, 70m2, ul. Bukowskiego: 10:31, 2 stycznia 2018: 2018-01-02 10:50:32\n"
     ]
    }
   ],
   "source": [
    "new = c.execute(\\\n",
    "\"SELECT * FROM ads WHERE DATES_DB_SAVED_ON like '2018-01-02 10:5%'\").fetchall()\n",
    "for n in new:\n",
    "    print(n['TITLE'] + ': ' + n['DATES_PUBLISHED_ON'] \\\n",
    "          + ': ' + n['DATES_DB_SAVED_ON'])"
   ]
  },
  {
   "cell_type": "code",
   "execution_count": 207,
   "metadata": {},
   "outputs": [
    {
     "name": "stdout",
     "output_type": "stream",
     "text": [
      "\n",
      "*********\n",
      "\n"
     ]
    }
   ],
   "source": [
    "print('')\n",
    "print('*********')\n",
    "print('')"
   ]
  },
  {
   "cell_type": "code",
   "execution_count": 132,
   "metadata": {},
   "outputs": [
    {
     "data": {
      "text/plain": [
       "{}"
      ]
     },
     "execution_count": 132,
     "metadata": {},
     "output_type": "execute_result"
    }
   ],
   "source": [
    "a = {}\n",
    "b = {}\n",
    "ab = {**a, **b}\n",
    "ab"
   ]
  },
  {
   "cell_type": "code",
   "execution_count": 55,
   "metadata": {},
   "outputs": [
    {
     "name": "stdout",
     "output_type": "stream",
     "text": [
      "empty!\n"
     ]
    }
   ],
   "source": [
    "abs = []\n",
    "if abs:\n",
    "    print('not empty!')\n",
    "else:\n",
    "    print('empty!')"
   ]
  },
  {
   "cell_type": "code",
   "execution_count": 133,
   "metadata": {
    "collapsed": true
   },
   "outputs": [],
   "source": [
    "abs = []\n",
    "abs.append(ab)"
   ]
  },
  {
   "cell_type": "code",
   "execution_count": 134,
   "metadata": {},
   "outputs": [
    {
     "data": {
      "text/plain": [
       "1"
      ]
     },
     "execution_count": 134,
     "metadata": {},
     "output_type": "execute_result"
    }
   ],
   "source": [
    "len(abs)"
   ]
  },
  {
   "cell_type": "code",
   "execution_count": 135,
   "metadata": {},
   "outputs": [
    {
     "name": "stdout",
     "output_type": "stream",
     "text": [
      "empty\n"
     ]
    }
   ],
   "source": [
    "if ab:\n",
    "    print('not empty')\n",
    "else:\n",
    "    print('empty')"
   ]
  },
  {
   "cell_type": "code",
   "execution_count": 52,
   "metadata": {},
   "outputs": [
    {
     "name": "stdout",
     "output_type": "stream",
     "text": [
      "Przestronne, NOWE mieszkanie, osiedle Bliska Wola\n"
     ]
    }
   ],
   "source": [
    "for n in new:\n",
    "    print(n['TITLE'])"
   ]
  },
  {
   "cell_type": "code",
   "execution_count": 78,
   "metadata": {
    "collapsed": true
   },
   "outputs": [],
   "source": [
    "ad1 = {\"title\": \"ad1\", \"price\": \"2000\"}\n",
    "ad2 = {\"title\": \"ad2\", \"price\": \"1750\"}"
   ]
  },
  {
   "cell_type": "code",
   "execution_count": 79,
   "metadata": {},
   "outputs": [
    {
     "name": "stdout",
     "output_type": "stream",
     "text": [
      "[{'title': 'ad1', 'price': '2000'}, {'title': 'ad2', 'price': '1750'}]\n"
     ]
    }
   ],
   "source": [
    "ads = []\n",
    "ads.append(ad1)\n",
    "ads.append(ad2)\n",
    "print(ads)"
   ]
  },
  {
   "cell_type": "code",
   "execution_count": 80,
   "metadata": {},
   "outputs": [
    {
     "data": {
      "text/plain": [
       "'ad2'"
      ]
     },
     "execution_count": 80,
     "metadata": {},
     "output_type": "execute_result"
    }
   ],
   "source": [
    "ads[1]['title']"
   ]
  },
  {
   "cell_type": "code",
   "execution_count": 5,
   "metadata": {},
   "outputs": [
    {
     "name": "stdout",
     "output_type": "stream",
     "text": [
      "2000\n",
      "1750\n"
     ]
    }
   ],
   "source": [
    "for ad in ads:\n",
    "    print(ad['price'])"
   ]
  },
  {
   "cell_type": "code",
   "execution_count": 103,
   "metadata": {},
   "outputs": [
    {
     "data": {
      "text/plain": [
       "[['title: ad1', 'price: 2000'],\n",
       " ['*********'],\n",
       " ['title: ad2', 'price: 1750'],\n",
       " ['*********']]"
      ]
     },
     "execution_count": 103,
     "metadata": {},
     "output_type": "execute_result"
    }
   ],
   "source": [
    "total = []\n",
    "for ad in ads:\n",
    "    item = []\n",
    "    for key, value in ad.items():\n",
    "        string = '{}: {}'.format(key, value)\n",
    "        item.append(string)\n",
    "    total.append(item)\n",
    "    total.append(['*********'])\n",
    "total"
   ]
  },
  {
   "cell_type": "code",
   "execution_count": 104,
   "metadata": {},
   "outputs": [
    {
     "data": {
      "text/plain": [
       "b'{\\n  \"id\": \"<20180101124741.1.A997F20338C1A3D5@sandbox9a3b96d505e649bbabc285f16cdb08ab.mailgun.org>\",\\n  \"message\": \"Queued. Thank you.\"\\n}'"
      ]
     },
     "execution_count": 104,
     "metadata": {},
     "output_type": "execute_result"
    }
   ],
   "source": [
    "#r = send_email(\"Have a look at these new ads, darling.\") # ok\n",
    "#r = send_email(ads) # just keys\n",
    "#r = send_email(ads[0]['title']) # ad1 - ok\n",
    "#r = send_email(start) # ok, but without line breaks between items\n",
    "r = send_email(total)\n",
    "r.content"
   ]
  },
  {
   "cell_type": "code",
   "execution_count": 14,
   "metadata": {},
   "outputs": [],
   "source": [
    "def print_array_text(array):\n",
    "    for t in array:\n",
    "        print(t)"
   ]
  },
  {
   "cell_type": "code",
   "execution_count": 15,
   "metadata": {},
   "outputs": [
    {
     "name": "stdout",
     "output_type": "stream",
     "text": [
      "{'title': 'ad1', 'price': '2000'}\n",
      "{'title': 'ad2', 'price': '1750'}\n"
     ]
    }
   ],
   "source": [
    "print_array_text(ads)"
   ]
  },
  {
   "cell_type": "code",
   "execution_count": 30,
   "metadata": {},
   "outputs": [
    {
     "name": "stdout",
     "output_type": "stream",
     "text": [
      "[{'title': 'ad1', 'price': '2000'}, {'title': 'ad2', 'price': '1750'}]\n"
     ]
    }
   ],
   "source": [
    "print(ads)"
   ]
  },
  {
   "cell_type": "code",
   "execution_count": 98,
   "metadata": {
    "collapsed": true
   },
   "outputs": [],
   "source": [
    "import requests, os\n",
    "\n",
    "def send_email(text):\n",
    "    set_mailgun_credentials()\n",
    "    return requests.post(os.environ['MAILGUN_API_BASE_URL'], \\\n",
    "                         auth=(\"api\", os.environ['MAILGUN_API_KEY']), \\\n",
    "                         data={\"from\": os.environ['MAILGUN_FROM'], \\\n",
    "                               \"to\": [os.environ['ALERT_RECIPIENT']], \\\n",
    "                               \"subject\": \"New ads, darling.\", \\\n",
    "                               \"text\": text})"
   ]
  },
  {
   "cell_type": "code",
   "execution_count": null,
   "metadata": {
    "collapsed": true
   },
   "outputs": [],
   "source": [
    "# filter out:\n",
    "# in title:\n",
    "# \n",
    "\n",
    "# ***\n",
    "# in desc:\n",
    "\n",
    "\n",
    "# None for ['CONTACT']"
   ]
  },
  {
   "cell_type": "code",
   "execution_count": 247,
   "metadata": {
    "collapsed": true
   },
   "outputs": [],
   "source": [
    "import re"
   ]
  },
  {
   "cell_type": "code",
   "execution_count": 250,
   "metadata": {},
   "outputs": [],
   "source": [
    "txt = 'agencjom dziękuję -mała kilkuletnia kamienica na ul.Lubomira 3, osłonięta od ulicy Waszyngtona, mieszkanie jest na drugim piętrze, posiada 2 osobne pokoje plus salon z kuchnią, łazienka z prysznicem i fajny duży balkon otoczony koroną drzewa, nikt nie zagląda w okna ani na balkon, wyjątkowa lokalizacja, mieszkanie jest świetnie usytuowane komunikacyjnie, niedaleko tramwaje na Grochowskiej i Waszyngtona, 3 przystanki do stadionu Narodowego, 5 przystanków do Nowego Światu (12 minut), blisko zieleń parki, sklepy apteki, knajpki, kawiarenka \"u Krawca\", można parkować pod blokiem, zawsze jest miejsce, w pakiecie jest też miejsce na parkingu podziemnym, wyjątkowo cicho i zielono jak na centrum, zdecydowanie wyjątkowe i atrakcyjne miejsce z klimatem'"
   ]
  },
  {
   "cell_type": "code",
   "execution_count": 251,
   "metadata": {
    "collapsed": true
   },
   "outputs": [],
   "source": [
    "patterns = [\".*bezpo.redni.*\", \".*po.rednikom dzi.kuj.*\", \\\n",
    "            \".*agencjom dzi.kuj.*\", \".*nie wsp..pracuj. z agencj.*\", \\\n",
    "           \".*nie wsp..pracuj. z po.rednik.*\"]"
   ]
  },
  {
   "cell_type": "code",
   "execution_count": 252,
   "metadata": {},
   "outputs": [
    {
     "name": "stdout",
     "output_type": "stream",
     "text": [
      ".*agencjom dzi.kuj.*\n"
     ]
    },
    {
     "data": {
      "text/plain": [
       "True"
      ]
     },
     "execution_count": 252,
     "metadata": {},
     "output_type": "execute_result"
    }
   ],
   "source": [
    "filtered_out = False\n",
    "\n",
    "for pattern in patterns:\n",
    "            if re.search(pattern, txt.lower()):\n",
    "                print(pattern)\n",
    "                filtered_out = True\n",
    "                break\n",
    "filtered_out"
   ]
  },
  {
   "cell_type": "code",
   "execution_count": 256,
   "metadata": {},
   "outputs": [
    {
     "name": "stdout",
     "output_type": "stream",
     "text": [
      "0\n",
      "1\n"
     ]
    }
   ],
   "source": [
    "li = [7, 2, 6]\n",
    "\n",
    "for num in range(5):\n",
    "    if num in li:\n",
    "        break\n",
    "    else:\n",
    "        print(num)"
   ]
  },
  {
   "cell_type": "code",
   "execution_count": null,
   "metadata": {
    "collapsed": true
   },
   "outputs": [],
   "source": []
  }
 ],
 "metadata": {
  "kernelspec": {
   "display_name": "Python 3",
   "language": "python",
   "name": "python3"
  },
  "language_info": {
   "codemirror_mode": {
    "name": "ipython",
    "version": 3
   },
   "file_extension": ".py",
   "mimetype": "text/x-python",
   "name": "python",
   "nbconvert_exporter": "python",
   "pygments_lexer": "ipython3",
   "version": "3.6.1"
  }
 },
 "nbformat": 4,
 "nbformat_minor": 2
}
