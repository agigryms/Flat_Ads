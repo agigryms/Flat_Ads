{
 "cells": [
  {
   "cell_type": "code",
   "execution_count": 1,
   "metadata": {
    "collapsed": true
   },
   "outputs": [],
   "source": [
    "import requests"
   ]
  },
  {
   "cell_type": "code",
   "execution_count": 2,
   "metadata": {
    "collapsed": true
   },
   "outputs": [],
   "source": [
    "from bs4 import BeautifulSoup"
   ]
  },
  {
   "cell_type": "code",
   "execution_count": 3,
   "metadata": {},
   "outputs": [
    {
     "name": "stdout",
     "output_type": "stream",
     "text": [
      "Agi is awesome at subletting!\n"
     ]
    }
   ],
   "source": [
    "print('Agi is awesome at subletting!')"
   ]
  },
  {
   "cell_type": "code",
   "execution_count": 4,
   "metadata": {
    "collapsed": true
   },
   "outputs": [],
   "source": [
    "url = \"https://scrapethissite.com/pages/simple/\""
   ]
  },
  {
   "cell_type": "code",
   "execution_count": 100,
   "metadata": {},
   "outputs": [
    {
     "name": "stdout",
     "output_type": "stream",
     "text": [
      "200\n"
     ]
    }
   ],
   "source": [
    "r = requests.get(url=url)\n",
    "print(r.status_code)"
   ]
  },
  {
   "cell_type": "code",
   "execution_count": 101,
   "metadata": {},
   "outputs": [
    {
     "name": "stdout",
     "output_type": "stream",
     "text": [
      "\r\n",
      "\r\n",
      "\r\n",
      "<!DOCTYPE html PUBLIC \"-//W3C//DTD XHTML 1.0 Transitional//EN\" \"http://www.w3.org/TR/xhtml1/DTD/xhtml1-transitional.dtd\">\r\n",
      "\r\n",
      "<html xmlns=\"http://www.w3.org/1999/xhtml\">\r\n",
      "<body>\r\n",
      "<script type=\"text/javascript\">\r\n",
      "window.location = \"IBE.aspx?j=t\";\r\n",
      "var last = localStorage[\"lastPage\"] || \"\"\r\n",
      "current = location.href;\r\n",
      "if (last === current) { // last page is the same as this page\r\n",
      "//this is refresh: do nothing here.       \r\n",
      "}\r\n",
      "localStorage[\"lastPage\"] = current;\r\n",
      "</script>\r\n",
      "<noscript>\r\n",
      "<meta http-equiv=\"refresh\" content=\"0;URL=IBE.aspx?j=f\">\r\n",
      "</noscript>\r\n",
      "\r\n",
      "</body>\r\n",
      "</html>\r\n",
      " \n"
     ]
    }
   ],
   "source": [
    "print(r.text)"
   ]
  },
  {
   "cell_type": "code",
   "execution_count": 11,
   "metadata": {},
   "outputs": [
    {
     "name": "stdout",
     "output_type": "stream",
     "text": [
      "Countries of the World: A Simple Example | Scrape This Site | A public sandbox for learning web scraping\n"
     ]
    }
   ],
   "source": [
    "soup = BeautifulSoup(r.text, 'html.parser')\n",
    "title = soup.find('title')\n",
    "print(title.text)"
   ]
  },
  {
   "cell_type": "code",
   "execution_count": 21,
   "metadata": {},
   "outputs": [
    {
     "name": "stdout",
     "output_type": "stream",
     "text": [
      "250\n"
     ]
    }
   ],
   "source": [
    "# <div class=\"col-md-4 country\">\n",
    "#countries = soup.find_all('div', {\"class\":\"country\"})\n",
    "countries = soup.find_all('div', 'country')\n",
    "print(len(countries))\n"
   ]
  },
  {
   "cell_type": "code",
   "execution_count": 20,
   "metadata": {},
   "outputs": [
    {
     "name": "stdout",
     "output_type": "stream",
     "text": [
      "<div class=\"col-md-4 country\">\n",
      "<h3 class=\"country-name\">\n",
      "<i class=\"flag-icon flag-icon-ad\"></i>\n",
      "                            Andorra\n",
      "                        </h3>\n",
      "<div class=\"country-info\">\n",
      "<strong>Capital:</strong> <span class=\"country-capital\">Andorra la Vella</span><br/>\n",
      "<strong>Population:</strong> <span class=\"country-population\">84000</span><br/>\n",
      "<strong>Area (km<sup>2</sup>):</strong> <span class=\"country-area\">468.0</span><br/>\n",
      "</div>\n",
      "</div>\n"
     ]
    }
   ],
   "source": [
    "print(countries[0])"
   ]
  },
  {
   "cell_type": "code",
   "execution_count": 27,
   "metadata": {
    "collapsed": true
   },
   "outputs": [],
   "source": [
    "c = []\n",
    "for i in range(0, len(countries)):\n",
    "    single = {}\n",
    "    #single['country'] = \n",
    "    single['capital'] = countries[i].find('div', 'country-info').find('span', \"country-capital\").text\n",
    "    c.append(single)"
   ]
  },
  {
   "cell_type": "code",
   "execution_count": 29,
   "metadata": {},
   "outputs": [
    {
     "data": {
      "text/plain": [
       "{'capital': 'Jakarta'}"
      ]
     },
     "execution_count": 29,
     "metadata": {},
     "output_type": "execute_result"
    }
   ],
   "source": [
    "c[100]"
   ]
  },
  {
   "cell_type": "code",
   "execution_count": 30,
   "metadata": {},
   "outputs": [
    {
     "data": {
      "text/plain": [
       "<div class=\"col-md-4 country\">\n",
       "<h3 class=\"country-name\">\n",
       "<i class=\"flag-icon flag-icon-ad\"></i>\n",
       "                            Andorra\n",
       "                        </h3>\n",
       "<div class=\"country-info\">\n",
       "<strong>Capital:</strong> <span class=\"country-capital\">Andorra la Vella</span><br/>\n",
       "<strong>Population:</strong> <span class=\"country-population\">84000</span><br/>\n",
       "<strong>Area (km<sup>2</sup>):</strong> <span class=\"country-area\">468.0</span><br/>\n",
       "</div>\n",
       "</div>"
      ]
     },
     "execution_count": 30,
     "metadata": {},
     "output_type": "execute_result"
    }
   ],
   "source": [
    "countries[0]"
   ]
  },
  {
   "cell_type": "code",
   "execution_count": 43,
   "metadata": {},
   "outputs": [
    {
     "name": "stdout",
     "output_type": "stream",
     "text": [
      "{'name': 'Andorra', 'capital': 'Andorra la Vella', 'population': 84000, 'area': 468.0}\n"
     ]
    }
   ],
   "source": [
    "single = {}\n",
    "this = countries[0]\n",
    "single['name'] = this.find('h3', 'country-name').text.strip()\n",
    "single['capital'] = this.find('span', 'country-capital').text.strip()\n",
    "single['population'] = int(this.find('span', 'country-population').text.strip())\n",
    "single['area'] = float(this.find('span', 'country-area').text.strip())\n",
    "print(single)"
   ]
  },
  {
   "cell_type": "code",
   "execution_count": 58,
   "metadata": {},
   "outputs": [
    {
     "name": "stdout",
     "output_type": "stream",
     "text": [
      "{'name': b'Hungary', 'capital': b'Budapest', 'population': 9982000, 'area': 93030.0}\n"
     ]
    }
   ],
   "source": [
    "def find_cat_details(base, category, details):\n",
    "    return base.find(category, details).text.strip()\n",
    "\n",
    "country_list = []\n",
    "for i in range(0, len(countries)):\n",
    "    single = {}\n",
    "    this = countries[i]\n",
    "    \n",
    "    single['name'] = find_cat_details(this, 'h3', 'country-name').encode('utf-8')\n",
    "    single['capital'] = find_cat_details(this, 'span', 'country-capital').encode('utf-8')\n",
    "    single['population'] = int(find_cat_details(this, 'span', 'country-population'))\n",
    "    single['area'] = float(find_cat_details(this, 'span', 'country-area'))\n",
    "    \n",
    "    country_list.append(single)  \n",
    "    \n",
    "print(country_list[99])"
   ]
  },
  {
   "cell_type": "code",
   "execution_count": 55,
   "metadata": {},
   "outputs": [
    {
     "data": {
      "text/plain": [
       "{'area': 468.0,\n",
       " 'capital': 'Andorra la Vella',\n",
       " 'name': 'Andorra',\n",
       " 'population': 84000}"
      ]
     },
     "execution_count": 55,
     "metadata": {},
     "output_type": "execute_result"
    }
   ],
   "source": [
    "country_list[0]"
   ]
  },
  {
   "cell_type": "code",
   "execution_count": 46,
   "metadata": {},
   "outputs": [
    {
     "data": {
      "text/plain": [
       "250"
      ]
     },
     "execution_count": 46,
     "metadata": {},
     "output_type": "execute_result"
    }
   ],
   "source": [
    "len(country_list)"
   ]
  },
  {
   "cell_type": "code",
   "execution_count": 48,
   "metadata": {},
   "outputs": [
    {
     "data": {
      "text/plain": [
       "{'area': 1919440.0,\n",
       " 'capital': 'Jakarta',\n",
       " 'name': 'Indonesia',\n",
       " 'population': 242968342}"
      ]
     },
     "execution_count": 48,
     "metadata": {},
     "output_type": "execute_result"
    }
   ],
   "source": [
    "country_list[100]"
   ]
  },
  {
   "cell_type": "code",
   "execution_count": 59,
   "metadata": {
    "collapsed": true
   },
   "outputs": [],
   "source": [
    "import csv"
   ]
  },
  {
   "cell_type": "code",
   "execution_count": 63,
   "metadata": {},
   "outputs": [
    {
     "data": {
      "text/plain": [
       "'/home/agigryms/Notebooks'"
      ]
     },
     "execution_count": 63,
     "metadata": {},
     "output_type": "execute_result"
    }
   ],
   "source": [
    "import os\n",
    "cwd = os.getcwd()\n",
    "cwd"
   ]
  },
  {
   "cell_type": "code",
   "execution_count": 75,
   "metadata": {},
   "outputs": [
    {
     "name": "stdout",
     "output_type": "stream",
     "text": [
      "Ready!\n"
     ]
    }
   ],
   "source": [
    "# import csv\n",
    "d = \"/home/agigryms/MyProjects/Hartley_Dec_2017\"\n",
    "file = d + \"/Storage/countries.csv\"\n",
    "\n",
    "def find_cat_details(base, category, details):\n",
    "    return base.find(category, details).text.strip()\n",
    "\n",
    "with open(file, \"w+\") as f: # replaces if exists\n",
    "    writer = csv.writer(f)    \n",
    "    writer.writerow(['Name', 'Capital', 'Population', 'Area'])\n",
    "\n",
    "    for this in countries: \n",
    "        name = find_cat_details(this, 'h3', 'country-name').encode('utf-8')\n",
    "        capital = find_cat_details(this, 'span', 'country-capital').encode('utf-8')\n",
    "        population = int(find_cat_details(this, 'span', 'country-population'))\n",
    "        area = float(find_cat_details(this, 'span', 'country-area'))\n",
    "\n",
    "        writer.writerow([name, capital, population, area])\n",
    "\n",
    "print('Ready!')"
   ]
  },
  {
   "cell_type": "code",
   "execution_count": 76,
   "metadata": {
    "collapsed": true
   },
   "outputs": [],
   "source": [
    "import sqlite3"
   ]
  },
  {
   "cell_type": "code",
   "execution_count": 77,
   "metadata": {
    "collapsed": true
   },
   "outputs": [],
   "source": [
    "conn = sqlite3.connect('example.db')"
   ]
  },
  {
   "cell_type": "code",
   "execution_count": 78,
   "metadata": {
    "collapsed": true
   },
   "outputs": [],
   "source": [
    "conn.row_factory = sqlite3.Row"
   ]
  },
  {
   "cell_type": "code",
   "execution_count": 79,
   "metadata": {
    "collapsed": true
   },
   "outputs": [],
   "source": [
    "conn.isolation_level = None"
   ]
  },
  {
   "cell_type": "code",
   "execution_count": 80,
   "metadata": {
    "collapsed": true
   },
   "outputs": [],
   "source": [
    "c = conn.cursor()"
   ]
  },
  {
   "cell_type": "code",
   "execution_count": 81,
   "metadata": {},
   "outputs": [
    {
     "data": {
      "text/plain": [
       "<sqlite3.Cursor at 0x7543542a4c00>"
      ]
     },
     "execution_count": 81,
     "metadata": {},
     "output_type": "execute_result"
    }
   ],
   "source": [
    "c.execute(\"\"\"\n",
    "CREATE TABLE IF NOT EXISTS items (\n",
    "name text, \n",
    "price text, \n",
    "url text\n",
    ")\n",
    "\"\"\")"
   ]
  },
  {
   "cell_type": "code",
   "execution_count": 86,
   "metadata": {
    "collapsed": true
   },
   "outputs": [],
   "source": [
    "insert_sql = \"INSERT INTO items (name, price, url) VALUES (?, ?, ?);\""
   ]
  },
  {
   "cell_type": "code",
   "execution_count": 87,
   "metadata": {},
   "outputs": [
    {
     "data": {
      "text/plain": [
       "<sqlite3.Cursor at 0x7543542a4c00>"
      ]
     },
     "execution_count": 87,
     "metadata": {},
     "output_type": "execute_result"
    }
   ],
   "source": [
    "c.execute(insert_sql, (\"item #1\", \"$19.95\", \"url #1\"))"
   ]
  },
  {
   "cell_type": "code",
   "execution_count": 88,
   "metadata": {},
   "outputs": [
    {
     "data": {
      "text/plain": [
       "<sqlite3.Cursor at 0x7543542a4c00>"
      ]
     },
     "execution_count": 88,
     "metadata": {},
     "output_type": "execute_result"
    }
   ],
   "source": [
    "c.execute(insert_sql, (\"item #2\", \"$199.90\", \"url #2\"))"
   ]
  },
  {
   "cell_type": "code",
   "execution_count": 94,
   "metadata": {
    "collapsed": true
   },
   "outputs": [],
   "source": [
    "items = c.execute(\"SELECT * FROM items\")"
   ]
  },
  {
   "cell_type": "code",
   "execution_count": 95,
   "metadata": {},
   "outputs": [
    {
     "name": "stdout",
     "output_type": "stream",
     "text": [
      "$19.95\n",
      "$199.90\n"
     ]
    }
   ],
   "source": [
    "for item in items:#.fetchall():\n",
    "    print(item[\"price\"])"
   ]
  },
  {
   "cell_type": "code",
   "execution_count": 96,
   "metadata": {},
   "outputs": [
    {
     "name": "stdout",
     "output_type": "stream",
     "text": [
      "Aga\n"
     ]
    }
   ],
   "source": [
    "print('Aga')"
   ]
  },
  {
   "cell_type": "code",
   "execution_count": 97,
   "metadata": {
    "collapsed": true
   },
   "outputs": [],
   "source": [
    "url = \"https://fly4.emirates.com/CAB/IBE/SelectPrice.aspx\"\n",
    "import requests\n",
    "from bs4 import BeautifulSoup"
   ]
  },
  {
   "cell_type": "code",
   "execution_count": 98,
   "metadata": {},
   "outputs": [
    {
     "name": "stdout",
     "output_type": "stream",
     "text": [
      "None\n"
     ]
    }
   ],
   "source": [
    "r = requests.get(url)\n",
    "soup = BeautifulSoup(r.text, \"html.parser\")\n",
    "curr = soup.find(\"span\", \"summary-curr-only\")\n",
    "print(curr)"
   ]
  },
  {
   "cell_type": "code",
   "execution_count": 99,
   "metadata": {},
   "outputs": [
    {
     "name": "stdout",
     "output_type": "stream",
     "text": [
      "<!DOCTYPE html PUBLIC \"-//W3C//DTD XHTML 1.0 Transitional//EN\" \"http://www.w3.org/TR/xhtml1/DTD/xhtml1-transitional.dtd\">\n",
      "<html xmlns=\"http://www.w3.org/1999/xhtml\">\n",
      " <body>\n",
      "  <script type=\"text/javascript\">\n",
      "   window.location = \"IBE.aspx?j=t\";\r\n",
      "var last = localStorage[\"lastPage\"] || \"\"\r\n",
      "current = location.href;\r\n",
      "if (last === current) { // last page is the same as this page\r\n",
      "//this is refresh: do nothing here.       \r\n",
      "}\r\n",
      "localStorage[\"lastPage\"] = current;\n",
      "  </script>\n",
      "  <noscript>\n",
      "   <meta content=\"0;URL=IBE.aspx?j=f\" http-equiv=\"refresh\"/>\n",
      "  </noscript>\n",
      " </body>\n",
      "</html>\n",
      "\n"
     ]
    }
   ],
   "source": [
    "print(soup.prettify())"
   ]
  },
  {
   "cell_type": "code",
   "execution_count": 130,
   "metadata": {
    "collapsed": true
   },
   "outputs": [],
   "source": [
    "text = '{\"outboundFlights\":[{\"departureStation\":\"KTW\",\"arrivalStation\":\"DWC\",\"price\":null,\"priceType\":\"noData\",\"date\":\"2017-12-13T00:00:00\",\"classOfService\":null,\"hasMacFlight\":false},{\"departureStation\":\"KTW\",\"arrivalStation\":\"DWC\",\"price\":{\"amount\":318.60000000,\"currencyCode\":\"PLN\"},\"priceType\":\"price\",\"date\":\"2017-12-14T00:00:00\",\"classOfService\":null,\"hasMacFlight\":false},{\"departureStation\":\"KTW\",\"arrivalStation\":\"DWC\",\"price\":null,\"priceType\":\"noData\",\"date\":\"2017-12-15T00:00:00\",\"classOfService\":null,\"hasMacFlight\":false},{\"departureStation\":\"KTW\",\"arrivalStation\":\"DWC\",\"price\":{\"amount\":286.60000000,\"currencyCode\":\"PLN\"},\"priceType\":\"price\",\"date\":\"2017-12-16T00:00:00\",\"classOfService\":null,\"hasMacFlight\":false},{\"departureStation\":\"KTW\",\"arrivalStation\":\"DWC\",\"price\":null,\"priceType\":\"noData\",\"date\":\"2017-12-17T00:00:00\",\"classOfService\":null,\"hasMacFlight\":false},{\"departureStation\":\"KTW\",\"arrivalStation\":\"DWC\",\"price\":null,\"priceType\":\"noData\",\"date\":\"2017-12-18T00:00:00\",\"classOfService\":null,\"hasMacFlight\":false},{\"departureStation\":\"KTW\",\"arrivalStation\":\"DWC\",\"price\":{\"amount\":318.60000000,\"currencyCode\":\"PLN\"},\"priceType\":\"price\",\"date\":\"2017-12-19T00:00:00\",\"classOfService\":null,\"hasMacFlight\":false}],\"returnFlights\":[]}'\n"
   ]
  },
  {
   "cell_type": "code",
   "execution_count": 131,
   "metadata": {
    "collapsed": true
   },
   "outputs": [],
   "source": [
    "import json\n",
    "j = json.loads(text)\n",
    "flights = j['outboundFlights']"
   ]
  },
  {
   "cell_type": "code",
   "execution_count": 132,
   "metadata": {
    "collapsed": true
   },
   "outputs": [],
   "source": [
    "flights = j['outboundFlights']\n",
    "#flights"
   ]
  },
  {
   "cell_type": "code",
   "execution_count": 134,
   "metadata": {},
   "outputs": [
    {
     "name": "stdout",
     "output_type": "stream",
     "text": [
      "{'2017-12-14': {'amount': 318.6, 'currencyCode': 'PLN'}}\n",
      "{'2017-12-16': {'amount': 286.6, 'currencyCode': 'PLN'}}\n",
      "{'2017-12-19': {'amount': 318.6, 'currencyCode': 'PLN'}}\n"
     ]
    }
   ],
   "source": [
    "#from datetime import datetime\n",
    "for flight in flights:\n",
    "    if flight['price']:  \n",
    "        f = {}\n",
    "        date = flight['date'][:10]\n",
    "        f[date] = flight['price']\n",
    "        print(f)\n",
    "    "
   ]
  },
  {
   "cell_type": "code",
   "execution_count": 186,
   "metadata": {},
   "outputs": [
    {
     "name": "stdout",
     "output_type": "stream",
     "text": [
      "OLX parsing\n"
     ]
    }
   ],
   "source": [
    "print('OLX parsing')"
   ]
  },
  {
   "cell_type": "code",
   "execution_count": 182,
   "metadata": {},
   "outputs": [
    {
     "name": "stdout",
     "output_type": "stream",
     "text": [
      "https://www.olx.pl/nieruchomosci/mieszkania/wynajem/warszawa/?search%5Bfilter_float_m%3Afrom%5D=50\n"
     ]
    }
   ],
   "source": [
    "sale = \"https://www.olx.pl/nieruchomosci/mieszkania/sprzedaz/warszawa/?search%5Bfilter_float_m%3Afrom%5D=50\"\n",
    "rent = \"https://www.olx.pl/nieruchomosci/mieszkania/wynajem/warszawa/?search%5Bfilter_float_m%3Afrom%5D=50\"\n",
    "base = \"https://www.olx.pl/nieruchomosci/mieszkania/wynajem/warszawa/\"\n",
    "search = \"?search%5Bfilter_float_m\"\n",
    "area = \"%3Afrom%5D=\"\n",
    "m2 = 50\n",
    "m2_string = str(50)\n",
    "room = \"https://www.olx.pl/nieruchomosci/mieszkania/wynajem/warszawa/?search%5Bfilter_float_m%3Afrom%5D=40&search%5Bfilter_enum_rooms%5D%5B0%5D=three\"\n",
    "\n",
    "u = base + search + area + m2_string\n",
    "print(u)"
   ]
  },
  {
   "cell_type": "code",
   "execution_count": 183,
   "metadata": {
    "collapsed": true
   },
   "outputs": [],
   "source": [
    "import requests\n",
    "from bs4 import BeautifulSoup"
   ]
  },
  {
   "cell_type": "code",
   "execution_count": 184,
   "metadata": {},
   "outputs": [
    {
     "name": "stdout",
     "output_type": "stream",
     "text": [
      "6\n"
     ]
    }
   ],
   "source": [
    "req = requests.get(u)\n",
    "soup = BeautifulSoup(req.text, \"html.parser\")\n",
    "print(len(soup))"
   ]
  },
  {
   "cell_type": "code",
   "execution_count": 55,
   "metadata": {
    "scrolled": true
   },
   "outputs": [
    {
     "name": "stdout",
     "output_type": "stream",
     "text": [
      "{'title': '3-pokojowe mieszkanie z garażem w nowym budownictwie', 'price_zl': '1 700 zł', 'price': 1700, 'when': 'dzisiaj 09:15'}\n",
      "{'title': 'Mieszkanie Warszawa 57m2 Mokotów', 'price_zl': '2 700 zł', 'price': 2700, 'when': 'dzisiaj 09:13'}\n",
      "{'title': 'Chodkiewicza, 2 p., wysoki standard, wyłączność', 'price_zl': '3 400 zł', 'price': 3400, 'when': 'dzisiaj 09:00'}\n",
      "{'title': '2 pokoje, Mokotów, ul. Obrzeżna - BEZ PROWIZJI', 'price_zl': '2 650 zł', 'price': 2650, 'when': 'dzisiaj 08:51'}\n",
      "{'title': '2 pokoje, 50m2, ul.Olszewska, Mokotów, Bez prowizji!', 'price_zl': '2 300 zł', 'price': 2300, 'when': 'dzisiaj 08:50'}\n",
      "{'title': 'Wiersz o mieszkaniu przy ulicy Zawiszy', 'price_zl': '2 200 zł', 'price': 2200, 'when': 'dzisiaj 08:37'}\n",
      "{'title': 'Apartament, 82 m.2, trzy pokoje, przy Promenadzie', 'price_zl': '3 300 zł', 'price': 3300, 'when': 'dzisiaj 08:18'}\n",
      "{'title': 'Mokotów/Ursynów wysoki standard 3 pokoje 70 m2', 'price_zl': '3 300 zł', 'price': 3300, 'when': 'dzisiaj 08:07'}\n",
      "{'title': 'Mieszkanie na Tarchominie, 65 m2, ulica Majolikowa', 'price_zl': '2 800 zł', 'price': 2800, 'when': 'dzisiaj 08:00'}\n",
      "{'title': 'Komfort przy Łazienkach BEZPOŚREDNIO od WŁAŚC.', 'price_zl': '2 499 zł', 'price': 2499, 'when': 'dzisiaj 07:51'}\n",
      "{'title': 'Mieszkanie na Budy / Górce - wszędzie blisko!', 'price_zl': '2 300 zł', 'price': 2300, 'when': 'dzisiaj 07:50'}\n",
      "{'title': 'biuro 150 m2 przy stacji metra na Powiślu', 'price_zl': '6 900 zł', 'price': 6900, 'when': 'dzisiaj 07:41'}\n",
      "{'title': '3-pok. na Bemowie, dostępne od zaraz.', 'price_zl': '2 500 zł', 'price': 2500, 'when': 'dzisiaj 07:33'}\n",
      "{'title': 'Kabaty 72m2, 3 pokoje,basen, ochrona, garaż,', 'price_zl': '3 500 zł', 'price': 3500, 'when': 'dzisiaj 07:31'}\n",
      "{'title': 'Nowoczesne 2- pokojowe , przytulne mieszkanie!', 'price_zl': '3 000 zł', 'price': 3000, 'when': 'dzisiaj 07:30'}\n",
      "{'title': '3 pokojowe mieszkanie przy Rondo Daszyńskiego', 'price_zl': '3 900 zł', 'price': 3900, 'when': 'dzisiaj 07:28'}\n",
      "{'title': 'Mieszkanie do wynajęcia ul Wilcza róg Mokotowskiej', 'price_zl': '3 800 zł', 'price': 3800, 'when': 'dzisiaj 07:28'}\n",
      "{'title': '3 pokojowy apartament 115m2,na skarpie w Mokotowie', 'price_zl': '4 200 zł', 'price': 4200, 'when': 'dzisiaj 07:19'}\n",
      "{'title': 'Apartament Miasteczko Wilanów 127 m2', 'price_zl': '6 600 zł', 'price': 6600, 'when': 'dzisiaj 07:19'}\n",
      "{'title': 'Apartament z klimatyzacja | 2 pokoje 51m2 | ul. Giełdowa', 'price_zl': '2 800 zł', 'price': 2800, 'when': 'dzisiaj 03:25'}\n",
      "{'title': 'Ostatnie piętro + taras | 3 pokoje 74m2 | ul. Śródziemnomorska', 'price_zl': '4 000 zł', 'price': 4000, 'when': 'dzisiaj 03:12'}\n",
      "{'title': 'Widok na ścisłe centrum | 3 pok., 50 m² | Żelazna', 'price_zl': '3 000 zł', 'price': 3000, 'when': 'dzisiaj 03:10'}\n",
      "{'title': 'Najwyższy standard - piękne Stare Miasto | 3 pok., 53 m² | Bednarska', 'price_zl': '4 900 zł', 'price': 4900, 'when': 'dzisiaj 03:07'}\n",
      "{'title': 'Apartament z ujmującym widokiem | 4 pokoje 100m2 |ul. Woronicza', 'price_zl': '9 000 zł', 'price': 9000, 'when': 'dzisiaj 03:05'}\n",
      "{'title': 'Ładne, jasne, przestronne mieszkanie na Elektoralnej-Śródmieście', 'price_zl': '2 900 zł', 'price': 2900, 'when': 'dzisiaj 00:29'}\n",
      "{'title': 'Mokotów*dwa pokoje*duża kuchnia*60.5m2*2200zł/m-c*sprawdź', 'price_zl': '2 200 zł', 'price': 2200, 'when': 'dzisiaj 00:10'}\n",
      "{'title': 'Mieszkanie 55m2 - Filtrowa - okazja', 'price_zl': '2 000 zł', 'price': 2000, 'when': 'wczoraj 23:20'}\n",
      "{'title': '131 m2 z pięknym widokiem przy ul. Grzybowskiej', 'price_zl': '12 000 zł', 'price': 12000, 'when': 'wczoraj 23:18'}\n",
      "{'title': 'Mieszkanie 2 pokoje do wynajęcia - Ursynów/Metro Imielin', 'price_zl': '2 600 zł', 'price': 2600, 'when': 'wczoraj 22:42'}\n",
      "{'title': 'Wynajmę mieszkanie premium 2-pokojowe 60 m2 - bliskie Bielany', 'price_zl': '2 900 zł', 'price': 2900, 'when': 'wczoraj 22:34'}\n",
      "{'title': 'Dwupokojowe mieszkanie 55 m2, ul. Bukowińska, blisko metra', 'price_zl': '2 900 zł', 'price': 2900, 'when': 'wczoraj 22:33'}\n",
      "{'title': 'MOKOTOW/ Chodkiewicza Eko Park NOWOCZESNE 3POKOJOWE,garaż,bezposrednio', 'price_zl': '5 200 zł', 'price': 5200, 'when': 'wczoraj 22:25'}\n",
      "{'title': 'Mieszkanie 2-pokojowe - Metro Wierzbno, cena z czynszem', 'price_zl': '2 350 zł', 'price': 2350, 'when': 'wczoraj 22:24'}\n",
      "{'title': 'Praga południe-55m2-2 pokoje-garaż-wolne', 'price_zl': '2 500 zł', 'price': 2500, 'when': 'wczoraj 22:20'}\n",
      "{'title': 'Śródmieście-80m2-3 pokoje-garaż-wysoki standard-wolne-0% prowizji', 'price_zl': '3 800 zł', 'price': 3800, 'when': 'wczoraj 22:16'}\n",
      "{'title': 'Śródmieście-55m2-2 pokoje-garaż-wysoki standard-super widok-0%prowizji', 'price_zl': '3 500 zł', 'price': 3500, 'when': 'wczoraj 22:12'}\n",
      "{'title': '2-pokojowe mieszkanie z garażem blisko metra Kabaty', 'price_zl': '2 000 zł', 'price': 2000, 'when': 'wczoraj 22:12'}\n",
      "{'title': 'Ursynów-52m2-2 pokoje-metro Ursynów-wolne', 'price_zl': '2 500 zł', 'price': 2500, 'when': 'wczoraj 22:11'}\n",
      "{'title': 'Wynajmę umeblowane mieszkanie na Grochowie na ulicy Domeyki', 'price_zl': '2 900 zł', 'price': 2900, 'when': 'wczoraj 22:09'}\n"
     ]
    }
   ],
   "source": [
    "import requests, re\n",
    "from bs4 import BeautifulSoup\n",
    "\n",
    "sale = \"https://www.olx.pl/nieruchomosci/mieszkania/sprzedaz/warszawa/?search%5Bfilter_float_m%3Afrom%5D=50\"\n",
    "rent = \"https://www.olx.pl/nieruchomosci/mieszkania/wynajem/warszawa/?search%5Bfilter_float_m%3Afrom%5D=50\"\n",
    "base = \"https://www.olx.pl/nieruchomosci/mieszkania/wynajem/warszawa/\"\n",
    "search = \"?search%5Bfilter_float_m\"\n",
    "area = \"%3Afrom%5D=\"\n",
    "m2 = 50\n",
    "m2_string = str(50)\n",
    "room = \"https://www.olx.pl/nieruchomosci/mieszkania/wynajem/warszawa/?search%5Bfilter_float_m%3Afrom%5D=40&search%5Bfilter_enum_rooms%5D%5B0%5D=three\"\n",
    "\n",
    "u = base + search + area + m2_string\n",
    "\n",
    "req = requests.get(u)\n",
    "soup = BeautifulSoup(req.text, \"html.parser\")\n",
    "\n",
    "olx_ads = soup.find(\"table\", {'id':\"offers_table\"})\n",
    "#print(len(ads))\n",
    "singles = olx_ads.find_all(\"tr\",  \"wrap\")\n",
    "for single in singles:\n",
    "    ad = {}\n",
    "    ad['title'] = single.find('h3').text.strip()\n",
    "    p = single.find_all('p')\n",
    "    ad['price_zl'] = p[1].text.strip()\n",
    "    match = re.search('[0-9 ]+', ad['price_zl'])\n",
    "    ad['price'] = int( (match.group()).replace(' ', '') )\n",
    "    ad['when'] = p[3].text.strip()\n",
    "    print(ad)\n"
   ]
  },
  {
   "cell_type": "code",
   "execution_count": 1,
   "metadata": {
    "collapsed": true
   },
   "outputs": [],
   "source": [
    "import requests"
   ]
  },
  {
   "cell_type": "code",
   "execution_count": 33,
   "metadata": {},
   "outputs": [],
   "source": [
    "headers = '{ \"Accept\": \"*/*\", \"Accept-Encoding\":\"gzip, deflate, br\", \"User-Agent\": \"Mozilla/5.0 (X11; CrOS x86_64 9592.96.0) AppleWebKit/537.36 (KHTML, like Gecko) Chrome/60.0.3112.114 Safari/537.36\", \\\n",
    "          \"Accept-Language\":\"en-GB,en;q=0.8,en-US;q=0.6,pl;q=0.4\", \"Connection\":\"keep-alive\", \"Host\":\"rpt.cedexis.com\", \\\n",
    "           \"Origin\":\"https://www.olx.pl\" }' #, \"Referer\":\"https://www.olx.pl/nieruchomosci/mieszkania/wynajem/warszawa/?search%5Bfilter_float_m%3Afrom%5D=50\" }'"
   ]
  },
  {
   "cell_type": "code",
   "execution_count": 34,
   "metadata": {},
   "outputs": [],
   "source": [
    "#import json\n",
    "header = json.loads(headers)"
   ]
  },
  {
   "cell_type": "code",
   "execution_count": 35,
   "metadata": {},
   "outputs": [
    {
     "name": "stdout",
     "output_type": "stream",
     "text": [
      "<class 'dict'>\n"
     ]
    }
   ],
   "source": [
    "#print(header)\n",
    "print(type(header))"
   ]
  },
  {
   "cell_type": "code",
   "execution_count": 37,
   "metadata": {},
   "outputs": [
    {
     "name": "stdout",
     "output_type": "stream",
     "text": [
      "rpt.cedexis.com\n"
     ]
    },
    {
     "ename": "KeyError",
     "evalue": "'Referer'",
     "output_type": "error",
     "traceback": [
      "\u001b[0;31m---------------------------------------------------------------------------\u001b[0m",
      "\u001b[0;31mKeyError\u001b[0m                                  Traceback (most recent call last)",
      "\u001b[0;32m<ipython-input-37-9b5f2610ba5d>\u001b[0m in \u001b[0;36m<module>\u001b[0;34m()\u001b[0m\n\u001b[1;32m      1\u001b[0m \u001b[0mprint\u001b[0m\u001b[0;34m(\u001b[0m\u001b[0mheader\u001b[0m\u001b[0;34m[\u001b[0m\u001b[0;34m'Host'\u001b[0m\u001b[0;34m]\u001b[0m\u001b[0;34m)\u001b[0m\u001b[0;34m\u001b[0m\u001b[0m\n\u001b[0;32m----> 2\u001b[0;31m \u001b[0mheader\u001b[0m\u001b[0;34m[\u001b[0m\u001b[0;34m'Referer'\u001b[0m\u001b[0;34m]\u001b[0m\u001b[0;34m\u001b[0m\u001b[0m\n\u001b[0m",
      "\u001b[0;31mKeyError\u001b[0m: 'Referer'"
     ]
    }
   ],
   "source": [
    "print(header['Host'])\n",
    "#header['Referer']"
   ]
  },
  {
   "cell_type": "code",
   "execution_count": 38,
   "metadata": {},
   "outputs": [
    {
     "data": {
      "text/plain": [
       "'https://www.olx.pl/nieruchomosci/mieszkania/wynajem/warszawa/?search%5Bfilter_float_m%3Afrom%5D=50'"
      ]
     },
     "execution_count": 38,
     "metadata": {},
     "output_type": "execute_result"
    }
   ],
   "source": [
    "olx = \"https://www.olx.pl/nieruchomosci/mieszkania/wynajem/warszawa/?search%5Bfilter_float_m%3Afrom%5D=50\"\n",
    "r = requests.get(olx, headers=header)"
   ]
  },
  {
   "cell_type": "code",
   "execution_count": 39,
   "metadata": {
    "collapsed": true
   },
   "outputs": [],
   "source": []
  },
  {
   "cell_type": "code",
   "execution_count": 40,
   "metadata": {
    "collapsed": true
   },
   "outputs": [],
   "source": [
    "#from bs4 import BeautifulSoup"
   ]
  },
  {
   "cell_type": "code",
   "execution_count": 41,
   "metadata": {
    "collapsed": true
   },
   "outputs": [],
   "source": [
    "olxsoup = BeautifulSoup(r.text, \"html.parser\")"
   ]
  },
  {
   "cell_type": "code",
   "execution_count": 42,
   "metadata": {},
   "outputs": [
    {
     "name": "stdout",
     "output_type": "stream",
     "text": [
      "<html>\n",
      " <head>\n",
      "  <title>\n",
      "   Invalid URL\n",
      "  </title>\n",
      " </head>\n",
      " <body>\n",
      "  <h1>\n",
      "   Invalid URL\n",
      "  </h1>\n",
      "  The requested URL \"http://%5bNo%20Host%5d/nieruchomosci/mieszkania/wynajem/warszawa/?\", is invalid.\n",
      "  <p>\n",
      "   Reference #9.74ac1002.1513323693.92181a8\n",
      "  </p>\n",
      " </body>\n",
      "</html>\n",
      "\n"
     ]
    }
   ],
   "source": [
    "print(olxsoup.prettify())"
   ]
  },
  {
   "cell_type": "code",
   "execution_count": 51,
   "metadata": {},
   "outputs": [
    {
     "name": "stdout",
     "output_type": "stream",
     "text": [
      "2017-12-15 09:17:21\n"
     ]
    }
   ],
   "source": [
    "#import time\n",
    "t0 = time.time()\n",
    "\n",
    "def from_epoch(t0):\n",
    "    return time.strftime('%Y-%m-%d %H:%M:%S', time.localtime(t0))\n",
    "\n",
    "print(from_epoch(t0))"
   ]
  },
  {
   "cell_type": "code",
   "execution_count": 53,
   "metadata": {},
   "outputs": [
    {
     "data": {
      "text/plain": [
       "str"
      ]
     },
     "execution_count": 53,
     "metadata": {},
     "output_type": "execute_result"
    }
   ],
   "source": [
    "type('2017-12-15 09:17:21')"
   ]
  },
  {
   "cell_type": "code",
   "execution_count": 62,
   "metadata": {},
   "outputs": [
    {
     "name": "stdout",
     "output_type": "stream",
     "text": [
      "Started @ 2017-12-15 09:31:12\n",
      "Finished @ 2017-12-15 09:31:14\n",
      "Took: 1.6485958099365234\n"
     ]
    }
   ],
   "source": [
    "import requests, re, time\n",
    "from bs4 import BeautifulSoup\n",
    "\n",
    "def from_epoch(t0):\n",
    "    return time.strftime('%Y-%m-%d %H:%M:%S', time.localtime(t0))\n",
    "\n",
    "u = \"https://www.olx.pl/nieruchomosci/mieszkania/wynajem/warszawa/?search%5Bfilter_float_m%3Afrom%5D=50\"\n",
    "\n",
    "t0 = time.time()\n",
    "print('Started @ {}'.format(from_epoch(t0)))\n",
    "\n",
    "req = requests.get(u)\n",
    "soup = BeautifulSoup(req.text, \"html.parser\")\n",
    "\n",
    "olx_ads = soup.find(\"table\", {'id':\"offers_table\"})\n",
    "#print(len(ads))\n",
    "singles = olx_ads.find_all(\"tr\",  \"wrap\")\n",
    "for single in singles:\n",
    "    ad = {}\n",
    "    ad['title'] = single.find('h3').text.strip()\n",
    "    p = single.find_all('p')\n",
    "    ad['price_zl'] = p[1].text.strip()\n",
    "    match = re.search('[0-9 ]+', ad['price_zl'])\n",
    "    ad['price'] = int( (match.group()).replace(' ', '') )\n",
    "    ad['when'] = p[3].text.strip()\n",
    "    #print(ad)\n",
    "\n",
    "t = time.time()\n",
    "print('Finished @ {}'.format(from_epoch(t)))\n",
    "response_delay = t - t0 # returns seconds: 1.61\n",
    "print('Took: {}'.format(response_delay))\n",
    "\n"
   ]
  },
  {
   "cell_type": "code",
   "execution_count": null,
   "metadata": {
    "collapsed": true
   },
   "outputs": [],
   "source": []
  }
 ],
 "metadata": {
  "kernelspec": {
   "display_name": "Python 3",
   "language": "python",
   "name": "python3"
  },
  "language_info": {
   "codemirror_mode": {
    "name": "ipython",
    "version": 3
   },
   "file_extension": ".py",
   "mimetype": "text/x-python",
   "name": "python",
   "nbconvert_exporter": "python",
   "pygments_lexer": "ipython3",
   "version": "3.6.1"
  }
 },
 "nbformat": 4,
 "nbformat_minor": 2
}
