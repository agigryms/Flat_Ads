{
 "cells": [
  {
   "cell_type": "code",
   "execution_count": 59,
   "metadata": {
    "collapsed": true
   },
   "outputs": [],
   "source": [
    "import csv"
   ]
  },
  {
   "cell_type": "code",
   "execution_count": 63,
   "metadata": {},
   "outputs": [
    {
     "data": {
      "text/plain": [
       "'/home/agigryms/Notebooks'"
      ]
     },
     "execution_count": 63,
     "metadata": {},
     "output_type": "execute_result"
    }
   ],
   "source": [
    "import os\n",
    "cwd = os.getcwd()\n",
    "cwd"
   ]
  },
  {
   "cell_type": "code",
   "execution_count": 75,
   "metadata": {},
   "outputs": [
    {
     "name": "stdout",
     "output_type": "stream",
     "text": [
      "Ready!\n"
     ]
    }
   ],
   "source": [
    "# import csv\n",
    "d = \"/home/agigryms/MyProjects/Hartley_Dec_2017\"\n",
    "file = d + \"/Storage/countries.csv\"\n",
    "\n",
    "def find_cat_details(base, category, details):\n",
    "    return base.find(category, details).text.strip()\n",
    "\n",
    "with open(file, \"w+\") as f: # replaces if exists\n",
    "    writer = csv.writer(f)    \n",
    "    writer.writerow(['Name', 'Capital', 'Population', 'Area'])\n",
    "\n",
    "    for this in countries: \n",
    "        name = find_cat_details(this, 'h3', 'country-name').encode('utf-8')\n",
    "        capital = find_cat_details(this, 'span', 'country-capital').encode('utf-8')\n",
    "        population = int(find_cat_details(this, 'span', 'country-population'))\n",
    "        area = float(find_cat_details(this, 'span', 'country-area'))\n",
    "\n",
    "        writer.writerow([name, capital, population, area])\n",
    "\n",
    "print('Ready!')"
   ]
  },
  {
   "cell_type": "code",
   "execution_count": 10,
   "metadata": {
    "collapsed": true
   },
   "outputs": [],
   "source": [
    "import sqlite3\n",
    "conn = sqlite3.connect('/home/agigryms/MyProjects/Hartley_Dec_2017/countries.db')\n",
    "conn.row_factory = sqlite3.Row\n",
    "conn.isolation_level = None\n",
    "c = conn.cursor()\n",
    "countries_retrieve = c.execute(\"SELECT * FROM countries\")"
   ]
  },
  {
   "cell_type": "code",
   "execution_count": 15,
   "metadata": {},
   "outputs": [
    {
     "name": "stdout",
     "output_type": "stream",
     "text": [
      "Andorra\n",
      "United Arab Emirates\n",
      "Afghanistan\n",
      "Antigua and Barbuda\n",
      "Anguilla\n",
      "Albania\n",
      "Armenia\n",
      "Angola\n",
      "Antarctica\n",
      "Argentina\n",
      "American Samoa\n",
      "Austria\n",
      "Australia\n",
      "Aruba\n",
      "Åland\n",
      "Azerbaijan\n",
      "Bosnia and Herzegovina\n",
      "Barbados\n",
      "Bangladesh\n",
      "Belgium\n",
      "Burkina Faso\n",
      "Bulgaria\n",
      "Bahrain\n",
      "Burundi\n",
      "Benin\n",
      "Saint Barthélemy\n",
      "Bermuda\n",
      "Brunei\n",
      "Bolivia\n",
      "Bonaire\n",
      "Brazil\n",
      "Bahamas\n",
      "Bhutan\n",
      "Bouvet Island\n",
      "Botswana\n",
      "Belarus\n",
      "Belize\n",
      "Canada\n",
      "Cocos [Keeling] Islands\n",
      "Democratic Republic of the Congo\n",
      "Central African Republic\n",
      "Republic of the Congo\n",
      "Switzerland\n",
      "Ivory Coast\n",
      "Cook Islands\n",
      "Chile\n",
      "Cameroon\n",
      "China\n",
      "Colombia\n",
      "Costa Rica\n",
      "Cuba\n",
      "Cape Verde\n",
      "Curacao\n",
      "Christmas Island\n",
      "Cyprus\n",
      "Czech Republic\n",
      "Germany\n",
      "Djibouti\n",
      "Denmark\n",
      "Dominica\n",
      "Dominican Republic\n",
      "Algeria\n",
      "Ecuador\n",
      "Estonia\n",
      "Egypt\n",
      "Western Sahara\n",
      "Eritrea\n",
      "Spain\n",
      "Ethiopia\n",
      "Finland\n",
      "Fiji\n",
      "Falkland Islands\n",
      "Micronesia\n",
      "Faroe Islands\n",
      "France\n",
      "Gabon\n",
      "United Kingdom\n",
      "Grenada\n",
      "Georgia\n",
      "French Guiana\n",
      "Guernsey\n",
      "Ghana\n",
      "Gibraltar\n",
      "Greenland\n",
      "Gambia\n",
      "Guinea\n",
      "Guadeloupe\n",
      "Equatorial Guinea\n",
      "Greece\n",
      "South Georgia and the South Sandwich Islands\n",
      "Guatemala\n",
      "Guam\n",
      "Guinea-Bissau\n",
      "Guyana\n",
      "Hong Kong\n",
      "Heard Island and McDonald Islands\n",
      "Honduras\n",
      "Croatia\n",
      "Haiti\n",
      "Hungary\n",
      "Indonesia\n",
      "Ireland\n",
      "Israel\n",
      "Isle of Man\n",
      "India\n",
      "British Indian Ocean Territory\n",
      "Iraq\n",
      "Iran\n",
      "Iceland\n",
      "Italy\n",
      "Jersey\n",
      "Jamaica\n",
      "Jordan\n",
      "Japan\n",
      "Kenya\n",
      "Kyrgyzstan\n",
      "Cambodia\n",
      "Kiribati\n",
      "Comoros\n",
      "Saint Kitts and Nevis\n",
      "North Korea\n",
      "South Korea\n",
      "Kuwait\n",
      "Cayman Islands\n",
      "Kazakhstan\n",
      "Laos\n",
      "Lebanon\n",
      "Saint Lucia\n",
      "Liechtenstein\n",
      "Sri Lanka\n",
      "Liberia\n",
      "Lesotho\n",
      "Lithuania\n",
      "Luxembourg\n",
      "Latvia\n",
      "Libya\n",
      "Morocco\n",
      "Monaco\n",
      "Moldova\n",
      "Montenegro\n",
      "Saint Martin\n",
      "Madagascar\n",
      "Marshall Islands\n",
      "Macedonia\n",
      "Mali\n",
      "Myanmar [Burma]\n",
      "Mongolia\n",
      "Macao\n",
      "Northern Mariana Islands\n",
      "Martinique\n",
      "Mauritania\n",
      "Montserrat\n",
      "Malta\n",
      "Mauritius\n",
      "Maldives\n",
      "Malawi\n",
      "Mexico\n",
      "Malaysia\n",
      "Mozambique\n",
      "Namibia\n",
      "New Caledonia\n",
      "Niger\n",
      "Norfolk Island\n",
      "Nigeria\n",
      "Nicaragua\n",
      "Netherlands\n",
      "Norway\n",
      "Nepal\n",
      "Nauru\n",
      "Niue\n",
      "New Zealand\n",
      "Oman\n",
      "Panama\n",
      "Peru\n",
      "French Polynesia\n",
      "Papua New Guinea\n",
      "Philippines\n",
      "Pakistan\n",
      "Poland\n",
      "Saint Pierre and Miquelon\n",
      "Pitcairn Islands\n",
      "Puerto Rico\n",
      "Palestine\n",
      "Portugal\n",
      "Palau\n",
      "Paraguay\n",
      "Qatar\n",
      "Réunion\n",
      "Romania\n",
      "Serbia\n",
      "Russia\n",
      "Rwanda\n",
      "Saudi Arabia\n",
      "Solomon Islands\n",
      "Seychelles\n",
      "Sudan\n",
      "Sweden\n",
      "Singapore\n",
      "Saint Helena\n",
      "Slovenia\n",
      "Svalbard and Jan Mayen\n",
      "Slovakia\n",
      "Sierra Leone\n",
      "San Marino\n",
      "Senegal\n",
      "Somalia\n",
      "Suriname\n",
      "South Sudan\n",
      "São Tomé and Príncipe\n",
      "El Salvador\n",
      "Sint Maarten\n",
      "Syria\n",
      "Swaziland\n",
      "Turks and Caicos Islands\n",
      "Chad\n",
      "French Southern Territories\n",
      "Togo\n",
      "Thailand\n",
      "Tajikistan\n",
      "Tokelau\n",
      "East Timor\n",
      "Turkmenistan\n",
      "Tunisia\n",
      "Tonga\n",
      "Turkey\n",
      "Trinidad and Tobago\n",
      "Tuvalu\n",
      "Taiwan\n",
      "Tanzania\n",
      "Ukraine\n",
      "Uganda\n",
      "U.S. Minor Outlying Islands\n",
      "United States\n",
      "Uruguay\n",
      "Uzbekistan\n",
      "Vatican City\n",
      "Saint Vincent and the Grenadines\n",
      "Venezuela\n",
      "British Virgin Islands\n",
      "U.S. Virgin Islands\n",
      "Vietnam\n",
      "Vanuatu\n",
      "Wallis and Futuna\n",
      "Samoa\n",
      "Kosovo\n",
      "Yemen\n",
      "Mayotte\n",
      "South Africa\n",
      "Zambia\n",
      "Zimbabwe\n"
     ]
    }
   ],
   "source": [
    "for country in countries_retrieve:\n",
    "    print(country['name'])"
   ]
  },
  {
   "cell_type": "code",
   "execution_count": 17,
   "metadata": {},
   "outputs": [
    {
     "data": {
      "text/plain": [
       "<sqlite3.Cursor at 0x7dec5131e260>"
      ]
     },
     "execution_count": 17,
     "metadata": {},
     "output_type": "execute_result"
    }
   ],
   "source": [
    "c.execute(\"\"\"\n",
    "CREATE TABLE IF NOT EXISTS items (\n",
    "name text, \n",
    "price text, \n",
    "url text\n",
    ")\n",
    "\"\"\")"
   ]
  },
  {
   "cell_type": "code",
   "execution_count": 86,
   "metadata": {
    "collapsed": true
   },
   "outputs": [],
   "source": [
    "insert_sql = \"INSERT INTO items (name, price, url) VALUES (?, ?, ?);\""
   ]
  },
  {
   "cell_type": "code",
   "execution_count": 87,
   "metadata": {},
   "outputs": [
    {
     "data": {
      "text/plain": [
       "<sqlite3.Cursor at 0x7543542a4c00>"
      ]
     },
     "execution_count": 87,
     "metadata": {},
     "output_type": "execute_result"
    }
   ],
   "source": [
    "c.execute(insert_sql, (\"item #1\", \"$19.95\", \"url #1\"))"
   ]
  },
  {
   "cell_type": "code",
   "execution_count": 88,
   "metadata": {},
   "outputs": [
    {
     "data": {
      "text/plain": [
       "<sqlite3.Cursor at 0x7543542a4c00>"
      ]
     },
     "execution_count": 88,
     "metadata": {},
     "output_type": "execute_result"
    }
   ],
   "source": [
    "c.execute(insert_sql, (\"item #2\", \"$199.90\", \"url #2\"))"
   ]
  },
  {
   "cell_type": "code",
   "execution_count": 8,
   "metadata": {},
   "outputs": [
    {
     "ename": "OperationalError",
     "evalue": "no such table: items",
     "output_type": "error",
     "traceback": [
      "\u001b[0;31m---------------------------------------------------------------------------\u001b[0m",
      "\u001b[0;31mOperationalError\u001b[0m                          Traceback (most recent call last)",
      "\u001b[0;32m<ipython-input-8-0b8aa02d3c57>\u001b[0m in \u001b[0;36m<module>\u001b[0;34m()\u001b[0m\n\u001b[0;32m----> 1\u001b[0;31m \u001b[0mitems\u001b[0m \u001b[0;34m=\u001b[0m \u001b[0mc\u001b[0m\u001b[0;34m.\u001b[0m\u001b[0mexecute\u001b[0m\u001b[0;34m(\u001b[0m\u001b[0;34m\"SELECT * FROM items\"\u001b[0m\u001b[0;34m)\u001b[0m\u001b[0;34m\u001b[0m\u001b[0m\n\u001b[0m",
      "\u001b[0;31mOperationalError\u001b[0m: no such table: items"
     ]
    }
   ],
   "source": [
    "items = c.execute(\"SELECT * FROM items\")"
   ]
  },
  {
   "cell_type": "code",
   "execution_count": 97,
   "metadata": {
    "collapsed": true
   },
   "outputs": [],
   "source": [
    "url = \"https://fly4.emirates.com/CAB/IBE/SelectPrice.aspx\"\n",
    "import requests\n",
    "from bs4 import BeautifulSoup"
   ]
  },
  {
   "cell_type": "code",
   "execution_count": 98,
   "metadata": {},
   "outputs": [
    {
     "name": "stdout",
     "output_type": "stream",
     "text": [
      "None\n"
     ]
    }
   ],
   "source": [
    "r = requests.get(url)\n",
    "soup = BeautifulSoup(r.text, \"html.parser\")\n",
    "curr = soup.find(\"span\", \"summary-curr-only\")\n",
    "print(curr)"
   ]
  },
  {
   "cell_type": "code",
   "execution_count": 130,
   "metadata": {
    "collapsed": true
   },
   "outputs": [],
   "source": [
    "text = '{\"outboundFlights\":[{\"departureStation\":\"KTW\",\"arrivalStation\":\"DWC\",\"price\":null,\"priceType\":\"noData\",\"date\":\"2017-12-13T00:00:00\",\"classOfService\":null,\"hasMacFlight\":false},{\"departureStation\":\"KTW\",\"arrivalStation\":\"DWC\",\"price\":{\"amount\":318.60000000,\"currencyCode\":\"PLN\"},\"priceType\":\"price\",\"date\":\"2017-12-14T00:00:00\",\"classOfService\":null,\"hasMacFlight\":false},{\"departureStation\":\"KTW\",\"arrivalStation\":\"DWC\",\"price\":null,\"priceType\":\"noData\",\"date\":\"2017-12-15T00:00:00\",\"classOfService\":null,\"hasMacFlight\":false},{\"departureStation\":\"KTW\",\"arrivalStation\":\"DWC\",\"price\":{\"amount\":286.60000000,\"currencyCode\":\"PLN\"},\"priceType\":\"price\",\"date\":\"2017-12-16T00:00:00\",\"classOfService\":null,\"hasMacFlight\":false},{\"departureStation\":\"KTW\",\"arrivalStation\":\"DWC\",\"price\":null,\"priceType\":\"noData\",\"date\":\"2017-12-17T00:00:00\",\"classOfService\":null,\"hasMacFlight\":false},{\"departureStation\":\"KTW\",\"arrivalStation\":\"DWC\",\"price\":null,\"priceType\":\"noData\",\"date\":\"2017-12-18T00:00:00\",\"classOfService\":null,\"hasMacFlight\":false},{\"departureStation\":\"KTW\",\"arrivalStation\":\"DWC\",\"price\":{\"amount\":318.60000000,\"currencyCode\":\"PLN\"},\"priceType\":\"price\",\"date\":\"2017-12-19T00:00:00\",\"classOfService\":null,\"hasMacFlight\":false}],\"returnFlights\":[]}'\n"
   ]
  },
  {
   "cell_type": "code",
   "execution_count": 131,
   "metadata": {
    "collapsed": true
   },
   "outputs": [],
   "source": [
    "import json\n",
    "j = json.loads(text)\n",
    "flights = j['outboundFlights']"
   ]
  },
  {
   "cell_type": "code",
   "execution_count": 132,
   "metadata": {
    "collapsed": true
   },
   "outputs": [],
   "source": [
    "flights = j['outboundFlights']\n",
    "#flights"
   ]
  },
  {
   "cell_type": "code",
   "execution_count": 134,
   "metadata": {},
   "outputs": [
    {
     "name": "stdout",
     "output_type": "stream",
     "text": [
      "{'2017-12-14': {'amount': 318.6, 'currencyCode': 'PLN'}}\n",
      "{'2017-12-16': {'amount': 286.6, 'currencyCode': 'PLN'}}\n",
      "{'2017-12-19': {'amount': 318.6, 'currencyCode': 'PLN'}}\n"
     ]
    }
   ],
   "source": [
    "#from datetime import datetime\n",
    "for flight in flights:\n",
    "    if flight['price']:  \n",
    "        f = {}\n",
    "        date = flight['date'][:10]\n",
    "        f[date] = flight['price']\n",
    "        print(f)\n",
    "    "
   ]
  },
  {
   "cell_type": "code",
   "execution_count": 105,
   "metadata": {},
   "outputs": [
    {
     "name": "stdout",
     "output_type": "stream",
     "text": [
      "https://www.olx.pl/\n",
      "True\n"
     ]
    }
   ],
   "source": [
    "pattern_olx = \"^https?:\\/\\/www.olx.pl\\/\"\n",
    "matched = re.search(pattern_olx, detailed_olx)\n",
    "print(matched.group())\n",
    "print(matched.group() == \"https://www.olx.pl/\")"
   ]
  },
  {
   "cell_type": "code",
   "execution_count": 33,
   "metadata": {
    "collapsed": true
   },
   "outputs": [],
   "source": [
    "headers = '{ \"Accept\": \"*/*\", \"Accept-Encoding\":\"gzip, deflate, br\", \"User-Agent\": \"Mozilla/5.0 (X11; CrOS x86_64 9592.96.0) AppleWebKit/537.36 (KHTML, like Gecko) Chrome/60.0.3112.114 Safari/537.36\", \\\n",
    "          \"Accept-Language\":\"en-GB,en;q=0.8,en-US;q=0.6,pl;q=0.4\", \"Connection\":\"keep-alive\", \"Host\":\"rpt.cedexis.com\", \\\n",
    "           \"Origin\":\"https://www.olx.pl\" }' #, \"Referer\":\"https://www.olx.pl/nieruchomosci/mieszkania/wynajem/warszawa/?search%5Bfilter_float_m%3Afrom%5D=50\" }'"
   ]
  },
  {
   "cell_type": "code",
   "execution_count": 65,
   "metadata": {},
   "outputs": [
    {
     "name": "stdout",
     "output_type": "stream",
     "text": [
      "{'Accept': '*/*', 'Accept-Encoding': 'gzip, deflate, br', 'Accept-Language': 'en-GB,en;q=0.8,en-US;q=0.6,pl;q=0.4', 'Connection': 'keep-alive', 'Host': 'www.olx.pl', 'Referer': 'https://www.olx.pl/oferta/mieszkanie-na-wynajem-stara-kamienica-srodmiescie-CID3-IDqvZSw.html', 'User-Agent': 'Mozilla/5.0 (X11; CrOS x86_64 9592.96.0) AppleWebKit/537.36 (KHTML, like Gecko) Chrome/60.0.3112.114 Safari/537.36', 'X-Requested-With': 'XMLHttpRequest'}\n"
     ]
    }
   ],
   "source": [
    "olx_mob_header = {\"Accept\":\"*/*\", \"Accept-Encoding\":\"gzip, deflate, br\", \"Accept-Language\":\"en-GB,en;q=0.8,en-US;q=0.6,pl;q=0.4\", \"Connection\":\"keep-alive\", \"Host\":\"www.olx.pl\", \"Referer\":\"https://www.olx.pl/oferta/mieszkanie-na-wynajem-stara-kamienica-srodmiescie-CID3-IDqvZSw.html\", \"User-Agent\":\"Mozilla/5.0 (X11; CrOS x86_64 9592.96.0) AppleWebKit/537.36 (KHTML, like Gecko) Chrome/60.0.3112.114 Safari/537.36\", \"X-Requested-With\":\"XMLHttpRequest\"}\n",
    "print(olx_mob_header)"
   ]
  },
  {
   "cell_type": "code",
   "execution_count": 71,
   "metadata": {},
   "outputs": [
    {
     "name": "stdout",
     "output_type": "stream",
     "text": [
      "60x xxx xxx\n"
     ]
    }
   ],
   "source": [
    "web = olx_mob_header['Referer']\n",
    "olx_req = requests.get(web, headers=olx_mob_header)\n",
    "len(olx_req.text)\n",
    "olx_mob_soup = BeautifulSoup(olx_req.text, \"html.parser\")\n",
    "mob = olx_mob_soup.find(\"div\", \"link-phone\").find(\"strong\")\n",
    "print(mob.text.strip())"
   ]
  },
  {
   "cell_type": "code",
   "execution_count": 34,
   "metadata": {
    "collapsed": true
   },
   "outputs": [],
   "source": [
    "#import json\n",
    "header = json.loads(headers)"
   ]
  },
  {
   "cell_type": "code",
   "execution_count": 35,
   "metadata": {},
   "outputs": [
    {
     "name": "stdout",
     "output_type": "stream",
     "text": [
      "<class 'dict'>\n"
     ]
    }
   ],
   "source": [
    "#print(header)\n",
    "print(type(header))"
   ]
  },
  {
   "cell_type": "code",
   "execution_count": 1,
   "metadata": {
    "collapsed": true
   },
   "outputs": [],
   "source": [
    "#print(header['Host'])\n",
    "#header['Referer']"
   ]
  },
  {
   "cell_type": "code",
   "execution_count": 38,
   "metadata": {},
   "outputs": [
    {
     "data": {
      "text/plain": [
       "'https://www.olx.pl/nieruchomosci/mieszkania/wynajem/warszawa/?search%5Bfilter_float_m%3Afrom%5D=50'"
      ]
     },
     "execution_count": 38,
     "metadata": {},
     "output_type": "execute_result"
    }
   ],
   "source": [
    "olx = \"https://www.olx.pl/nieruchomosci/mieszkania/wynajem/warszawa/?search%5Bfilter_float_m%3Afrom%5D=50\"\n",
    "r = requests.get(olx, headers=header)"
   ]
  },
  {
   "cell_type": "code",
   "execution_count": 51,
   "metadata": {},
   "outputs": [
    {
     "name": "stdout",
     "output_type": "stream",
     "text": [
      "2017-12-15 09:17:21\n"
     ]
    }
   ],
   "source": [
    "#import time\n",
    "t0 = time.time()\n",
    "\n",
    "def from_epoch(t0):\n",
    "    return time.strftime('%Y-%m-%d %H:%M:%S', time.localtime(t0))\n",
    "\n",
    "print(from_epoch(t0))"
   ]
  },
  {
   "cell_type": "code",
   "execution_count": 53,
   "metadata": {},
   "outputs": [
    {
     "data": {
      "text/plain": [
       "str"
      ]
     },
     "execution_count": 53,
     "metadata": {},
     "output_type": "execute_result"
    }
   ],
   "source": [
    "type('2017-12-15 09:17:21')"
   ]
  },
  {
   "cell_type": "code",
   "execution_count": 40,
   "metadata": {},
   "outputs": [
    {
     "data": {
      "text/plain": [
       "str"
      ]
     },
     "execution_count": 40,
     "metadata": {},
     "output_type": "execute_result"
    }
   ],
   "source": [
    "arr = ['a', 'b']\n",
    "type(','.join(arr))"
   ]
  },
  {
   "cell_type": "code",
   "execution_count": 50,
   "metadata": {
    "collapsed": true
   },
   "outputs": [],
   "source": [
    "ads_database = c.execute(\"SELECT * FROM ads\")"
   ]
  },
  {
   "cell_type": "code",
   "execution_count": 51,
   "metadata": {
    "collapsed": true
   },
   "outputs": [],
   "source": [
    "for ad in ads_database:\n",
    "    print(ad['TITLE'])"
   ]
  },
  {
   "cell_type": "code",
   "execution_count": null,
   "metadata": {
    "collapsed": true
   },
   "outputs": [],
   "source": [
    "# src.utils.py\n",
    "def from_epoch(t0):\n",
    "    return time.strftime('%Y-%m-%d %H:%M:%S', time.localtime(t0))\n",
    "\n",
    "def request(url): # specify headers? \n",
    "    req = requests.get(url)\n",
    "    soup = BeautifulSoup(req.text, \"html.parser\")\n",
    "    return soup\n",
    "\n",
    "def rex(pattern, base):\n",
    "    if re.search(pattern, base):\n",
    "        return re.search(pattern, base).group()\n",
    "    else:\n",
    "        return None\n",
    "    \n",
    "def if_equals_else_none(condition_left, condition_right, if_successful):\n",
    "    if condition_left == condition_right:\n",
    "        return if_successful\n",
    "    else:\n",
    "        return None\n",
    "    \n",
    "def if_exists_else_none(condition, if_successful):\n",
    "    if condition:\n",
    "        return if_successful\n",
    "    else:\n",
    "        return None"
   ]
  },
  {
   "cell_type": "code",
   "execution_count": null,
   "metadata": {
    "collapsed": true
   },
   "outputs": [],
   "source": [
    "# src.detailed_olx.py\n",
    "def olx_detailed(url):\n",
    "    soup = request(url)\n",
    "    \n",
    "    details = {}\n",
    "    \n",
    "    em_date = soup.find(\"em\").text.strip()\n",
    "    match = re.search('o [0-9:, a-zśź]+20[0-9]+', em_date)\n",
    "    details['ID'] = rex(\"ogłoszenia: [0-9]+\", em_date).split(': ')[1]\n",
    "    details['DATES_PUBLISHED_ON'] = match.group()[2:]\n",
    "    \n",
    "    seen = soup.find(\"div\", {\"id\":\"offerbottombar\"}).find_all(\"div\")#[2]\n",
    "    details['TIMES_SEEN'] = seen[len(seen) - 1].text.strip().split(':')[1]\n",
    "    \n",
    "    details['DATES_UPDATED_ON'] = None\n",
    "    details['DATES_AVAILABLE_FROM'] = None\n",
    "    \n",
    "    details['OFERTA_OD'] = None\n",
    "    details['RODZAJ_ZABUDOWY'] = None\n",
    "    details['LICZBA_POKOI'] = None\n",
    "    details['UMEBLOWANE'] = None\n",
    "    details['POWIERZCHNIA'] = None\n",
    "    details['CZYNSZ_DODATKOWO'] = None\n",
    "    details['POZIOM'] = None\n",
    "    \n",
    "    detailed_table = soup.find(\"table\", \"details\").find_all(\"th\")\n",
    "    for th in detailed_table:\n",
    "        td = th.find_next_sibling(\"td\")\n",
    "        details['_'.join(th.text.strip().upper()\\\n",
    "                         .replace('(', '').replace(')', '').split(' '))] = td.text.strip()\n",
    "\n",
    "    content = soup.find(\"div\", {\"id\":\"textContent\"})\n",
    "    details['DESCRIPTION'] = content.text.strip()\n",
    "    details['META_DESCRIPTION'] = soup.find(\"meta\", {\"name\":\"description\"})[\"content\"]\n",
    "    \n",
    "    contact = soup.find(\"ul\", {\"id\":\"contact_methods\"}).find_all(\"li\")\n",
    "    methods = []\n",
    "    for method in contact:\n",
    "        methods.append(method.find(\"i\")['data-icon'])\n",
    "        if method.find(\"i\")[\"data-icon\"] == \"phone\":\n",
    "            methods.append(method.find(\"strong\").text)\n",
    "    details['CONTACT'] = ','.join(methods)\n",
    "        \n",
    "    return details\n"
   ]
  },
  {
   "cell_type": "code",
   "execution_count": 377,
   "metadata": {
    "collapsed": true
   },
   "outputs": [],
   "source": [
    "# src.detailed_oto.py:\n",
    "def oto_detailed(url):\n",
    "    soup = request(url)\n",
    "    params = soup.find(\"ul\", \"params-list\")\n",
    "    details = {}\n",
    "    \n",
    "    today = datetime.datetime.now().strftime(\"%d.%m.%Y\")\n",
    "    \n",
    "    div = soup.find(\"div\", \"text-details\")\n",
    "    dates = div.find(\"div\", \"right\").find_all(\"p\")\n",
    "    added = dates[0].text\n",
    "    updated = dates[1].text\n",
    "    details['DATES_UPDATED_ON'] = rex(\":[ 0-9.]+\", updated)[2:]\n",
    "    details['DATES_PUBLISHED_ON'] = (\"{}. Today is {}\").format(rex(\":[ a-z0-9.]+\", added)[2:], \\\n",
    "                                                                today)\n",
    "    left = div.find(\"div\", \"left\")\n",
    "    id = left.find(\"p\").text.strip()\n",
    "    details['ID'] = rex(\"Otodom:[ 0-9]+\", id).split(': ')[1]\n",
    "    seen = left.find_all(\"p\")\n",
    "    for p in seen:\n",
    "        if rex(\"^Liczba wy\", p.text.strip()):\n",
    "            \n",
    "            details['TIMES_SEEN'] = rex(\"[0-9]+\", p.text.strip())\n",
    "    if params.find(\"li\", \"param_m\"):     \n",
    "        details['POWIERZCHNIA'] = params.find(\"li\", \"param_m\").find(\"span\").text    \n",
    "    else:\n",
    "        details['POWIERZCHNIA'] = None\n",
    "        \n",
    "    details['LICZBA_POKOI'] = params.find(\"li\", \"param_m\").find_next_sibling(\"li\").find(\"strong\").text\n",
    "    \n",
    "    if params.find(\"li\", \"param_floor_no\"):\n",
    "        details['POZIOM'] = params.find(\"li\", \"param_floor_no\").find(\"span\").text\n",
    "    else:\n",
    "        details['POZIOM'] = None\n",
    "        \n",
    "    details['CZYNSZ_DODATKOWO'] = None\n",
    "    details['RODZAJ_ZABUDOWY'] = None\n",
    "    details['UMEBLOWANE'] = None\n",
    "    details['DATES_AVAILABLE_FROM'] = None\n",
    "    \n",
    "    if params.find(\"ul\", \"sub-list\"):\n",
    "        sub = params.find(\"ul\", \"sub-list\")\n",
    "        lis = sub.find_all(\"li\")\n",
    "        for li in lis: \n",
    "\n",
    "            if li.find(\"strong\").text == \"Czynsz - dodatkowo:\":\n",
    "                #details['CZYNSZ-EXTRA'] = if_equals_else_none(li.find(\"strong\").text, \"Czynsz - dodatkowo:\", rex(\":[a-z ]+\", li.text)[2:])\n",
    "                details['CZYNSZ_(DODATKOWO)'] = rex(\":[0-9a-zł ]+\", li.text)[2:]\n",
    "\n",
    "            if li.find(\"strong\").text == \"Rodzaj zabudowy:\":\n",
    "                #details['RODZAJ ZABUDOWY'] = if_equals_else_none(li.find(\"strong\").text, \"Rodzaj zabudowy:\", rex(\":[a-z ]+\", li.text)[2:])\n",
    "                details['RODZAJ_ZABUDOWY'] = rex(\":[a-z ]+\", li.text)[2:]\n",
    "\n",
    "            if li.find(\"strong\").text == \"Stan wykończenia:\":\n",
    "                #details['UMEBLOWANE'] = if_equals_else_none(li.find(\"strong\").text, \"Stan wykończenia:\", rex(\":[a-z ]+\", li.text)[2:])\n",
    "                details['UMEBLOWANE'] = rex(\":[a-z ]+\", li.text)[2:]\n",
    "\n",
    "            if li.find(\"strong\").text == \"Dostępne od:\":\n",
    "                #details['DOSTEPNE OD'] = if_equals_else_none(li.find(\"strong\").text, \"Dostępne od:\", rex(\"[0-9]+[ a-zA-Z0-9]+\", li.text))\n",
    "                details['DATES_AVAILABLE_FROM'] = rex(\"[0-9]+[ a-zA-Z0-9]+\", li.text)\n",
    "\n",
    "    contact = soup.find(\"div\", \"box-contact-info\")\n",
    "    if contact.find(\"h6\"):\n",
    "        details['OFERTA_OD'] = contact.find(\"h6\").text\n",
    "    else:\n",
    "        details['OFERTA_OD'] = None\n",
    "    details['CONTACT'] = soup.find(\"span\", \"phone-number\").text.strip()\n",
    "    details['DESCRIPTION'] = soup.find(\"div\", \"text-contents\").find(\"div\", {\"itemprop\":\"description\"}).text.strip()\n",
    "    details['META_DESCRIPTION'] = soup.find(\"meta\", {\"name\":\"description\"})[\"content\"]\n",
    "    \n",
    "    return details"
   ]
  },
  {
   "cell_type": "code",
   "execution_count": 378,
   "metadata": {},
   "outputs": [
    {
     "name": "stdout",
     "output_type": "stream",
     "text": [
      "{'DATES_UPDATED_ON': '28.12.2017', 'DATES_PUBLISHED_ON': '28.12.2017. Today is 28.12.2017', 'ID': '51792760', 'TIMES_SEEN': '25', 'POWIERZCHNIA': '57 m²', 'LICZBA_POKOI': '2', 'POZIOM': None, 'CZYNSZ_DODATKOWO': None, 'RODZAJ_ZABUDOWY': None, 'UMEBLOWANE': None, 'DATES_AVAILABLE_FROM': None, 'OFERTA_OD': None, 'CONTACT': '733\\nWyświetl numer', 'DESCRIPTION': 'Do wynajęcia 2 pokoje z kuchnią 57 m umeblowane z garderobą dużym balkonem i miejscem garażowym. 2200 + media + kaucja', 'META_DESCRIPTION': 'Zobacz to 2 pokojowe mieszkanie na wynajem w miejscowości Warszawa, Bemowo, Obrońców Tobruku, za cenę 2 200 zł/miesiąc. To mieszkanie na wynajem  ma 57 m² powierzchni użytkowej i 57 m² powierzchni całkowitej. Otodom 51792760'}\n"
     ]
    }
   ],
   "source": [
    "url = \"https://www.otodom.pl/oferta/z-garderoba-duzym-balkonem-i-miejscem-garazowym-ID3wjF6.html?utm_source=refferals&utm_medium=traffic_exchange&utm_campaign=OLX_nieruchomosci_ad#gallery[1]\"\n",
    "print(oto_detailed(url))"
   ]
  },
  {
   "cell_type": "code",
   "execution_count": null,
   "metadata": {
    "collapsed": true
   },
   "outputs": [],
   "source": [
    "# src.general_olx_oto.py\n",
    "def olx_url_main(url):\n",
    "    \n",
    "    conn = sqlite3.connect('/home/agigryms/Notebooks/Flat_Ads/Flat_Ads/ads.db')\n",
    "    conn.row_factory = sqlite3.Row\n",
    "    conn.isolation_level = None\n",
    "    c = conn.cursor()\n",
    "\n",
    "    c.execute(\"\"\"\n",
    "    CREATE TABLE IF NOT EXISTS ads (\n",
    "    TITLE text, \n",
    "    LOCATION text, \n",
    "    URL text,\n",
    "    PRICE text,\n",
    "    OFERTA_OD text,\n",
    "    CZYNSZ_DODATKOWO text,\n",
    "    POWIERZCHNIA text,\n",
    "    LICZBA_POKOI text,\n",
    "    TIMES_SEEN text,\n",
    "    DATES_PUBLISHED_ON text,\n",
    "    DATES_DB_SAVED_ON text,\n",
    "    RODZAJ_ZABUDOWY text,\n",
    "    DESCRIPTION text,\n",
    "    META_DESCRIPTION text,\n",
    "    DATES_AVAILABLE_FROM text,\n",
    "    DATES_UPDATED_ON text,\n",
    "    POZIOM text,\n",
    "    UMEBLOWANE text,\n",
    "    CONTACT text,\n",
    "    ID text)\n",
    "    \"\"\")\n",
    "\n",
    "    insert_sql = \"\"\"INSERT INTO ads (\n",
    "    TITLE, \n",
    "    LOCATION, \n",
    "    URL,\n",
    "    PRICE,\n",
    "    OFERTA_OD,\n",
    "    CZYNSZ_DODATKOWO,\n",
    "    POWIERZCHNIA,\n",
    "    LICZBA_POKOI,\n",
    "    TIMES_SEEN,\n",
    "    DATES_PUBLISHED_ON,\n",
    "    DATES_DB_SAVED_ON,\n",
    "    RODZAJ_ZABUDOWY,\n",
    "    DESCRIPTION,\n",
    "    META_DESCRIPTION,\n",
    "    DATES_AVAILABLE_FROM,\n",
    "    DATES_UPDATED_ON,\n",
    "    POZIOM,\n",
    "    UMEBLOWANE,\n",
    "    CONTACT,\n",
    "    ID) \n",
    "    VALUES (?, ?, ?, ?, ?, ?, ?, ?, ?, ?, ?, ?, ?, ?, ?, ?, ?, ?, ?, ?);\n",
    "    \"\"\"\n",
    "    \n",
    "    soup = request(url)\n",
    "    ads = soup.find(\"table\", {'id':\"offers_table\"})\n",
    "    \n",
    "    # add checking location for unwanted areas:\n",
    "    # gen['LOCATION'] = p[2].text.strip()\n",
    "    patterns = [\".*bezpo.redni*\", \\\n",
    "                \".*bia.o.*\", \".*weso.*\", \".*rembert.*\", \".*pra.*\", \\\n",
    "                \".*bem.*\", \".*wilan.*\", \".*targ.w.*\", \".*kochanowski.*\", \\\n",
    "               \".*saska.*\", \".*kabat.*\"]\n",
    "\n",
    "    singles = ads.find_all(\"tr\",  \"wrap\")\n",
    "    results = []\n",
    "    \n",
    "    for single in singles:\n",
    "        title = single.find('h3').text.strip()\n",
    "        filtered_out = False\n",
    "        \n",
    "        details = None\n",
    "        gen = None\n",
    "        \n",
    "        for pattern in patterns:\n",
    "            if re.search(pattern, title.lower()):\n",
    "                filtered_out = True\n",
    "                break\n",
    "        \n",
    "        if not filtered_out:\n",
    "        \n",
    "            url_detailed = single.find('a')['href']\n",
    "\n",
    "            # extract detailed info for OTO ads   \n",
    "            match_oto = re.search(\"^https?:\\/\\/www.otodom.pl\\/\", url_detailed)\n",
    "            if match_oto:\n",
    "                soup_detailed = request(url_detailed)\n",
    "                div = soup_detailed.find(\"div\", \"text-details\")\n",
    "                dates = div.find(\"div\", \"right\").find_all(\"p\")\n",
    "                added = dates[0].text\n",
    "                if rex(\":[ a-z0-9.]+\", added)[2:] != \"ponad 14 dni temu\":\n",
    "                    gen = {}\n",
    "                    gen['URL'] = url_detailed \n",
    "                    gen['TITLE'] = title\n",
    "                    p = single.find_all('p')\n",
    "                    gen['PRICE'] = p[1].text.strip()\n",
    "                    gen['LOCATION'] = p[2].text.strip()\n",
    "                    gen['DATES_DB_SAVED_ON'] = from_epoch(time.time())\n",
    "                    #gen['URL'] = single.find('a')['href']\n",
    "                    details = {}\n",
    "                    details = oto_detailed(gen['URL'])\n",
    "                #else:\n",
    "                    #details = None\n",
    "\n",
    "            # extract detailed info for OLX ads                                          \n",
    "            match_olx = re.search(\"^https?:\\/\\/www.olx.pl\\/\", url_detailed)\n",
    "            if match_olx:\n",
    "                gen = {}\n",
    "                gen['URL'] = url_detailed \n",
    "                gen['TITLE'] = title\n",
    "                p = single.find_all('p')\n",
    "                gen['PRICE'] = p[1].text.strip()\n",
    "                gen['LOCATION'] = p[2].text.strip()\n",
    "                gen['DATES_DB_SAVED_ON'] = from_epoch(time.time())\n",
    "                details = {}\n",
    "                details = olx_detailed(gen['URL'])\n",
    "\n",
    "            time.sleep(2)\n",
    "            if details:\n",
    "                ad = {**gen, **details}\n",
    "                c.execute(insert_sql, (ad['TITLE'], \\\n",
    "                       ad['LOCATION'], \\\n",
    "                       ad['URL'], \\\n",
    "                       ad['PRICE'], \\\n",
    "                       ad['OFERTA_OD'], \\\n",
    "                       ad['CZYNSZ_DODATKOWO'], \\\n",
    "                       ad['POWIERZCHNIA'], \\\n",
    "                       ad['LICZBA_POKOI'], \\\n",
    "                       ad['TIMES_SEEN'], \\\n",
    "                       ad['DATES_PUBLISHED_ON'], \\\n",
    "                       ad['DATES_DB_SAVED_ON'], \\\n",
    "                       ad['RODZAJ_ZABUDOWY'], \\\n",
    "                       ad['DESCRIPTION'], \\\n",
    "                       ad['META_DESCRIPTION'], \\\n",
    "                       ad['DATES_AVAILABLE_FROM'], \\\n",
    "                       ad['DATES_UPDATED_ON'], \\\n",
    "                       ad['POZIOM'], \\\n",
    "                       ad['UMEBLOWANE'], \\\n",
    "                       ad['CONTACT'], \\\n",
    "                       ad['ID'], \\\n",
    "                      ))\n",
    "                \n",
    "                results.append(ad)\n",
    "        else:\n",
    "            pass\n",
    "        \n",
    "    return results\n",
    "\n",
    "# olx_url_main"
   ]
  },
  {
   "cell_type": "code",
   "execution_count": 60,
   "metadata": {
    "scrolled": true
   },
   "outputs": [
    {
     "name": "stdout",
     "output_type": "stream",
     "text": [
      "Started @ 2017-12-27 12:16:57\n",
      "Finished @ 2017-12-27 12:18:30\n",
      "Took 93 sec\n"
     ]
    }
   ],
   "source": [
    "# src.run.py \n",
    "\n",
    "url_main = \"https://www.olx.pl/nieruchomosci/mieszkania/wynajem/warszawa/?search%5Bfilter_float_m%3Afrom%5D=50\"\n",
    "\n",
    "#import requests, re, time, math, datetime\n",
    "#from bs4 import BeautifulSoup\n",
    "import sqlite3\n",
    "\n",
    "t0 = time.time()\n",
    "ads_script = olx_url_main(url_main)\n",
    "t9 = time.time()\n",
    "print('Started @ {}\\nFinished @ {}\\nTook {} sec'\n",
    "      .format(from_epoch(t0), from_epoch(t9), math.ceil(t9 - t0)))"
   ]
  },
  {
   "cell_type": "code",
   "execution_count": null,
   "metadata": {
    "collapsed": true
   },
   "outputs": [],
   "source": [
    "for ad in ads_script:\n",
    "    print(ad['TITLE'])\n",
    "for ad in ads_script:\n",
    "    print(ad['URL'])"
   ]
  },
  {
   "cell_type": "code",
   "execution_count": 83,
   "metadata": {
    "collapsed": true
   },
   "outputs": [],
   "source": [
    "conn = sqlite3.connect('/home/agigryms/Notebooks/Flat_Ads/Flat_Ads/ads.db')\n",
    "conn.row_factory = sqlite3.Row\n",
    "conn.isolation_level = None\n",
    "c = conn.cursor()"
   ]
  },
  {
   "cell_type": "code",
   "execution_count": 154,
   "metadata": {
    "collapsed": true
   },
   "outputs": [],
   "source": [
    "#\"Lux; K/Sądu 3 pokoje + gabinet + kuchnia\"\n",
    "search_title = c.execute(\"SELECT * FROM ads WHERE TITLE like '%Lux; K/S%'\")"
   ]
  },
  {
   "cell_type": "code",
   "execution_count": 155,
   "metadata": {},
   "outputs": [
    {
     "name": "stdout",
     "output_type": "stream",
     "text": [
      "51757392\n",
      "2017-12-27 11:51:19\n",
      "51757392\n",
      "2017-12-27 12:17:03\n",
      "51757392\n",
      "2017-12-27 15:21:45\n"
     ]
    }
   ],
   "source": [
    "for found in search_title:\n",
    "    print(found['ID'])\n",
    "    print(found['DATES_DB_SAVED_ON'])"
   ]
  },
  {
   "cell_type": "code",
   "execution_count": 158,
   "metadata": {},
   "outputs": [],
   "source": [
    "for item in ads_DBA:\n",
    "    print(item['TITLE'])"
   ]
  },
  {
   "cell_type": "code",
   "execution_count": 393,
   "metadata": {
    "collapsed": true
   },
   "outputs": [],
   "source": [
    "count_ads = c.execute(\"SELECT COUNT(*) as TOTAL FROM ads\").fetchone()"
   ]
  },
  {
   "cell_type": "code",
   "execution_count": 394,
   "metadata": {},
   "outputs": [
    {
     "name": "stdout",
     "output_type": "stream",
     "text": [
      "101\n"
     ]
    }
   ],
   "source": [
    "#print(count_ads[0])\n",
    "print(count_ads['TOTAL'])"
   ]
  },
  {
   "cell_type": "code",
   "execution_count": 385,
   "metadata": {},
   "outputs": [
    {
     "name": "stdout",
     "output_type": "stream",
     "text": [
      "101\n"
     ]
    }
   ],
   "source": [
    "print(count_ads[0])#['ID']"
   ]
  },
  {
   "cell_type": "code",
   "execution_count": 395,
   "metadata": {
    "collapsed": true
   },
   "outputs": [],
   "source": [
    "ids = c.execute(\"SELECT * FROM ads\").fetchall()\n",
    "#ids = c.fetchone()"
   ]
  },
  {
   "cell_type": "code",
   "execution_count": 399,
   "metadata": {
    "collapsed": true
   },
   "outputs": [],
   "source": [
    "specific = c.execute(\"SELECT * FROM ads WHERE TITLE LIKE \\\n",
    "'BEZ PROWIZJI atrakcyjne 4 pokoje MINUTA do metra ul.Pasaż Ursynowski 7'\").fetchone()"
   ]
  },
  {
   "cell_type": "code",
   "execution_count": 405,
   "metadata": {},
   "outputs": [
    {
     "name": "stdout",
     "output_type": "stream",
     "text": [
      "https://www.olx.pl/oferta/bez-prowizji-atrakcyjne-4-pokoje-minuta-do-metra-ul-pasaz-ursynowski-7-CID3-IDqwT3w.html#2df33b28db\n"
     ]
    }
   ],
   "source": [
    "print(specific[2])#['TITLE'])"
   ]
  },
  {
   "cell_type": "code",
   "execution_count": null,
   "metadata": {
    "collapsed": true
   },
   "outputs": [],
   "source": [
    "cur.execute(\"SELECT Name, Price FROM Cars WHERE Id=:Id\", \n",
    "    {\"Id\": uId}"
   ]
  },
  {
   "cell_type": "code",
   "execution_count": 475,
   "metadata": {},
   "outputs": [],
   "source": [
    "title = 'BEZ PROWIZJI atrakcyjne 4 pokoje MINUTA do metra ul.Pasaż Ursynowski 7'\n",
    "id = '51757392'#'391784541'"
   ]
  },
  {
   "cell_type": "code",
   "execution_count": 436,
   "metadata": {},
   "outputs": [],
   "source": [
    "t = c.execute(\"SELECT * FROM ads WHERE TITLE = ? AND ID = ?\", (title, id)).fetchone()"
   ]
  },
  {
   "cell_type": "code",
   "execution_count": 476,
   "metadata": {
    "collapsed": true
   },
   "outputs": [],
   "source": [
    "ad = c.execute(\"SELECT * FROM ads WHERE ID = ?\", (id,)).fetchone()"
   ]
  },
  {
   "cell_type": "code",
   "execution_count": 464,
   "metadata": {
    "collapsed": true
   },
   "outputs": [],
   "source": [
    "ad = c.execute(\"SELECT * FROM ads WHERE ID = ?\", [id]).fetchone()"
   ]
  },
  {
   "cell_type": "code",
   "execution_count": 458,
   "metadata": {},
   "outputs": [
    {
     "name": "stdout",
     "output_type": "stream",
     "text": [
      "2017-12-28 16:51:27\n"
     ]
    }
   ],
   "source": [
    "print(t['DATES_DB_SAVED_ON']) # "
   ]
  },
  {
   "cell_type": "code",
   "execution_count": 477,
   "metadata": {},
   "outputs": [
    {
     "name": "stdout",
     "output_type": "stream",
     "text": [
      "https://www.otodom.pl/oferta/lux-k-sadu-3-pokoje-gabinet-kuchnia-ID3wasE.html?utm_source=refferals&utm_medium=traffic_exchange&utm_campaign=OLX_nieruchomosci_ad#xtor=SEC-18\n"
     ]
    }
   ],
   "source": [
    "print(ad['URL'])"
   ]
  },
  {
   "cell_type": "code",
   "execution_count": 485,
   "metadata": {},
   "outputs": [
    {
     "name": "stdout",
     "output_type": "stream",
     "text": [
      "90\n",
      "['313042032', '359563090', '359872846', '371116233', '374881415', '376176293', '380545457', '381184309', '381835675', '384167283', '385686403', '390524985', '390592953', '390937685', '391105773', '391208319', '391211165', '391451651', '391701221', '391784541', '391832549', '392537979', '393210891', '393560333', '393776423', '393823649', '393872895', '393917359', '394656105', '394984157', '395071689', '395087537', '395089019', '395093863', '395096563', '395099613', '395100441', '395107453', '395109221', '395310607', '395313563', '395477783', '395482303', '395489029', '395698549', '395752449', '396180133', '396523749', '397453257', '397841645', '397986609', '398153605', '398467723', '398716187', '398735611', '398754859', '398759377', '398763595', '398770099', '398777599', '398796381', '399031107', '399040853', '399045799', '399046325', '399091079', '399092825', '399124061', '399506455', '399539495', '399564665', '399565881', '399569247', '399572731', '399578461', '399600565', '399646781', '399651113', '51618456', '51757392', '51766384', '51767456', '51770956', '51771856', '51775904', '51790860', '51792756', '51792760', '51793452', '51794420']\n"
     ]
    }
   ],
   "source": [
    "db_ids = c.execute(\"SELECT ID FROM ads GROUP BY ID\").fetchall()\n",
    "# type(db_ids) # list\n",
    "ids = []\n",
    "for id in db_ids:\n",
    "    ids.append(id['ID'])\n",
    "print(len(ids)) # 70\n",
    "print(ids)"
   ]
  },
  {
   "cell_type": "code",
   "execution_count": 485,
   "metadata": {},
   "outputs": [
    {
     "name": "stdout",
     "output_type": "stream",
     "text": [
      "90\n",
      "['313042032', '359563090', '359872846', '371116233', '374881415', '376176293', '380545457', '381184309', '381835675', '384167283', '385686403', '390524985', '390592953', '390937685', '391105773', '391208319', '391211165', '391451651', '391701221', '391784541', '391832549', '392537979', '393210891', '393560333', '393776423', '393823649', '393872895', '393917359', '394656105', '394984157', '395071689', '395087537', '395089019', '395093863', '395096563', '395099613', '395100441', '395107453', '395109221', '395310607', '395313563', '395477783', '395482303', '395489029', '395698549', '395752449', '396180133', '396523749', '397453257', '397841645', '397986609', '398153605', '398467723', '398716187', '398735611', '398754859', '398759377', '398763595', '398770099', '398777599', '398796381', '399031107', '399040853', '399045799', '399046325', '399091079', '399092825', '399124061', '399506455', '399539495', '399564665', '399565881', '399569247', '399572731', '399578461', '399600565', '399646781', '399651113', '51618456', '51757392', '51766384', '51767456', '51770956', '51771856', '51775904', '51790860', '51792756', '51792760', '51793452', '51794420']\n"
     ]
    }
   ],
   "source": [
    "db_ids = c.execute(\"SELECT ID FROM ads GROUP BY ID\").fetchall()\n",
    "# type(db_ids) # list\n",
    "ids = []\n",
    "for id in db_ids:\n",
    "    ids.append(id['ID'])\n",
    "print(len(ids)) # 70\n",
    "print(ids)"
   ]
  },
  {
   "cell_type": "code",
   "execution_count": null,
   "metadata": {
    "collapsed": true
   },
   "outputs": [],
   "source": []
  },
  {
   "cell_type": "code",
   "execution_count": 486,
   "metadata": {},
   "outputs": [
    {
     "ename": "TypeError",
     "evalue": "'NoneType' object is not iterable",
     "output_type": "error",
     "traceback": [
      "\u001b[0;31m---------------------------------------------------------------------------\u001b[0m",
      "\u001b[0;31mTypeError\u001b[0m                                 Traceback (most recent call last)",
      "\u001b[0;32m<ipython-input-486-963427fec96f>\u001b[0m in \u001b[0;36m<module>\u001b[0;34m()\u001b[0m\n\u001b[1;32m      2\u001b[0m \u001b[0;31m# type(db_ids) # list\u001b[0m\u001b[0;34m\u001b[0m\u001b[0;34m\u001b[0m\u001b[0m\n\u001b[1;32m      3\u001b[0m \u001b[0mids\u001b[0m \u001b[0;34m=\u001b[0m \u001b[0;34m[\u001b[0m\u001b[0;34m]\u001b[0m\u001b[0;34m\u001b[0m\u001b[0m\n\u001b[0;32m----> 4\u001b[0;31m \u001b[0;32mfor\u001b[0m \u001b[0mid\u001b[0m \u001b[0;32min\u001b[0m \u001b[0mdb_ids\u001b[0m\u001b[0;34m:\u001b[0m\u001b[0;34m\u001b[0m\u001b[0m\n\u001b[0m\u001b[1;32m      5\u001b[0m     \u001b[0mids\u001b[0m\u001b[0;34m.\u001b[0m\u001b[0mappend\u001b[0m\u001b[0;34m(\u001b[0m\u001b[0mid\u001b[0m\u001b[0;34m[\u001b[0m\u001b[0;34m'ID'\u001b[0m\u001b[0;34m]\u001b[0m\u001b[0;34m)\u001b[0m\u001b[0;34m\u001b[0m\u001b[0m\n\u001b[1;32m      6\u001b[0m \u001b[0mprint\u001b[0m\u001b[0;34m(\u001b[0m\u001b[0mlen\u001b[0m\u001b[0;34m(\u001b[0m\u001b[0mids\u001b[0m\u001b[0;34m)\u001b[0m\u001b[0;34m)\u001b[0m \u001b[0;31m# 70\u001b[0m\u001b[0;34m\u001b[0m\u001b[0m\n",
      "\u001b[0;31mTypeError\u001b[0m: 'NoneType' object is not iterable"
     ]
    }
   ],
   "source": [
    "db_ids = c.execute(\"SELECT ID FROM ads WHERE ID='399673001'\").fetchone()\n",
    "# type(db_ids) # list\n",
    "ids = []\n",
    "for id in db_ids:\n",
    "    ids.append(id['ID'])\n",
    "print(len(ids)) # 70\n",
    "print(ids)"
   ]
  },
  {
   "cell_type": "code",
   "execution_count": 466,
   "metadata": {
    "collapsed": true
   },
   "outputs": [],
   "source": [
    "url = \"https://www.olx.pl/oferta/ul-zadumana-3-pokoje-65m2-CID3-IDr1COj.html#a541a9945c\""
   ]
  },
  {
   "cell_type": "code",
   "execution_count": 479,
   "metadata": {},
   "outputs": [],
   "source": [
    "url = \"https://www.otodom.pl/oferta/lux-k-sadu-3-pokoje-gabinet-kuchnia-ID3wasE.html?utm_source=refferals&utm_medium=traffic_exchange&utm_campaign=OLX_nieruchomosci_ad#xtor=SEC-18\"\n",
    "oto = oto_detailed(url)"
   ]
  },
  {
   "cell_type": "code",
   "execution_count": 481,
   "metadata": {
    "collapsed": true
   },
   "outputs": [],
   "source": [
    "url = \"https://www.olx.pl/oferta/duze-76m2-mieszkanie-na-dolnym-mokotowie-ul-chelmska-CID3-IDr1VYn.html#2df33b28db\"\n",
    "olx = olx_detailed(url)"
   ]
  },
  {
   "cell_type": "code",
   "execution_count": 482,
   "metadata": {
    "scrolled": true
   },
   "outputs": [
    {
     "name": "stdout",
     "output_type": "stream",
     "text": [
      "Not found\n"
     ]
    }
   ],
   "source": [
    "if olx['ID'] in ids:\n",
    "    print('Already in DB')\n",
    "else:\n",
    "    print('Not found')"
   ]
  },
  {
   "cell_type": "code",
   "execution_count": 484,
   "metadata": {},
   "outputs": [],
   "source": [
    "ids = c.execute(\"SELECT ID FROM ads GROUP BY ID\").fetchall()\n",
    "for id in ids:\n",
    "    #print(id[0])\n",
    "    pass"
   ]
  },
  {
   "cell_type": "code",
   "execution_count": 365,
   "metadata": {},
   "outputs": [
    {
     "name": "stdout",
     "output_type": "stream",
     "text": [
      "<sqlite3.Row object at 0x7dec50d86410>\n"
     ]
    }
   ],
   "source": [
    "print(ids[0])#['ID'])"
   ]
  },
  {
   "cell_type": "code",
   "execution_count": 349,
   "metadata": {},
   "outputs": [
    {
     "name": "stdout",
     "output_type": "stream",
     "text": [
      "57\n"
     ]
    }
   ],
   "source": [
    "print(count_ads['total'])"
   ]
  },
  {
   "cell_type": "code",
   "execution_count": 334,
   "metadata": {
    "collapsed": true
   },
   "outputs": [],
   "source": [
    "ids10 = c.execute(\"SELECT ID FROM ads ORDER BY ID LIMIT 10\").fetchall()"
   ]
  },
  {
   "cell_type": "code",
   "execution_count": 353,
   "metadata": {},
   "outputs": [
    {
     "data": {
      "text/plain": [
       "sqlite3.Row"
      ]
     },
     "execution_count": 353,
     "metadata": {},
     "output_type": "execute_result"
    }
   ],
   "source": [
    "type(ids10[0])"
   ]
  },
  {
   "cell_type": "code",
   "execution_count": 337,
   "metadata": {},
   "outputs": [
    {
     "ename": "IndexError",
     "evalue": "tuple index out of range",
     "output_type": "error",
     "traceback": [
      "\u001b[0;31m---------------------------------------------------------------------------\u001b[0m",
      "\u001b[0;31mIndexError\u001b[0m                                Traceback (most recent call last)",
      "\u001b[0;32m<ipython-input-337-c238ac1b602b>\u001b[0m in \u001b[0;36m<module>\u001b[0;34m()\u001b[0m\n\u001b[1;32m      1\u001b[0m \u001b[0;31m#ids[0]['ID']\u001b[0m\u001b[0;34m\u001b[0m\u001b[0;34m\u001b[0m\u001b[0m\n\u001b[1;32m      2\u001b[0m \u001b[0;32mfor\u001b[0m \u001b[0mi\u001b[0m \u001b[0;32min\u001b[0m \u001b[0mids10\u001b[0m\u001b[0;34m:\u001b[0m\u001b[0;34m\u001b[0m\u001b[0m\n\u001b[0;32m----> 3\u001b[0;31m     \u001b[0mprint\u001b[0m\u001b[0;34m(\u001b[0m\u001b[0mi\u001b[0m\u001b[0;34m[\u001b[0m\u001b[0;36m1\u001b[0m\u001b[0;34m]\u001b[0m\u001b[0;34m)\u001b[0m\u001b[0;34m\u001b[0m\u001b[0m\n\u001b[0m",
      "\u001b[0;31mIndexError\u001b[0m: tuple index out of range"
     ]
    }
   ],
   "source": [
    "#ids[0]['ID']\n",
    "for i in ids10:\n",
    "    print(i[1])"
   ]
  },
  {
   "cell_type": "code",
   "execution_count": 386,
   "metadata": {},
   "outputs": [],
   "source": [
    "count_per_id = c.execute(\"SELECT ID, COUNT(*) as ID_COUNT FROM ads \\\n",
    "GROUP BY ID ORDER BY COUNT(*) DESC\").fetchall()"
   ]
  },
  {
   "cell_type": "code",
   "execution_count": 389,
   "metadata": {},
   "outputs": [
    {
     "name": "stdout",
     "output_type": "stream",
     "text": [
      "391211165\n"
     ]
    }
   ],
   "source": [
    "print(count_per_id[10]['ID'])"
   ]
  },
  {
   "cell_type": "code",
   "execution_count": 391,
   "metadata": {},
   "outputs": [
    {
     "name": "stdout",
     "output_type": "stream",
     "text": [
      "2\n"
     ]
    }
   ],
   "source": [
    "print(count_per_id[10]['ID_COUNT'])"
   ]
  },
  {
   "cell_type": "code",
   "execution_count": 392,
   "metadata": {},
   "outputs": [
    {
     "name": "stdout",
     "output_type": "stream",
     "text": [
      "385686403: 3\n",
      "398716187: 3\n",
      "51757392: 3\n",
      "51766384: 3\n",
      "51771856: 3\n",
      "313042032: 2\n",
      "381835675: 2\n",
      "390524985: 2\n",
      "390937685: 2\n",
      "391208319: 2\n",
      "391211165: 2\n",
      "391451651: 2\n",
      "391784541: 2\n",
      "394984157: 2\n",
      "395087537: 2\n",
      "395089019: 2\n",
      "395093863: 2\n",
      "395096563: 2\n",
      "395109221: 2\n",
      "395310607: 2\n",
      "395313563: 2\n",
      "395698549: 2\n",
      "398735611: 2\n",
      "399124061: 2\n",
      "51792756: 2\n",
      "51793452: 2\n",
      "359563090: 1\n",
      "359872846: 1\n",
      "374881415: 1\n",
      "376176293: 1\n",
      "381184309: 1\n",
      "384167283: 1\n",
      "390592953: 1\n",
      "391105773: 1\n",
      "391832549: 1\n",
      "392537979: 1\n",
      "393210891: 1\n",
      "393560333: 1\n",
      "393823649: 1\n",
      "393872895: 1\n",
      "393917359: 1\n",
      "394656105: 1\n",
      "395071689: 1\n",
      "395099613: 1\n",
      "395100441: 1\n",
      "395107453: 1\n",
      "395477783: 1\n",
      "395482303: 1\n",
      "395489029: 1\n",
      "395752449: 1\n",
      "397453257: 1\n",
      "398153605: 1\n",
      "398754859: 1\n",
      "398759377: 1\n",
      "398763595: 1\n",
      "398770099: 1\n",
      "398777599: 1\n",
      "398796381: 1\n",
      "399040853: 1\n",
      "399045799: 1\n",
      "399046325: 1\n",
      "399091079: 1\n",
      "399092825: 1\n",
      "51618456: 1\n",
      "51767456: 1\n",
      "51770956: 1\n",
      "51775904: 1\n",
      "51790860: 1\n",
      "51792760: 1\n",
      "51794420: 1\n"
     ]
    }
   ],
   "source": [
    "for id in count_per_id:\n",
    "    print('{}: {}'.format(id[0], id[1]))"
   ]
  },
  {
   "cell_type": "code",
   "execution_count": 356,
   "metadata": {},
   "outputs": [
    {
     "name": "stdout",
     "output_type": "stream",
     "text": [
      "385686403: 3\n",
      "398716187: 3\n",
      "51757392: 3\n",
      "51766384: 3\n",
      "51771856: 3\n",
      "390524985: 2\n",
      "390937685: 2\n",
      "391208319: 2\n",
      "391211165: 2\n",
      "391451651: 2\n",
      "398735611: 2\n",
      "359563090: 1\n",
      "359872846: 1\n",
      "374881415: 1\n",
      "376176293: 1\n",
      "381184309: 1\n",
      "384167283: 1\n",
      "390592953: 1\n",
      "391105773: 1\n",
      "391832549: 1\n",
      "392537979: 1\n",
      "393210891: 1\n",
      "393560333: 1\n",
      "393872895: 1\n",
      "393917359: 1\n",
      "395099613: 1\n",
      "395100441: 1\n",
      "395107453: 1\n",
      "395477783: 1\n",
      "395482303: 1\n",
      "395489029: 1\n",
      "395752449: 1\n",
      "398754859: 1\n",
      "398759377: 1\n",
      "398763595: 1\n",
      "398770099: 1\n",
      "398777599: 1\n",
      "398796381: 1\n",
      "51618456: 1\n",
      "51770956: 1\n",
      "51775904: 1\n"
     ]
    }
   ],
   "source": [
    "for id in count_per_id:\n",
    "    print('{}: {}'.format(id[0], id[1]))"
   ]
  },
  {
   "cell_type": "code",
   "execution_count": null,
   "metadata": {},
   "outputs": [],
   "source": []
  },
  {
   "cell_type": "code",
   "execution_count": null,
   "metadata": {
    "collapsed": true
   },
   "outputs": [],
   "source": []
  },
  {
   "cell_type": "code",
   "execution_count": 361,
   "metadata": {},
   "outputs": [
    {
     "ename": "TypeError",
     "evalue": "string indices must be integers",
     "output_type": "error",
     "traceback": [
      "\u001b[0;31m---------------------------------------------------------------------------\u001b[0m",
      "\u001b[0;31mTypeError\u001b[0m                                 Traceback (most recent call last)",
      "\u001b[0;32m<ipython-input-361-1ae2a6579a77>\u001b[0m in \u001b[0;36m<module>\u001b[0;34m()\u001b[0m\n\u001b[1;32m      1\u001b[0m \u001b[0;32mfor\u001b[0m \u001b[0mtitle\u001b[0m \u001b[0;32min\u001b[0m \u001b[0mids\u001b[0m\u001b[0;34m:\u001b[0m\u001b[0;34m\u001b[0m\u001b[0m\n\u001b[0;32m----> 2\u001b[0;31m     \u001b[0mprint\u001b[0m\u001b[0;34m(\u001b[0m\u001b[0mtitle\u001b[0m\u001b[0;34m[\u001b[0m\u001b[0;34m'TITLE'\u001b[0m\u001b[0;34m]\u001b[0m\u001b[0;34m)\u001b[0m\u001b[0;34m\u001b[0m\u001b[0m\n\u001b[0m",
      "\u001b[0;31mTypeError\u001b[0m: string indices must be integers"
     ]
    }
   ],
   "source": [
    "for title in ids:\n",
    "    print(title['TITLE'])"
   ]
  },
  {
   "cell_type": "code",
   "execution_count": null,
   "metadata": {
    "collapsed": true
   },
   "outputs": [],
   "source": []
  },
  {
   "cell_type": "code",
   "execution_count": null,
   "metadata": {
    "collapsed": true
   },
   "outputs": [],
   "source": []
  },
  {
   "cell_type": "code",
   "execution_count": 174,
   "metadata": {},
   "outputs": [],
   "source": [
    "for i in ids.fetchall():\n",
    "    print(i[0])#['ID'])"
   ]
  },
  {
   "cell_type": "code",
   "execution_count": 159,
   "metadata": {},
   "outputs": [],
   "source": [
    "for ad in ads_DBA:\n",
    "    print(ad['TIMES_SEEN'])"
   ]
  },
  {
   "cell_type": "code",
   "execution_count": 34,
   "metadata": {},
   "outputs": [],
   "source": [
    "#olx_detailed('https://www.olx.pl/oferta/ladne-mieszkanie-na-bielanach-CID3-IDqYYif.html#2df33b28db')"
   ]
  },
  {
   "cell_type": "code",
   "execution_count": 160,
   "metadata": {},
   "outputs": [],
   "source": [
    "items = c.execute(\"SELECT * FROM ads\")"
   ]
  },
  {
   "cell_type": "code",
   "execution_count": null,
   "metadata": {
    "collapsed": true
   },
   "outputs": [],
   "source": [
    "conn = sqlite3.connect('/home/agigryms/MyProjects/Hartley_Dec_2017/countries.db')\n",
    "conn.row_factory = sqlite3.Row\n",
    "conn.isolation_level = None\n",
    "c = conn.cursor()\n",
    "countries_retrieve = c.execute(\"SELECT * FROM countries\")"
   ]
  },
  {
   "cell_type": "code",
   "execution_count": 37,
   "metadata": {
    "collapsed": true
   },
   "outputs": [],
   "source": [
    "ad = olx_detailed('https://www.olx.pl/oferta/ladne-mieszkanie-na-bielanach-CID3-IDqYYif.html#2df33b28db')"
   ]
  },
  {
   "cell_type": "code",
   "execution_count": 40,
   "metadata": {},
   "outputs": [
    {
     "data": {
      "text/plain": [
       "'81'"
      ]
     },
     "execution_count": 40,
     "metadata": {},
     "output_type": "execute_result"
    }
   ],
   "source": [
    "ad['TIMES_SEEN']"
   ]
  },
  {
   "cell_type": "code",
   "execution_count": null,
   "metadata": {
    "collapsed": true
   },
   "outputs": [],
   "source": [
    "ads_table = c.execute(\"SELECT * FROM ads\")"
   ]
  },
  {
   "cell_type": "code",
   "execution_count": null,
   "metadata": {
    "collapsed": true
   },
   "outputs": [],
   "source": []
  },
  {
   "cell_type": "code",
   "execution_count": 7,
   "metadata": {},
   "outputs": [
    {
     "name": "stdout",
     "output_type": "stream",
     "text": [
      "14\n",
      "wynajmę mieszkanie 60 m2 Warszawa ul. Kochanowskiego\n",
      "Saska Kępa -Klimatyczne mieszkanie na Ateńskiej 10\n",
      "Luksusowe 3 pokoje Rezydencja Mokotów METRO\n",
      "apartament stare Miasto Plac zamkowy/Piwna 80m wynajem\n",
      "2-pokojowe mieszkanie, ul. Okrężna\n",
      "Przestronne mieszkanie z garażem, ul. Gawota\n",
      "2 sypialnie+salon, ul. Zawiszy\n",
      "2 oddzielne pokoje na parterze, ul. Ordona\n",
      "2 pokoje, metro Dw. Wileński, ul. Floriańska\n",
      "2 oddzielne pokoje, ul. Staffa\n",
      "ul. Twarda, 2 oddzielne pokoje od zaraz\n",
      "3-pokojowy apartament, 120m2, Skwer Wyszyńskiego\n",
      "Wynajmę nowe mieszkanie 50 m, 2 pokoje, Konstruktorska\n",
      "2 pokojowe, W-wa Obrzezna, od zaraz\n"
     ]
    }
   ],
   "source": [
    "print(len(ads))\n",
    "for ad in ads:\n",
    "    print(ad['TITLE'])"
   ]
  },
  {
   "cell_type": "code",
   "execution_count": 72,
   "metadata": {},
   "outputs": [
    {
     "name": "stdout",
     "output_type": "stream",
     "text": [
      "{'URL': 'https://www.olx.pl/oferta/ladne-3-pokojowe-mieszkanie-do-wynajecia-warszawa-CID3-IDpDY8B.html#2df33b28db', 'TITLE': 'Ładne 3 pokojowe mieszkanie do wynajecia WARSZAWA', 'PRICE': '2 000 zł', 'LOCATION': 'Warszawa, Rembertów', 'DATES_DB_SAVED_ON': '2017-12-22 16:32:45', 'ID': '378934365', 'DATES_PUBLISHED_ON': '08:32, 22 grudnia 2017', 'TIMES_SEEN': '2277', 'DATES_UPDATED_ON': None, 'DATES_AVAILABLE_FROM': None, 'OFERTA_OD': 'Osoby prywatnej', 'POZIOM': '1', 'UMEBLOWANE': 'Tak', 'RODZAJ_ZABUDOWY': 'Blok', 'POWIERZCHNIA': '67 m²', 'LICZBA_POKOI': '3 pokoje', 'CZYNSZ_(DODATKOWO)': '500 zł', 'DESCRIPTION': 'ladne zadbane mieszkanie na 1 pietrze w zadbanym 3 pietrowym bloku z 1986r  Wokół niska zabudowa, tereny rekreacyjne oraz las. Jednocześnie kilkaset metrów do sklepów, punktów usługowych, komunikacji autobusowej i pełnej infrastruktury.  Okolica pelna zieleni i ciszy  Mieszkanie zadbane czyste 3 pokoje,kuchnia,osobna lazienka,toaleta ,duzy balkon, duza piwnica z oknem ocieplenie miejskie  Zapraszam do obejrzenia', 'META_DESCRIPTION': '2 000 zł: ladne zadbane mieszkanie na 1 pietrze w zadbanym 3 pietrowym bloku z 1986r  Wokół niska zabudowa, tereny rekreacyjne oraz las. Jednocześnie kilkaset metrów do sklepów, punktów usługowych, komunikacji ...', 'CONTACT': 'message,phone,69x xxx xxx'}\n",
      "{'URL': 'https://www.olx.pl/oferta/ladne-3-pokojowe-mieszkanie-do-wynajecia-warszawa-CID3-IDpDY8B.html#2df33b28db', 'TITLE': 'Ładne 3 pokojowe mieszkanie do wynajecia WARSZAWA', 'PRICE': '2 000 zł', 'LOCATION': 'Warszawa, Rembertów', 'DATES_DB_SAVED_ON': '2017-12-22 16:32:45', 'ID': '378934365', 'DATES_PUBLISHED_ON': '08:32, 22 grudnia 2017', 'TIMES_SEEN': '2277', 'DATES_UPDATED_ON': None, 'DATES_AVAILABLE_FROM': None, 'OFERTA_OD': 'Osoby prywatnej', 'POZIOM': '1', 'UMEBLOWANE': 'Tak', 'RODZAJ_ZABUDOWY': 'Blok', 'POWIERZCHNIA': '67 m²', 'LICZBA_POKOI': '3 pokoje', 'CZYNSZ_(DODATKOWO)': '500 zł', 'DESCRIPTION': 'ladne zadbane mieszkanie na 1 pietrze w zadbanym 3 pietrowym bloku z 1986r  Wokół niska zabudowa, tereny rekreacyjne oraz las. Jednocześnie kilkaset metrów do sklepów, punktów usługowych, komunikacji autobusowej i pełnej infrastruktury.  Okolica pelna zieleni i ciszy  Mieszkanie zadbane czyste 3 pokoje,kuchnia,osobna lazienka,toaleta ,duzy balkon, duza piwnica z oknem ocieplenie miejskie  Zapraszam do obejrzenia', 'META_DESCRIPTION': '2 000 zł: ladne zadbane mieszkanie na 1 pietrze w zadbanym 3 pietrowym bloku z 1986r  Wokół niska zabudowa, tereny rekreacyjne oraz las. Jednocześnie kilkaset metrów do sklepów, punktów usługowych, komunikacji ...', 'CONTACT': 'message,phone,69x xxx xxx'}\n"
     ]
    }
   ],
   "source": [
    "print(ads[34])\n",
    "print(ads[33])\n",
    "#olx_detailed('https://www.olx.pl/oferta/zielone-zacisze-63-m2-targowek-warszawa-CID3-IDqVthn.html#2df33b28db;promoted')"
   ]
  },
  {
   "cell_type": "code",
   "execution_count": 67,
   "metadata": {
    "collapsed": true
   },
   "outputs": [],
   "source": [
    "#oto_detailed('https://www.otodom.pl/oferta/jasne-osobna-kuchnia-duzy-balkon-bezposrednio-ID3w9lq.html?utm_source=refferals&utm_medium=traffic_exchange&utm_campaign=OLX_nieruchomosci_ad#gallery[1]')"
   ]
  },
  {
   "cell_type": "code",
   "execution_count": 59,
   "metadata": {},
   "outputs": [
    {
     "data": {
      "text/plain": [
       "'bezpośrednio - centrum 63m2 klimatyczne i przestronne'"
      ]
     },
     "execution_count": 59,
     "metadata": {},
     "output_type": "execute_result"
    }
   ],
   "source": [
    "text = \"BEZPOŚREDNIO - centrum 63m2 klimatyczne i przestronne\"\n",
    "text.lower()"
   ]
  },
  {
   "cell_type": "code",
   "execution_count": 78,
   "metadata": {
    "collapsed": true
   },
   "outputs": [],
   "source": [
    "#import re\n",
    "patterns = [\".*bia.o.*\", \".*weso.*\", \".*rembert.*\", \".*pra.*\", \".*bem.*\", \".*wilan.*\", \".*targ.w.*\", \".*pra.*\"]\n",
    "for pattern in patterns:\n",
    "    if re.search(pattern, title.lower()):\n",
    "        break\n",
    "        print('got here')\n",
    "#print(match.group())\n",
    "#filter out: Bemow*, Wilan*, Targ*w, Weso*, Bia*o*, Pra*, Rembert*, "
   ]
  },
  {
   "cell_type": "code",
   "execution_count": 79,
   "metadata": {},
   "outputs": [
    {
     "data": {
      "text/plain": [
       "['.*bia.o.*',\n",
       " '.*weso.*',\n",
       " '.*rembert.*',\n",
       " '.*pra.*',\n",
       " '.*bem.*',\n",
       " '.*wilan.*',\n",
       " '.*targ.w.*',\n",
       " '.*pra.*']"
      ]
     },
     "execution_count": 79,
     "metadata": {},
     "output_type": "execute_result"
    }
   ],
   "source": [
    "patterns"
   ]
  },
  {
   "cell_type": "code",
   "execution_count": null,
   "metadata": {
    "collapsed": true
   },
   "outputs": [],
   "source": [
    "match = re.search(pattern, text.lower())\n",
    "\n",
    "print(match)"
   ]
  },
  {
   "cell_type": "code",
   "execution_count": 82,
   "metadata": {},
   "outputs": [
    {
     "name": "stdout",
     "output_type": "stream",
     "text": [
      "1\n"
     ]
    }
   ],
   "source": [
    "title = \"Fort Bema\"\n",
    "for pattern in patterns:\n",
    "    if re.search(pattern, title.lower()):\n",
    "        break\n",
    "        print('got here')\n",
    "print(1)\n",
    "    "
   ]
  },
  {
   "cell_type": "code",
   "execution_count": 29,
   "metadata": {},
   "outputs": [
    {
     "name": "stdout",
     "output_type": "stream",
     "text": [
      "{'ID': '397705277', 'DATES_PUBLISHED_ON': '13:01, 20 grudnia 2017', 'TIMES_SEEN': 'Wyświetleń:47', 'DATES_UPDATED_ON': None, 'DATES_AVAILABLE_FROM': None, 'OFERTA_OD': 'Biuro / Deweloper', 'UMEBLOWANE': 'Tak', 'RODZAJ_ZABUDOWY': 'Blok', 'POWIERZCHNIA': '58 m²', 'LICZBA_POKOI': '3 pokoje', 'CZYNSZ_(DODATKOWO)': '1 zł', 'DESCRIPTION': 'Trzypokojowe mieszkanie do wynajęcia, o powierzchni 58m2, piętro 14/15, 2005r. Mieszkanie znajduje się przy ulicy Pejzażowej, Mokotów. Doskonała lokalizacja, zaledwie 2 minuty pieszo metro Wilanowska. \\n\\r\\nMieszkanie składa się z salonu z aneksem kuchennym, dwóch sypialni, łazienki oraz przedpokoju. Jest nieumeblowane. Aneks kuchenny wyposażony w niezbędny sprzęt AGD. Łazienka z prysznicem i pralką. Dodatkową powierzchnię stanowi balkon.\\n\\r\\nCena: 2700zł + prąd, woda. Kaucja jednomiesięczna. Wolne od zaraz.\\n\\r\\nJednorazowa prowizja dla agencji: 500zł. Oglądanie bezpłatne.\\n\\r\\nwww.mardom-nieruchomosci.pl', 'META_DESCRIPTION': '2 700 zł: Trzypokojowe mieszkanie do wynajęcia, o powierzchni 58m2, piętro 14/15, 2005r. Mieszkanie znajduje się przy ulicy Pejzażowej, Mokotów. Doskonała lokalizacja, zaledwie 2 minuty pieszo metro Wilanowska....', 'CONTACT': ['message', 'phone']}\n"
     ]
    }
   ],
   "source": [
    "print(olx_detailed(ads[0]['URL']))"
   ]
  },
  {
   "cell_type": "code",
   "execution_count": 25,
   "metadata": {},
   "outputs": [
    {
     "name": "stdout",
     "output_type": "stream",
     "text": [
      "https://www.olx.pl/oferta/metro-wilanowska-3-pokoje-ul-pejzazowa-CID3-IDqUJjf.html#2df33b28db\n"
     ]
    }
   ],
   "source": [
    "print(ads[0]['URL'])"
   ]
  },
  {
   "cell_type": "code",
   "execution_count": 38,
   "metadata": {
    "collapsed": true
   },
   "outputs": [],
   "source": [
    "headers = { \"Accept\": \"*/*\", \"Accept-Encoding\":\"gzip, deflate, br\", \"User-Agent\": \"Mozilla/5.0 (X11; CrOS x86_64 9592.96.0) AppleWebKit/537.36 (KHTML, like Gecko) Chrome/60.0.3112.114 Safari/537.36\", \\\n",
    "\n",
    "           \"Accept-Language\":\"en-GB,en;q=0.8,en-US;q=0.6,pl;q=0.4\", \"Connection\":\"keep-alive\", \"Host\":\"www.otodom.pl\", \\\n",
    "           \"Origin\":\"https://www.otodom.pl\", \"Referer\": url, \"X-Requested-With\":\"XMLHttpRequest\", \\\n",
    "          \"Content-Type\":\"application/x-www-form-urlencoded; charset=UTF-8\"} #, \"Referer\":\"https://www.olx.pl/nieruchomosci/mieszkania/wynajem/warszawa/?search%5Bfilter_float_m%3Afrom%5D=50\" }'"
   ]
  },
  {
   "cell_type": "code",
   "execution_count": 30,
   "metadata": {},
   "outputs": [
    {
     "name": "stdout",
     "output_type": "stream",
     "text": [
      "{\"status\":\"error\",\"message\":\"Spr\\u00f3buj wykona\\u0107 operacj\\u0119 ponownie. Je\\u015bli to nie pomo\\u017ce, sprawd\\u017a czy masz w\\u0142\\u0105czon\\u0105 obs\\u0142ug\\u0119 JavaScript w przegl\\u0105darce.\"}\n",
      "1\n"
     ]
    }
   ],
   "source": [
    "req_post = requests.post(url=url_phone, data=data)\n",
    "soup_back = BeautifulSoup(req_post.text, \"html.parser\")\n",
    "print(soup_back)\n",
    "print(len(soup_back))"
   ]
  },
  {
   "cell_type": "code",
   "execution_count": 88,
   "metadata": {},
   "outputs": [
    {
     "data": {
      "text/plain": [
       "str"
      ]
     },
     "execution_count": 88,
     "metadata": {},
     "output_type": "execute_result"
    }
   ],
   "source": [
    "data = json.dumps(form)\n",
    "#data = json.loads(form)\n",
    "type(data)"
   ]
  },
  {
   "cell_type": "code",
   "execution_count": 80,
   "metadata": {
    "collapsed": true
   },
   "outputs": [],
   "source": [
    "response = requests.post(url=url_phone, data=json.loads(data))\n",
    "#return response.json()[1]['data']"
   ]
  },
  {
   "cell_type": "code",
   "execution_count": 81,
   "metadata": {},
   "outputs": [
    {
     "data": {
      "text/plain": [
       "{'message': 'Spróbuj wykonać operację ponownie. Jeśli to nie pomoże, sprawdź czy masz włączoną obsługę JavaScript w przeglądarce.',\n",
       " 'status': 'error'}"
      ]
     },
     "execution_count": 81,
     "metadata": {},
     "output_type": "execute_result"
    }
   ],
   "source": [
    "#import json\n",
    "response.json()#[\"value\"][0]\n"
   ]
  },
  {
   "cell_type": "code",
   "execution_count": 94,
   "metadata": {},
   "outputs": [
    {
     "data": {
      "text/plain": [
       "{\"status\":\"error\",\"message\":\"Spr\\u00f3buj wykona\\u0107 operacj\\u0119 ponownie. Je\\u015bli to nie pomo\\u017ce, sprawd\\u017a czy masz w\\u0142\\u0105czon\\u0105 obs\\u0142ug\\u0119 JavaScript w przegl\\u0105darce.\"}"
      ]
     },
     "execution_count": 94,
     "metadata": {},
     "output_type": "execute_result"
    }
   ],
   "source": [
    "form = {\"CSRFToken\":\"17474f2341360ecac76efc141f2a3de3e15f5903b9147db6fbff00a912ceb626\"}\n",
    "url_phone=\"https://www.otodom.pl/ajax/misc/contact/phone/3rKCU/\"\n",
    "type(form) # str\n",
    "r = requests.post(url=url_phone, data=json.dumps(form), headers={'X-Requested-With': 'XMLHttpRequest'})\n",
    "s = BeautifulSoup(r.text, \"html.parser\")\n",
    "s"
   ]
  },
  {
   "cell_type": "code",
   "execution_count": 92,
   "metadata": {},
   "outputs": [
    {
     "name": "stdout",
     "output_type": "stream",
     "text": [
      "{\"status\":\"error\",\"message\":\"Spr\\u00f3buj wykona\\u0107 operacj\\u0119 ponownie. Je\\u015bli to nie pomo\\u017ce, sprawd\\u017a czy masz w\\u0142\\u0105czon\\u0105 obs\\u0142ug\\u0119 JavaScript w przegl\\u0105darce.\"}\n"
     ]
    }
   ],
   "source": [
    "print(s)"
   ]
  }
 ],
 "metadata": {
  "kernelspec": {
   "display_name": "Python 3",
   "language": "python",
   "name": "python3"
  },
  "language_info": {
   "codemirror_mode": {
    "name": "ipython",
    "version": 3
   },
   "file_extension": ".py",
   "mimetype": "text/x-python",
   "name": "python",
   "nbconvert_exporter": "python",
   "pygments_lexer": "ipython3",
   "version": "3.6.1"
  }
 },
 "nbformat": 4,
 "nbformat_minor": 2
}
